{
 "cells": [
  {
   "cell_type": "code",
   "execution_count": 1,
   "metadata": {},
   "outputs": [
    {
     "name": "stderr",
     "output_type": "stream",
     "text": [
      "Using TensorFlow backend.\n"
     ]
    }
   ],
   "source": [
    "# Create your first MLP in Keras\n",
    "import keras\n",
    "from keras.models import Sequential\n",
    "from keras.layers import Dense, Dropout, Flatten, Activation\n",
    "from keras.layers import Embedding\n",
    "from keras.layers import Conv1D, GlobalAveragePooling1D, MaxPooling1D\n",
    "\n",
    "import os\n",
    "import numpy as np\n",
    "import matplotlib.pyplot as plt"
   ]
  },
  {
   "cell_type": "code",
   "execution_count": 2,
   "metadata": {},
   "outputs": [],
   "source": [
    "# fix random seed for reproducibility\n",
    "np.random.seed(1)"
   ]
  },
  {
   "cell_type": "code",
   "execution_count": 3,
   "metadata": {},
   "outputs": [],
   "source": [
    "dataset = np.loadtxt(\"train_en.txt\")\n",
    "# split into input (X) and output (Y) variables\n",
    "X = dataset[:,0:300]\n",
    "Y = dataset[:,300]\n",
    "Y = keras.utils.to_categorical(Y, num_classes=13)\n",
    "\n",
    "test_data = np.loadtxt(\"test_en.txt\")\n",
    "X_test = test_data[:,0:300]\n",
    "Y_test = test_data[:,300]\n",
    "Y_test = keras.utils.to_categorical(Y_test, num_classes=13)"
   ]
  },
  {
   "cell_type": "code",
   "execution_count": 4,
   "metadata": {},
   "outputs": [],
   "source": [
    "X = np.expand_dims(X, axis=2) # reshape (569, 30) to (569, 30, 1) \n",
    "X_test = np.expand_dims(X_test, axis=2) "
   ]
  },
  {
   "cell_type": "code",
   "execution_count": 5,
   "metadata": {},
   "outputs": [],
   "source": [
    "# # create model\n",
    "model = Sequential()\n",
    "model.add(Conv1D(32, 11, padding='valid', activation='softmax', strides=1, input_shape=(300, 1) ))\n",
    "model.add(Conv1D(32, 3, padding='valid', activation='softmax', strides=1) )\n",
    "model.add(MaxPooling1D())\n",
    "\n",
    "model.add(Conv1D(64, 3, padding='valid', activation='softmax', strides=1) )\n",
    "model.add(Conv1D(64, 3, padding='valid', activation='softmax', strides=1) )\n",
    "model.add(MaxPooling1D())\n",
    "\n",
    "\n",
    "model.add(Flatten())\n",
    "model.add(Dense(200, activation='softmax'))\n",
    "model.add(Dropout(0.5))\n",
    "model.add(Dense(13, activation='softmax'))\n",
    "\n",
    "model.compile(loss='categorical_crossentropy',\n",
    "              optimizer='sgd',\n",
    "              metrics=['accuracy'])"
   ]
  },
  {
   "cell_type": "code",
   "execution_count": 6,
   "metadata": {},
   "outputs": [
    {
     "name": "stdout",
     "output_type": "stream",
     "text": [
      "_________________________________________________________________\n",
      "Layer (type)                 Output Shape              Param #   \n",
      "=================================================================\n",
      "conv1d_1 (Conv1D)            (None, 290, 32)           384       \n",
      "_________________________________________________________________\n",
      "conv1d_2 (Conv1D)            (None, 288, 32)           3104      \n",
      "_________________________________________________________________\n",
      "max_pooling1d_1 (MaxPooling1 (None, 144, 32)           0         \n",
      "_________________________________________________________________\n",
      "conv1d_3 (Conv1D)            (None, 142, 64)           6208      \n",
      "_________________________________________________________________\n",
      "conv1d_4 (Conv1D)            (None, 140, 64)           12352     \n",
      "_________________________________________________________________\n",
      "max_pooling1d_2 (MaxPooling1 (None, 70, 64)            0         \n",
      "_________________________________________________________________\n",
      "flatten_1 (Flatten)          (None, 4480)              0         \n",
      "_________________________________________________________________\n",
      "dense_1 (Dense)              (None, 256)               1147136   \n",
      "_________________________________________________________________\n",
      "dropout_1 (Dropout)          (None, 256)               0         \n",
      "_________________________________________________________________\n",
      "dense_2 (Dense)              (None, 13)                3341      \n",
      "=================================================================\n",
      "Total params: 1,172,525\n",
      "Trainable params: 1,172,525\n",
      "Non-trainable params: 0\n",
      "_________________________________________________________________\n"
     ]
    }
   ],
   "source": [
    "model.summary()"
   ]
  },
  {
   "cell_type": "code",
   "execution_count": 7,
   "metadata": {},
   "outputs": [
    {
     "name": "stdout",
     "output_type": "stream",
     "text": [
      "Train on 31933 samples, validate on 7773 samples\n",
      "Epoch 1/40\n",
      "31933/31933 [==============================] - 71s - loss: 2.1915 - acc: 0.2134 - val_loss: 2.1266 - val_acc: 0.2187\n",
      "Epoch 2/40\n",
      "31933/31933 [==============================] - 70s - loss: 2.1659 - acc: 0.2139 - val_loss: 2.1229 - val_acc: 0.2241\n",
      "Epoch 3/40\n",
      "31933/31933 [==============================] - 71s - loss: 2.1623 - acc: 0.2162 - val_loss: 2.1162 - val_acc: 0.2190\n",
      "Epoch 4/40\n",
      "31933/31933 [==============================] - 71s - loss: 2.1608 - acc: 0.2104 - val_loss: 2.1175 - val_acc: 0.2187\n",
      "Epoch 5/40\n",
      "31933/31933 [==============================] - 71s - loss: 2.1588 - acc: 0.2125 - val_loss: 2.1179 - val_acc: 0.2199\n",
      "Epoch 6/40\n",
      "31933/31933 [==============================] - 70s - loss: 2.1577 - acc: 0.2138 - val_loss: 2.1170 - val_acc: 0.2438\n",
      "Epoch 7/40\n",
      "31933/31933 [==============================] - 70s - loss: 2.1565 - acc: 0.2162 - val_loss: 2.1157 - val_acc: 0.2187\n",
      "Epoch 8/40\n",
      "31933/31933 [==============================] - 71s - loss: 2.1517 - acc: 0.2162 - val_loss: 2.1194 - val_acc: 0.2403\n",
      "Epoch 9/40\n",
      "31933/31933 [==============================] - 72s - loss: 2.1408 - acc: 0.2184 - val_loss: 2.1094 - val_acc: 0.2509\n",
      "Epoch 10/40\n",
      "31933/31933 [==============================] - 72s - loss: 2.1168 - acc: 0.2322 - val_loss: 2.1106 - val_acc: 0.2592\n",
      "Epoch 11/40\n",
      "31933/31933 [==============================] - 72s - loss: 2.0892 - acc: 0.2553 - val_loss: 2.0877 - val_acc: 0.2619\n",
      "Epoch 12/40\n",
      "31933/31933 [==============================] - 71s - loss: 2.0584 - acc: 0.2803 - val_loss: 2.0805 - val_acc: 0.2682\n",
      "Epoch 13/40\n",
      "31933/31933 [==============================] - 72s - loss: 2.0319 - acc: 0.2919 - val_loss: 2.0558 - val_acc: 0.2743\n",
      "Epoch 14/40\n",
      "31933/31933 [==============================] - 72s - loss: 2.0132 - acc: 0.2993 - val_loss: 2.0762 - val_acc: 0.2700\n",
      "Epoch 15/40\n",
      "31933/31933 [==============================] - 73s - loss: 1.9985 - acc: 0.3039 - val_loss: 2.0381 - val_acc: 0.2851\n",
      "Epoch 16/40\n",
      "31933/31933 [==============================] - 72s - loss: 1.9873 - acc: 0.3096 - val_loss: 2.0377 - val_acc: 0.2797\n",
      "Epoch 17/40\n",
      "31933/31933 [==============================] - 72s - loss: 1.9725 - acc: 0.3137 - val_loss: 2.0740 - val_acc: 0.2828\n",
      "Epoch 18/40\n",
      "31933/31933 [==============================] - 73s - loss: 1.9609 - acc: 0.3160 - val_loss: 2.0482 - val_acc: 0.2935\n",
      "Epoch 19/40\n",
      "31933/31933 [==============================] - 72s - loss: 1.9529 - acc: 0.3206 - val_loss: 2.0677 - val_acc: 0.2802\n",
      "Epoch 20/40\n",
      "31933/31933 [==============================] - 73s - loss: 1.9425 - acc: 0.3221 - val_loss: 2.0515 - val_acc: 0.2866\n",
      "Epoch 21/40\n",
      "31933/31933 [==============================] - 72s - loss: 1.9307 - acc: 0.3274 - val_loss: 2.0190 - val_acc: 0.2960\n",
      "Epoch 22/40\n",
      "31933/31933 [==============================] - 72s - loss: 1.9200 - acc: 0.3309 - val_loss: 2.0718 - val_acc: 0.2878\n",
      "Epoch 23/40\n",
      "31933/31933 [==============================] - 70s - loss: 1.9106 - acc: 0.3338 - val_loss: 2.0499 - val_acc: 0.2860\n",
      "Epoch 24/40\n",
      "31933/31933 [==============================] - 44s - loss: 1.8988 - acc: 0.3365 - val_loss: 2.0934 - val_acc: 0.2919\n",
      "Epoch 25/40\n",
      "31933/31933 [==============================] - 44s - loss: 1.8851 - acc: 0.3400 - val_loss: 2.0486 - val_acc: 0.2883\n",
      "Epoch 26/40\n",
      "31933/31933 [==============================] - 44s - loss: 1.8762 - acc: 0.3385 - val_loss: 2.0557 - val_acc: 0.2898\n",
      "Epoch 27/40\n",
      "31933/31933 [==============================] - 43s - loss: 1.8648 - acc: 0.3468 - val_loss: 2.0570 - val_acc: 0.2960\n",
      "Epoch 28/40\n",
      "31933/31933 [==============================] - 44s - loss: 1.8467 - acc: 0.3489 - val_loss: 2.0741 - val_acc: 0.2825\n",
      "Epoch 29/40\n",
      "31933/31933 [==============================] - 44s - loss: 1.8344 - acc: 0.3526 - val_loss: 2.0741 - val_acc: 0.2991\n",
      "Epoch 30/40\n",
      "31933/31933 [==============================] - 44s - loss: 1.8140 - acc: 0.3573 - val_loss: 2.1049 - val_acc: 0.2814\n",
      "Epoch 31/40\n",
      "31933/31933 [==============================] - 44s - loss: 1.7978 - acc: 0.3648 - val_loss: 2.0928 - val_acc: 0.2819\n",
      "Epoch 32/40\n",
      "31933/31933 [==============================] - 44s - loss: 1.7773 - acc: 0.3699 - val_loss: 2.1170 - val_acc: 0.2929\n",
      "Epoch 33/40\n",
      "31933/31933 [==============================] - 43s - loss: 1.7610 - acc: 0.3733 - val_loss: 2.1221 - val_acc: 0.2947\n",
      "Epoch 34/40\n",
      "31933/31933 [==============================] - 44s - loss: 1.7353 - acc: 0.3854 - val_loss: 2.1335 - val_acc: 0.2824\n",
      "Epoch 35/40\n",
      "31933/31933 [==============================] - 44s - loss: 1.7122 - acc: 0.3919 - val_loss: 2.1985 - val_acc: 0.2789\n",
      "Epoch 36/40\n",
      "31933/31933 [==============================] - 46s - loss: 1.6910 - acc: 0.3951 - val_loss: 2.1492 - val_acc: 0.2864\n",
      "Epoch 37/40\n",
      "31933/31933 [==============================] - 73s - loss: 1.6610 - acc: 0.4067 - val_loss: 2.2062 - val_acc: 0.2790\n",
      "Epoch 38/40\n",
      "31933/31933 [==============================] - 73s - loss: 1.6389 - acc: 0.4143 - val_loss: 2.2300 - val_acc: 0.2776\n",
      "Epoch 39/40\n",
      "31933/31933 [==============================] - 73s - loss: 1.6102 - acc: 0.4229 - val_loss: 2.1513 - val_acc: 0.2817\n",
      "Epoch 40/40\n",
      "31933/31933 [==============================] - 73s - loss: 1.5791 - acc: 0.4345 - val_loss: 2.2984 - val_acc: 0.2823\n",
      "31872/31933 [============================>.] - ETA: 0s\n",
      "acc: 49.51%\n"
     ]
    }
   ],
   "source": [
    "# Fit the model 1\n",
    "history = model.fit(X, Y, epochs=40, batch_size=10,\n",
    "          validation_data=(X_test, Y_test))\n",
    "# evaluate the model\n",
    "scores = model.evaluate(X, Y)\n",
    "print(\"\\n%s: %.2f%%\" % (model.metrics_names[1], scores[1]*100))"
   ]
  },
  {
   "cell_type": "code",
   "execution_count": 8,
   "metadata": {},
   "outputs": [
    {
     "name": "stdout",
     "output_type": "stream",
     "text": [
      "dict_keys(['acc', 'val_acc', 'val_loss', 'loss'])\n"
     ]
    },
    {
     "data": {
      "image/png": "[encoded data removed]",
      "text/plain": [
       "<matplotlib.figure.Figure at 0x7facfd7e3da0>"
      ]
     },
     "metadata": {},
     "output_type": "display_data"
    },
    {
     "data": {
      "image/png": "[encoded data removed]",
      "text/plain": [
       "<matplotlib.figure.Figure at 0x7facfd7f2e10>"
      ]
     },
     "metadata": {},
     "output_type": "display_data"
    }
   ],
   "source": [
    "print(history.history.keys())\n",
    "#  \"Accuracy\"\n",
    "plt.plot(history.history['acc'])\n",
    "plt.plot(history.history['val_acc'])\n",
    "plt.title('model accuracy')\n",
    "plt.ylabel('accuracy')\n",
    "plt.xlabel('epoch')\n",
    "plt.legend(['train', 'validation'], loc='upper left')\n",
    "plt.show()\n",
    "\n",
    "# \"Loss\"\n",
    "plt.plot(history.history['loss'])\n",
    "plt.plot(history.history['val_loss'])\n",
    "plt.title('model loss')\n",
    "plt.ylabel('loss')\n",
    "plt.xlabel('epoch')\n",
    "plt.legend(['train', 'validation'], loc='upper left')\n",
    "plt.show()"
   ]
  },
  {
   "cell_type": "code",
   "execution_count": null,
   "metadata": {},
   "outputs": [],
   "source": []
  }
 ],
 "metadata": {
  "kernelspec": {
   "display_name": "Python 3",
   "language": "python",
   "name": "python3"
  },
  "language_info": {
   "codemirror_mode": {
    "name": "ipython",
    "version": 3
   },
   "file_extension": ".py",
   "mimetype": "text/x-python",
   "name": "python",
   "nbconvert_exporter": "python",
   "pygments_lexer": "ipython3",
   "version": "3.5.2"
  }
 },
 "nbformat": 4,
 "nbformat_minor": 2
}
