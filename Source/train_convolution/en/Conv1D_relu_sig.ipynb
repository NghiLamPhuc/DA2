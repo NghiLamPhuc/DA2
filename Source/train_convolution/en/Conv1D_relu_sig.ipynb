{
 "cells": [
  {
   "cell_type": "code",
   "execution_count": 1,
   "metadata": {},
   "outputs": [
    {
     "name": "stderr",
     "output_type": "stream",
     "text": [
      "Using TensorFlow backend.\n"
     ]
    }
   ],
   "source": [
    "# Create your first MLP in Keras\n",
    "import keras\n",
    "from keras.models import Sequential\n",
    "from keras.layers import Dense, Dropout, Flatten, Activation\n",
    "from keras.layers import Embedding\n",
    "from keras.layers import Conv1D, GlobalAveragePooling1D, MaxPooling1D\n",
    "\n",
    "import os\n",
    "import numpy as np\n",
    "import matplotlib.pyplot as plt"
   ]
  },
  {
   "cell_type": "code",
   "execution_count": 2,
   "metadata": {},
   "outputs": [],
   "source": [
    "# fix random seed for reproducibility\n",
    "np.random.seed(1)"
   ]
  },
  {
   "cell_type": "code",
   "execution_count": 3,
   "metadata": {},
   "outputs": [],
   "source": [
    "dataset = np.loadtxt(\"train_en.txt\")\n",
    "# split into input (X) and output (Y) variables\n",
    "X = dataset[:,0:300]\n",
    "Y = dataset[:,300]\n",
    "Y = keras.utils.to_categorical(Y, num_classes=13)\n",
    "\n",
    "test_data = np.loadtxt(\"test_en.txt\")\n",
    "X_test = test_data[:,0:300]\n",
    "Y_test = test_data[:,300]\n",
    "Y_test = keras.utils.to_categorical(Y_test, num_classes=13)"
   ]
  },
  {
   "cell_type": "code",
   "execution_count": 4,
   "metadata": {},
   "outputs": [],
   "source": [
    "X = np.expand_dims(X, axis=2) # reshape (569, 30) to (569, 30, 1) \n",
    "X_test = np.expand_dims(X_test, axis=2) "
   ]
  },
  {
   "cell_type": "code",
   "execution_count": 5,
   "metadata": {},
   "outputs": [],
   "source": [
    "# create model\n",
    "model = Sequential()\n",
    "model.add(Conv1D(32, 3, activation='relu', input_shape=(300, 1) ))\n",
    "model.add(Conv1D(32, 3, activation='relu') )\n",
    "model.add(MaxPooling1D())\n",
    "\n",
    "model.add(Conv1D(64, 3 activation='relu', strides=1) )\n",
    "model.add(Conv1D(64, 3, activation='relu', strides=1) )\n",
    "model.add(MaxPooling1D())\n",
    "\n",
    "\n",
    "model.add(Flatten())\n",
    "model.add(Dense(100, activation='relu'))\n",
    "model.add(Dropout(0.5))\n",
    "model.add(Dense(13, activation='sigmoid'))\n",
    "\n",
    "model.compile(loss='categorical_crossentropy',\n",
    "              optimizer='sgd',\n",
    "              metrics=['accuracy'])"
   ]
  },
  {
   "cell_type": "code",
   "execution_count": 6,
   "metadata": {},
   "outputs": [
    {
     "name": "stdout",
     "output_type": "stream",
     "text": [
      "_________________________________________________________________\n",
      "Layer (type)                 Output Shape              Param #   \n",
      "=================================================================\n",
      "conv1d_1 (Conv1D)            (None, 298, 32)           128       \n",
      "_________________________________________________________________\n",
      "conv1d_2 (Conv1D)            (None, 296, 32)           3104      \n",
      "_________________________________________________________________\n",
      "max_pooling1d_1 (MaxPooling1 (None, 148, 32)           0         \n",
      "_________________________________________________________________\n",
      "conv1d_3 (Conv1D)            (None, 146, 64)           6208      \n",
      "_________________________________________________________________\n",
      "conv1d_4 (Conv1D)            (None, 144, 64)           12352     \n",
      "_________________________________________________________________\n",
      "max_pooling1d_2 (MaxPooling1 (None, 72, 64)            0         \n",
      "_________________________________________________________________\n",
      "flatten_1 (Flatten)          (None, 4608)              0         \n",
      "_________________________________________________________________\n",
      "dense_1 (Dense)              (None, 200)               921800    \n",
      "_________________________________________________________________\n",
      "dropout_1 (Dropout)          (None, 200)               0         \n",
      "_________________________________________________________________\n",
      "dense_2 (Dense)              (None, 13)                2613      \n",
      "=================================================================\n",
      "Total params: 946,205\n",
      "Trainable params: 946,205\n",
      "Non-trainable params: 0\n",
      "_________________________________________________________________\n"
     ]
    }
   ],
   "source": [
    "model.summary()"
   ]
  },
  {
   "cell_type": "code",
   "execution_count": 7,
   "metadata": {},
   "outputs": [
    {
     "name": "stdout",
     "output_type": "stream",
     "text": [
      "Train on 31933 samples, validate on 7773 samples\n",
      "Epoch 1/50\n",
      "31933/31933 [==============================] - 63s - loss: 2.2007 - acc: 0.2133 - val_loss: 2.1263 - val_acc: 0.2186\n",
      "Epoch 2/50\n",
      "31933/31933 [==============================] - 63s - loss: 2.1668 - acc: 0.2136 - val_loss: 2.1245 - val_acc: 0.2186\n",
      "Epoch 3/50\n",
      "31933/31933 [==============================] - 63s - loss: 2.1651 - acc: 0.2109 - val_loss: 2.1190 - val_acc: 0.2190\n",
      "Epoch 4/50\n",
      "31933/31933 [==============================] - 68s - loss: 2.1622 - acc: 0.2116 - val_loss: 2.1188 - val_acc: 0.2186\n",
      "Epoch 5/50\n",
      "31933/31933 [==============================] - 64s - loss: 2.1616 - acc: 0.2118 - val_loss: 2.1194 - val_acc: 0.2187\n",
      "Epoch 6/50\n",
      "31933/31933 [==============================] - 66s - loss: 2.1578 - acc: 0.2095 - val_loss: 2.1173 - val_acc: 0.2187\n",
      "Epoch 7/50\n",
      "31933/31933 [==============================] - 74s - loss: 2.1564 - acc: 0.2106 - val_loss: 2.1157 - val_acc: 0.2193\n",
      "Epoch 8/50\n",
      "31933/31933 [==============================] - 88s - loss: 2.1483 - acc: 0.2145 - val_loss: 2.1182 - val_acc: 0.2329\n",
      "Epoch 9/50\n",
      "31933/31933 [==============================] - 62s - loss: 2.1324 - acc: 0.2206 - val_loss: 2.1090 - val_acc: 0.2392\n",
      "Epoch 10/50\n",
      "31933/31933 [==============================] - 61s - loss: 2.1154 - acc: 0.2342 - val_loss: 2.1095 - val_acc: 0.2498\n",
      "Epoch 11/50\n",
      "31933/31933 [==============================] - 66s - loss: 2.0920 - acc: 0.2605 - val_loss: 2.0837 - val_acc: 0.2615\n",
      "Epoch 12/50\n",
      "31933/31933 [==============================] - 67s - loss: 2.0698 - acc: 0.2779 - val_loss: 2.0766 - val_acc: 0.2715\n",
      "Epoch 13/50\n",
      "31933/31933 [==============================] - 70s - loss: 2.0473 - acc: 0.2838 - val_loss: 2.0600 - val_acc: 0.2767\n",
      "Epoch 14/50\n",
      "31933/31933 [==============================] - 67s - loss: 2.0285 - acc: 0.2928 - val_loss: 2.0742 - val_acc: 0.2697\n",
      "Epoch 15/50\n",
      "31933/31933 [==============================] - 69s - loss: 2.0159 - acc: 0.2967 - val_loss: 2.0405 - val_acc: 0.2825\n",
      "Epoch 16/50\n",
      "31933/31933 [==============================] - 67s - loss: 2.0022 - acc: 0.3069 - val_loss: 2.0340 - val_acc: 0.2862\n",
      "Epoch 17/50\n",
      "31933/31933 [==============================] - 66s - loss: 1.9898 - acc: 0.3076 - val_loss: 2.0598 - val_acc: 0.2839\n",
      "Epoch 18/50\n",
      "31933/31933 [==============================] - 67s - loss: 1.9766 - acc: 0.3142 - val_loss: 2.0439 - val_acc: 0.2859\n",
      "Epoch 19/50\n",
      "31933/31933 [==============================] - 68s - loss: 1.9660 - acc: 0.3144 - val_loss: 2.0606 - val_acc: 0.2744\n",
      "Epoch 20/50\n",
      "31933/31933 [==============================] - 67s - loss: 1.9559 - acc: 0.3187 - val_loss: 2.0453 - val_acc: 0.2874\n",
      "Epoch 21/50\n",
      "31933/31933 [==============================] - 67s - loss: 1.9442 - acc: 0.3199 - val_loss: 2.0376 - val_acc: 0.2884\n",
      "Epoch 22/50\n",
      "31933/31933 [==============================] - 67s - loss: 1.9334 - acc: 0.3242 - val_loss: 2.0734 - val_acc: 0.2826\n",
      "Epoch 23/50\n",
      "31933/31933 [==============================] - 67s - loss: 1.9223 - acc: 0.3294 - val_loss: 2.0623 - val_acc: 0.2861\n",
      "Epoch 24/50\n",
      "31933/31933 [==============================] - 67s - loss: 1.9142 - acc: 0.3307 - val_loss: 2.0952 - val_acc: 0.2851\n",
      "Epoch 25/50\n",
      "31933/31933 [==============================] - 68s - loss: 1.8979 - acc: 0.3317 - val_loss: 2.0437 - val_acc: 0.2918\n",
      "Epoch 26/50\n",
      "31933/31933 [==============================] - 67s - loss: 1.8857 - acc: 0.3367 - val_loss: 2.0448 - val_acc: 0.2901\n",
      "Epoch 27/50\n",
      "31933/31933 [==============================] - 66s - loss: 1.8779 - acc: 0.3417 - val_loss: 2.0411 - val_acc: 0.2945\n",
      "Epoch 28/50\n",
      "31933/31933 [==============================] - 66s - loss: 1.8616 - acc: 0.3426 - val_loss: 2.0431 - val_acc: 0.2911\n",
      "Epoch 29/50\n",
      "31933/31933 [==============================] - 67s - loss: 1.8423 - acc: 0.3507 - val_loss: 2.0431 - val_acc: 0.2940\n",
      "Epoch 30/50\n",
      "31933/31933 [==============================] - 68s - loss: 1.8281 - acc: 0.3510 - val_loss: 2.0999 - val_acc: 0.2879\n",
      "Epoch 31/50\n",
      "31933/31933 [==============================] - 68s - loss: 1.8115 - acc: 0.3572 - val_loss: 2.0812 - val_acc: 0.2892\n",
      "Epoch 32/50\n",
      "31933/31933 [==============================] - 69s - loss: 1.7939 - acc: 0.3641 - val_loss: 2.0871 - val_acc: 0.2920\n",
      "Epoch 33/50\n",
      "31933/31933 [==============================] - 67s - loss: 1.7734 - acc: 0.3693 - val_loss: 2.1015 - val_acc: 0.2879\n",
      "Epoch 34/50\n",
      "31933/31933 [==============================] - 68s - loss: 1.7541 - acc: 0.3738 - val_loss: 2.1096 - val_acc: 0.2709\n",
      "Epoch 35/50\n",
      "31933/31933 [==============================] - 69s - loss: 1.7284 - acc: 0.3803 - val_loss: 2.2001 - val_acc: 0.2753\n",
      "Epoch 36/50\n",
      "31933/31933 [==============================] - 68s - loss: 1.7053 - acc: 0.3874 - val_loss: 2.1509 - val_acc: 0.2847\n",
      "Epoch 37/50\n",
      "31933/31933 [==============================] - 68s - loss: 1.6848 - acc: 0.3982 - val_loss: 2.1721 - val_acc: 0.2794\n",
      "Epoch 38/50\n",
      "31933/31933 [==============================] - 68s - loss: 1.6544 - acc: 0.4045 - val_loss: 2.1807 - val_acc: 0.2793\n",
      "Epoch 39/50\n",
      "31933/31933 [==============================] - 68s - loss: 1.6274 - acc: 0.4148 - val_loss: 2.2207 - val_acc: 0.2727\n",
      "Epoch 40/50\n",
      "31933/31933 [==============================] - 68s - loss: 1.5984 - acc: 0.4226 - val_loss: 2.3172 - val_acc: 0.2814\n",
      "Epoch 41/50\n",
      "31933/31933 [==============================] - 68s - loss: 1.5673 - acc: 0.4335 - val_loss: 2.3040 - val_acc: 0.2735\n",
      "Epoch 42/50\n",
      "31933/31933 [==============================] - 68s - loss: 1.5374 - acc: 0.4432 - val_loss: 2.3709 - val_acc: 0.2596\n",
      "Epoch 43/50\n",
      "31933/31933 [==============================] - 68s - loss: 1.5114 - acc: 0.4517 - val_loss: 2.3487 - val_acc: 0.2793\n",
      "Epoch 44/50\n",
      "31933/31933 [==============================] - 68s - loss: 1.4816 - acc: 0.4628 - val_loss: 2.4295 - val_acc: 0.2794\n",
      "Epoch 45/50\n",
      "31933/31933 [==============================] - 68s - loss: 1.4470 - acc: 0.4763 - val_loss: 2.4065 - val_acc: 0.2626\n",
      "Epoch 46/50\n",
      "31933/31933 [==============================] - 69s - loss: 1.4281 - acc: 0.4814 - val_loss: 2.4624 - val_acc: 0.2639\n",
      "Epoch 47/50\n",
      "31933/31933 [==============================] - 67s - loss: 1.3967 - acc: 0.4918 - val_loss: 2.4951 - val_acc: 0.2563\n",
      "Epoch 48/50\n",
      "31933/31933 [==============================] - 67s - loss: 1.3670 - acc: 0.5020 - val_loss: 2.4887 - val_acc: 0.2617\n",
      "Epoch 49/50\n",
      "31933/31933 [==============================] - 69s - loss: 1.3411 - acc: 0.5105 - val_loss: 2.5435 - val_acc: 0.2695\n",
      "Epoch 50/50\n",
      "31933/31933 [==============================] - 68s - loss: 1.3051 - acc: 0.5228 - val_loss: 2.7159 - val_acc: 0.2624\n",
      "31933/31933 [==============================] - 13s    \n",
      "\n",
      "acc: 63.87%\n"
     ]
    }
   ],
   "source": [
    "# Fit the model \n",
    "history = model.fit(X, Y, epochs=50, batch_size=10,\n",
    "          validation_data=(X_test, Y_test))\n",
    "# evaluate the model\n",
    "scores = model.evaluate(X, Y)\n",
    "print(\"\\n%s: %.2f%%\" % (model.metrics_names[1], scores[1]*100))"
   ]
  },
  {
   "cell_type": "code",
   "execution_count": 8,
   "metadata": {},
   "outputs": [
    {
     "name": "stdout",
     "output_type": "stream",
     "text": [
      "dict_keys(['val_acc', 'val_loss', 'loss', 'acc'])\n"
     ]
    },
    {
     "data": {
      "image/png": "[encoded data removed]",
      "text/plain": [
       "<matplotlib.figure.Figure at 0x7ff706e15da0>"
      ]
     },
     "metadata": {},
     "output_type": "display_data"
    },
    {
     "data": {
      "image/png": "[encoded data removed]",
      "text/plain": [
       "<matplotlib.figure.Figure at 0x7ff706e654a8>"
      ]
     },
     "metadata": {},
     "output_type": "display_data"
    }
   ],
   "source": [
    "print(history.history.keys())\n",
    "#  \"Accuracy\"\n",
    "plt.plot(history.history['acc'])\n",
    "plt.plot(history.history['val_acc'])\n",
    "plt.title('model accuracy')\n",
    "plt.ylabel('accuracy')\n",
    "plt.xlabel('epoch')\n",
    "plt.legend(['train', 'validation'], loc='upper left')\n",
    "plt.show()\n",
    "\n",
    "# \"Loss\"\n",
    "plt.plot(history.history['loss'])\n",
    "plt.plot(history.history['val_loss'])\n",
    "plt.title('model loss')\n",
    "plt.ylabel('loss')\n",
    "plt.xlabel('epoch')\n",
    "plt.legend(['train', 'validation'], loc='upper left')\n",
    "plt.show()"
   ]
  },
  {
   "cell_type": "code",
   "execution_count": null,
   "metadata": {},
   "outputs": [],
   "source": []
  }
 ],
 "metadata": {
  "kernelspec": {
   "display_name": "Python 3",
   "language": "python",
   "name": "python3"
  },
  "language_info": {
   "codemirror_mode": {
    "name": "ipython",
    "version": 3
   },
   "file_extension": ".py",
   "mimetype": "text/x-python",
   "name": "python",
   "nbconvert_exporter": "python",
   "pygments_lexer": "ipython3",
   "version": "3.5.2"
  }
 },
 "nbformat": 4,
 "nbformat_minor": 2
}
