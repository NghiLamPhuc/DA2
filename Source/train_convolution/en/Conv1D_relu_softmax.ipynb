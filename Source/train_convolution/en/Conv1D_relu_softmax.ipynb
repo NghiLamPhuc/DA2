{
 "cells": [
  {
   "cell_type": "code",
   "execution_count": 1,
   "metadata": {},
   "outputs": [
    {
     "name": "stderr",
     "output_type": "stream",
     "text": [
      "Using TensorFlow backend.\n"
     ]
    }
   ],
   "source": [
    "# Create your first MLP in Keras\n",
    "import keras\n",
    "from keras.models import Sequential\n",
    "from keras.layers import Dense, Dropout, Flatten, Activation\n",
    "from keras.layers import Embedding\n",
    "from keras.layers import Conv1D, GlobalAveragePooling1D, MaxPooling1D\n",
    "\n",
    "import os\n",
    "import numpy as np\n",
    "import matplotlib.pyplot as plt"
   ]
  },
  {
   "cell_type": "code",
   "execution_count": 2,
   "metadata": {},
   "outputs": [],
   "source": [
    "# fix random seed for reproducibility\n",
    "np.random.seed(1)"
   ]
  },
  {
   "cell_type": "code",
   "execution_count": 3,
   "metadata": {},
   "outputs": [],
   "source": [
    "dataset = np.loadtxt(\"train_en.txt\")\n",
    "# split into input (X) and output (Y) variables\n",
    "X = dataset[:,0:300]\n",
    "Y = dataset[:,300]\n",
    "Y = keras.utils.to_categorical(Y, num_classes=13)\n",
    "\n",
    "test_data = np.loadtxt(\"test_en.txt\")\n",
    "X_test = test_data[:,0:300]\n",
    "Y_test = test_data[:,300]\n",
    "Y_test = keras.utils.to_categorical(Y_test, num_classes=13)"
   ]
  },
  {
   "cell_type": "code",
   "execution_count": 4,
   "metadata": {},
   "outputs": [],
   "source": [
    "X = np.expand_dims(X, axis=2) # reshape (569, 30) to (569, 30, 1) \n",
    "X_test = np.expand_dims(X_test, axis=2) "
   ]
  },
  {
   "cell_type": "code",
   "execution_count": 5,
   "metadata": {},
   "outputs": [],
   "source": [
    "# # create model\n",
    "model = Sequential()\n",
    "model.add(Conv1D(32, 11, padding='valid', activation='relu', strides=1, input_shape=(300, 1) ))\n",
    "model.add(Conv1D(32, 3, padding='valid', activation='relu', strides=1) )\n",
    "model.add(MaxPooling1D())\n",
    "\n",
    "model.add(Conv1D(64, 3, padding='valid', activation='relu', strides=1) )\n",
    "model.add(Conv1D(64, 3, padding='valid', activation='relu', strides=1) )\n",
    "model.add(MaxPooling1D())\n",
    "\n",
    "\n",
    "model.add(Flatten())\n",
    "model.add(Dense(200, activation='relu'))\n",
    "model.add(Dropout(0.5))\n",
    "model.add(Dense(13, activation='softmax'))\n",
    "\n",
    "model.compile(loss='categorical_crossentropy',\n",
    "              optimizer='sgd',\n",
    "              metrics=['accuracy'])"
   ]
  },
  {
   "cell_type": "code",
   "execution_count": 6,
   "metadata": {},
   "outputs": [
    {
     "name": "stdout",
     "output_type": "stream",
     "text": [
      "_________________________________________________________________\n",
      "Layer (type)                 Output Shape              Param #   \n",
      "=================================================================\n",
      "conv1d_1 (Conv1D)            (None, 290, 32)           384       \n",
      "_________________________________________________________________\n",
      "conv1d_2 (Conv1D)            (None, 288, 32)           3104      \n",
      "_________________________________________________________________\n",
      "max_pooling1d_1 (MaxPooling1 (None, 144, 32)           0         \n",
      "_________________________________________________________________\n",
      "conv1d_3 (Conv1D)            (None, 142, 64)           6208      \n",
      "_________________________________________________________________\n",
      "conv1d_4 (Conv1D)            (None, 140, 64)           12352     \n",
      "_________________________________________________________________\n",
      "max_pooling1d_2 (MaxPooling1 (None, 70, 64)            0         \n",
      "_________________________________________________________________\n",
      "flatten_1 (Flatten)          (None, 4480)              0         \n",
      "_________________________________________________________________\n",
      "dense_1 (Dense)              (None, 200)               896200    \n",
      "_________________________________________________________________\n",
      "dropout_1 (Dropout)          (None, 200)               0         \n",
      "_________________________________________________________________\n",
      "dense_2 (Dense)              (None, 13)                2613      \n",
      "=================================================================\n",
      "Total params: 920,861\n",
      "Trainable params: 920,861\n",
      "Non-trainable params: 0\n",
      "_________________________________________________________________\n"
     ]
    }
   ],
   "source": [
    "model.summary()"
   ]
  },
  {
   "cell_type": "code",
   "execution_count": 7,
   "metadata": {},
   "outputs": [
    {
     "name": "stdout",
     "output_type": "stream",
     "text": [
      "Train on 31933 samples, validate on 7773 samples\n",
      "Epoch 1/50\n",
      "31933/31933 [==============================] - 95s - loss: 2.1884 - acc: 0.2137 - val_loss: 2.1246 - val_acc: 0.2187\n",
      "Epoch 2/50\n",
      "31933/31933 [==============================] - 62s - loss: 2.1603 - acc: 0.2205 - val_loss: 2.1225 - val_acc: 0.2502\n",
      "Epoch 3/50\n",
      "31933/31933 [==============================] - 62s - loss: 2.1464 - acc: 0.2380 - val_loss: 2.1078 - val_acc: 0.2514\n",
      "Epoch 4/50\n",
      "31933/31933 [==============================] - 64s - loss: 2.1117 - acc: 0.2600 - val_loss: 2.0866 - val_acc: 0.2592\n",
      "Epoch 5/50\n",
      "31933/31933 [==============================] - 67s - loss: 2.0796 - acc: 0.2734 - val_loss: 2.0747 - val_acc: 0.2675\n",
      "Epoch 6/50\n",
      "31933/31933 [==============================] - 69s - loss: 2.0474 - acc: 0.2894 - val_loss: 2.0504 - val_acc: 0.2752\n",
      "Epoch 7/50\n",
      "31933/31933 [==============================] - 68s - loss: 2.0228 - acc: 0.2957 - val_loss: 2.1002 - val_acc: 0.2650\n",
      "Epoch 8/50\n",
      "31933/31933 [==============================] - 68s - loss: 2.0039 - acc: 0.3058 - val_loss: 2.0428 - val_acc: 0.2807\n",
      "Epoch 9/50\n",
      "31933/31933 [==============================] - 68s - loss: 1.9887 - acc: 0.3120 - val_loss: 2.0697 - val_acc: 0.2811\n",
      "Epoch 10/50\n",
      "31933/31933 [==============================] - 67s - loss: 1.9758 - acc: 0.3143 - val_loss: 2.0291 - val_acc: 0.2915\n",
      "Epoch 11/50\n",
      "31933/31933 [==============================] - 67s - loss: 1.9641 - acc: 0.3209 - val_loss: 2.0484 - val_acc: 0.2853\n",
      "Epoch 12/50\n",
      "31933/31933 [==============================] - 68s - loss: 1.9540 - acc: 0.3210 - val_loss: 2.0424 - val_acc: 0.2852\n",
      "Epoch 13/50\n",
      "31933/31933 [==============================] - 66s - loss: 1.9424 - acc: 0.3257 - val_loss: 2.0285 - val_acc: 0.2898\n",
      "Epoch 14/50\n",
      "31933/31933 [==============================] - 66s - loss: 1.9311 - acc: 0.3288 - val_loss: 2.0725 - val_acc: 0.2761\n",
      "Epoch 15/50\n",
      "31933/31933 [==============================] - 67s - loss: 1.9169 - acc: 0.3359 - val_loss: 2.0291 - val_acc: 0.2949\n",
      "Epoch 16/50\n",
      "31933/31933 [==============================] - 66s - loss: 1.9095 - acc: 0.3383 - val_loss: 2.0154 - val_acc: 0.2915\n",
      "Epoch 17/50\n",
      "31933/31933 [==============================] - 66s - loss: 1.9005 - acc: 0.3401 - val_loss: 2.0938 - val_acc: 0.2828\n",
      "Epoch 18/50\n",
      "31933/31933 [==============================] - 69s - loss: 1.8843 - acc: 0.3453 - val_loss: 2.0553 - val_acc: 0.2789\n",
      "Epoch 19/50\n",
      "31933/31933 [==============================] - 67s - loss: 1.8746 - acc: 0.3479 - val_loss: 2.0705 - val_acc: 0.2866\n",
      "Epoch 20/50\n",
      "31933/31933 [==============================] - 67s - loss: 1.8582 - acc: 0.3516 - val_loss: 2.0598 - val_acc: 0.2874\n",
      "Epoch 21/50\n",
      "31933/31933 [==============================] - 67s - loss: 1.8445 - acc: 0.3584 - val_loss: 2.0466 - val_acc: 0.2924\n",
      "Epoch 22/50\n",
      "31933/31933 [==============================] - 67s - loss: 1.8295 - acc: 0.3644 - val_loss: 2.0727 - val_acc: 0.2843\n",
      "Epoch 23/50\n",
      "31933/31933 [==============================] - 68s - loss: 1.8088 - acc: 0.3689 - val_loss: 2.0943 - val_acc: 0.2796\n",
      "Epoch 24/50\n",
      "31933/31933 [==============================] - 67s - loss: 1.7937 - acc: 0.3758 - val_loss: 2.1316 - val_acc: 0.2781\n",
      "Epoch 25/50\n",
      "31933/31933 [==============================] - 67s - loss: 1.7704 - acc: 0.3822 - val_loss: 2.0912 - val_acc: 0.2825\n",
      "Epoch 26/50\n",
      "31933/31933 [==============================] - 67s - loss: 1.7521 - acc: 0.3879 - val_loss: 2.0837 - val_acc: 0.2805\n",
      "Epoch 27/50\n",
      "31933/31933 [==============================] - 66s - loss: 1.7302 - acc: 0.3997 - val_loss: 2.1331 - val_acc: 0.2731\n",
      "Epoch 28/50\n",
      "31933/31933 [==============================] - 68s - loss: 1.7020 - acc: 0.4035 - val_loss: 2.1280 - val_acc: 0.2711\n",
      "Epoch 29/50\n",
      "31933/31933 [==============================] - 68s - loss: 1.6740 - acc: 0.4131 - val_loss: 2.1285 - val_acc: 0.2811\n",
      "Epoch 30/50\n",
      "31933/31933 [==============================] - 67s - loss: 1.6468 - acc: 0.4231 - val_loss: 2.1841 - val_acc: 0.2754\n",
      "Epoch 31/50\n",
      "31933/31933 [==============================] - 67s - loss: 1.6181 - acc: 0.4360 - val_loss: 2.1807 - val_acc: 0.2691\n",
      "Epoch 32/50\n",
      "31933/31933 [==============================] - 67s - loss: 1.5892 - acc: 0.4438 - val_loss: 2.2227 - val_acc: 0.2659\n",
      "Epoch 33/50\n",
      "31933/31933 [==============================] - 67s - loss: 1.5579 - acc: 0.4498 - val_loss: 2.2648 - val_acc: 0.2749\n",
      "Epoch 34/50\n",
      "31933/31933 [==============================] - 68s - loss: 1.5242 - acc: 0.4665 - val_loss: 2.2490 - val_acc: 0.2613\n",
      "Epoch 35/50\n",
      "31933/31933 [==============================] - 67s - loss: 1.4921 - acc: 0.4789 - val_loss: 2.3221 - val_acc: 0.2658\n",
      "Epoch 36/50\n",
      "31933/31933 [==============================] - 66s - loss: 1.4542 - acc: 0.4918 - val_loss: 2.3018 - val_acc: 0.2679\n",
      "Epoch 37/50\n",
      "31933/31933 [==============================] - 67s - loss: 1.4220 - acc: 0.4995 - val_loss: 2.4036 - val_acc: 0.2657\n",
      "Epoch 38/50\n",
      "31933/31933 [==============================] - 67s - loss: 1.3928 - acc: 0.5079 - val_loss: 2.3863 - val_acc: 0.2610\n",
      "Epoch 39/50\n",
      "31933/31933 [==============================] - 70s - loss: 1.3612 - acc: 0.5206 - val_loss: 2.4248 - val_acc: 0.2559\n",
      "Epoch 40/50\n",
      "31933/31933 [==============================] - 68s - loss: 1.3241 - acc: 0.5320 - val_loss: 2.5678 - val_acc: 0.2599\n",
      "Epoch 41/50\n",
      "31933/31933 [==============================] - 68s - loss: 1.2931 - acc: 0.5428 - val_loss: 2.5209 - val_acc: 0.2465\n",
      "Epoch 42/50\n",
      "31933/31933 [==============================] - 68s - loss: 1.2605 - acc: 0.5530 - val_loss: 2.6360 - val_acc: 0.2478\n",
      "Epoch 43/50\n",
      "31933/31933 [==============================] - 68s - loss: 1.2324 - acc: 0.5644 - val_loss: 2.6714 - val_acc: 0.2474\n",
      "Epoch 44/50\n",
      "31933/31933 [==============================] - 56s - loss: 1.2023 - acc: 0.5728 - val_loss: 2.6677 - val_acc: 0.2545\n",
      "Epoch 45/50\n",
      "31933/31933 [==============================] - 44s - loss: 1.1758 - acc: 0.5815 - val_loss: 2.6693 - val_acc: 0.2505\n",
      "Epoch 46/50\n",
      "31933/31933 [==============================] - 44s - loss: 1.1564 - acc: 0.5882 - val_loss: 2.7232 - val_acc: 0.2456\n",
      "Epoch 47/50\n",
      "31933/31933 [==============================] - 45s - loss: 1.1293 - acc: 0.5980 - val_loss: 2.7789 - val_acc: 0.2477\n",
      "Epoch 48/50\n",
      "31933/31933 [==============================] - 45s - loss: 1.0975 - acc: 0.6102 - val_loss: 3.0864 - val_acc: 0.2336\n",
      "Epoch 49/50\n",
      "31933/31933 [==============================] - 45s - loss: 1.0805 - acc: 0.6148 - val_loss: 2.7931 - val_acc: 0.2551\n",
      "Epoch 50/50\n",
      "31933/31933 [==============================] - 45s - loss: 1.0544 - acc: 0.6262 - val_loss: 2.9215 - val_acc: 0.2537\n",
      "31776/31933 [============================>.] - ETA: 0s\n",
      "acc: 79.29%\n"
     ]
    }
   ],
   "source": [
    "# Fit the model 1\n",
    "history = model.fit(X, Y, epochs=50, batch_size=10,\n",
    "          validation_data=(X_test, Y_test))\n",
    "# evaluate the model\n",
    "scores = model.evaluate(X, Y)\n",
    "print(\"\\n%s: %.2f%%\" % (model.metrics_names[1], scores[1]*100))"
   ]
  },
  {
   "cell_type": "code",
   "execution_count": 8,
   "metadata": {},
   "outputs": [
    {
     "name": "stdout",
     "output_type": "stream",
     "text": [
      "dict_keys(['loss', 'val_loss', 'acc', 'val_acc'])\n"
     ]
    },
    {
     "data": {
      "image/png": "[encoded data removed]",
      "text/plain": [
       "<matplotlib.figure.Figure at 0x7f0e42c5bc88>"
      ]
     },
     "metadata": {},
     "output_type": "display_data"
    },
    {
     "data": {
      "image/png": "[encoded data removed]",
      "text/plain": [
       "<matplotlib.figure.Figure at 0x7f0e4120f3c8>"
      ]
     },
     "metadata": {},
     "output_type": "display_data"
    }
   ],
   "source": [
    "print(history.history.keys())\n",
    "#  \"Accuracy\"\n",
    "plt.plot(history.history['acc'])\n",
    "plt.plot(history.history['val_acc'])\n",
    "plt.title('model accuracy')\n",
    "plt.ylabel('accuracy')\n",
    "plt.xlabel('epoch')\n",
    "plt.legend(['train', 'validation'], loc='upper left')\n",
    "plt.show()\n",
    "\n",
    "# \"Loss\"\n",
    "plt.plot(history.history['loss'])\n",
    "plt.plot(history.history['val_loss'])\n",
    "plt.title('model loss')\n",
    "plt.ylabel('loss')\n",
    "plt.xlabel('epoch')\n",
    "plt.legend(['train', 'validation'], loc='upper left')\n",
    "plt.show()"
   ]
  },
  {
   "cell_type": "code",
   "execution_count": null,
   "metadata": {},
   "outputs": [],
   "source": []
  },
  {
   "cell_type": "code",
   "execution_count": null,
   "metadata": {},
   "outputs": [],
   "source": []
  },
  {
   "cell_type": "code",
   "execution_count": null,
   "metadata": {},
   "outputs": [],
   "source": []
  }
 ],
 "metadata": {
  "kernelspec": {
   "display_name": "Python 3",
   "language": "python",
   "name": "python3"
  },
  "language_info": {
   "codemirror_mode": {
    "name": "ipython",
    "version": 3
   },
   "file_extension": ".py",
   "mimetype": "text/x-python",
   "name": "python",
   "nbconvert_exporter": "python",
   "pygments_lexer": "ipython3",
   "version": "3.5.2"
  }
 },
 "nbformat": 4,
 "nbformat_minor": 2
}
