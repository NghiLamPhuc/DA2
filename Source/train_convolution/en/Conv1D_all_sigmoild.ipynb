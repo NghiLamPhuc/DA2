{
 "cells": [
  {
   "cell_type": "code",
   "execution_count": 14,
   "metadata": {},
   "outputs": [],
   "source": [
    "# Create your first MLP in Keras\n",
    "import keras\n",
    "from keras.models import Sequential\n",
    "from keras.layers import Dense, Dropout, Flatten, Activation\n",
    "from keras.layers import Embedding\n",
    "from keras.layers import Conv1D, GlobalAveragePooling1D, MaxPooling1D\n",
    "\n",
    "import os\n",
    "import numpy as np\n",
    "import matplotlib.pyplot as plt"
   ]
  },
  {
   "cell_type": "code",
   "execution_count": 6,
   "metadata": {},
   "outputs": [],
   "source": [
    "# fix random seed for reproducibility\n",
    "np.random.seed(1)"
   ]
  },
  {
   "cell_type": "code",
   "execution_count": 7,
   "metadata": {},
   "outputs": [],
   "source": [
    "dataset = np.loadtxt(\"train_en.txt\")\n",
    "# split into input (X) and output (Y) variables\n",
    "X = dataset[:,0:300]\n",
    "Y = dataset[:,300]\n",
    "Y = keras.utils.to_categorical(Y, num_classes=13)\n",
    "\n",
    "test_data = np.loadtxt(\"test_en.txt\")\n",
    "X_test = test_data[:,0:300]\n",
    "Y_test = test_data[:,300]\n",
    "Y_test = keras.utils.to_categorical(Y_test, num_classes=13)"
   ]
  },
  {
   "cell_type": "code",
   "execution_count": 8,
   "metadata": {},
   "outputs": [],
   "source": [
    "X = np.expand_dims(X, axis=2) # reshape (569, 30) to (569, 30, 1) \n",
    "X_test = np.expand_dims(X_test, axis=2) "
   ]
  },
  {
   "cell_type": "code",
   "execution_count": 9,
   "metadata": {},
   "outputs": [],
   "source": [
    "# # create model\n",
    "model = Sequential()\n",
    "model.add(Conv1D(32, 11, padding='valid', activation='sigmoid', strides=1, input_shape=(300, 1) ))\n",
    "model.add(Conv1D(32, 3, padding='valid', activation='sigmoid', strides=1) )\n",
    "model.add(MaxPooling1D())\n",
    "\n",
    "model.add(Conv1D(64, 3, padding='valid', activation='sigmoid', strides=1) )\n",
    "model.add(Conv1D(64, 3, padding='valid', activation='sigmoid', strides=1) )\n",
    "model.add(MaxPooling1D())\n",
    "\n",
    "\n",
    "model.add(Flatten())\n",
    "model.add(Dense(200, activation='sigmoid'))\n",
    "model.add(Dropout(0.5))\n",
    "model.add(Dense(13, activation='sigmoid'))\n",
    "\n",
    "model.compile(loss='categorical_crossentropy',\n",
    "              optimizer='sgd',\n",
    "              metrics=['accuracy'])"
   ]
  },
  {
   "cell_type": "code",
   "execution_count": 10,
   "metadata": {},
   "outputs": [
    {
     "name": "stdout",
     "output_type": "stream",
     "text": [
      "_________________________________________________________________\n",
      "Layer (type)                 Output Shape              Param #   \n",
      "=================================================================\n",
      "conv1d_1 (Conv1D)            (None, 290, 32)           384       \n",
      "_________________________________________________________________\n",
      "conv1d_2 (Conv1D)            (None, 288, 32)           3104      \n",
      "_________________________________________________________________\n",
      "max_pooling1d_1 (MaxPooling1 (None, 144, 32)           0         \n",
      "_________________________________________________________________\n",
      "conv1d_3 (Conv1D)            (None, 142, 64)           6208      \n",
      "_________________________________________________________________\n",
      "conv1d_4 (Conv1D)            (None, 140, 64)           12352     \n",
      "_________________________________________________________________\n",
      "max_pooling1d_2 (MaxPooling1 (None, 70, 64)            0         \n",
      "_________________________________________________________________\n",
      "flatten_1 (Flatten)          (None, 4480)              0         \n",
      "_________________________________________________________________\n",
      "dense_1 (Dense)              (None, 256)               1147136   \n",
      "_________________________________________________________________\n",
      "dense_2 (Dense)              (None, 13)                3341      \n",
      "=================================================================\n",
      "Total params: 1,172,525\n",
      "Trainable params: 1,172,525\n",
      "Non-trainable params: 0\n",
      "_________________________________________________________________\n"
     ]
    }
   ],
   "source": [
    "model.summary()"
   ]
  },
  {
   "cell_type": "code",
   "execution_count": 12,
   "metadata": {},
   "outputs": [
    {
     "name": "stdout",
     "output_type": "stream",
     "text": [
      "Train on 31933 samples, validate on 31933 samples\n",
      "Epoch 1/30\n",
      "31933/31933 [==============================] - 79s - loss: 2.1534 - acc: 0.2093 - val_loss: 2.1499 - val_acc: 0.2117\n",
      "Epoch 2/30\n",
      "31933/31933 [==============================] - 60s - loss: 2.1466 - acc: 0.2131 - val_loss: 2.1374 - val_acc: 0.2125\n",
      "Epoch 3/30\n",
      "31933/31933 [==============================] - 59s - loss: 2.1214 - acc: 0.2347 - val_loss: 2.0895 - val_acc: 0.2755\n",
      "Epoch 4/30\n",
      "31933/31933 [==============================] - 58s - loss: 2.0634 - acc: 0.2764 - val_loss: 2.0444 - val_acc: 0.2871\n",
      "Epoch 5/30\n",
      "31933/31933 [==============================] - 58s - loss: 2.0166 - acc: 0.2962 - val_loss: 1.9979 - val_acc: 0.3030\n",
      "Epoch 6/30\n",
      "31933/31933 [==============================] - 57s - loss: 1.9839 - acc: 0.3110 - val_loss: 1.9473 - val_acc: 0.3241\n",
      "Epoch 7/30\n",
      "31933/31933 [==============================] - 57s - loss: 1.9611 - acc: 0.3177 - val_loss: 1.9285 - val_acc: 0.3303\n",
      "Epoch 8/30\n",
      "31933/31933 [==============================] - 57s - loss: 1.9435 - acc: 0.3265 - val_loss: 1.9306 - val_acc: 0.3267\n",
      "Epoch 9/30\n",
      "31933/31933 [==============================] - 58s - loss: 1.9259 - acc: 0.3306 - val_loss: 1.9123 - val_acc: 0.3362\n",
      "Epoch 10/30\n",
      "31933/31933 [==============================] - 58s - loss: 1.9107 - acc: 0.3355 - val_loss: 1.9390 - val_acc: 0.3262\n",
      "Epoch 11/30\n",
      "31933/31933 [==============================] - 57s - loss: 1.8955 - acc: 0.3417 - val_loss: 1.8702 - val_acc: 0.3435\n",
      "Epoch 12/30\n",
      "31933/31933 [==============================] - 58s - loss: 1.8762 - acc: 0.3458 - val_loss: 1.8461 - val_acc: 0.3521\n",
      "Epoch 13/30\n",
      "31933/31933 [==============================] - 58s - loss: 1.8579 - acc: 0.3510 - val_loss: 1.8245 - val_acc: 0.3616\n",
      "Epoch 14/30\n",
      "31933/31933 [==============================] - 57s - loss: 1.8364 - acc: 0.3595 - val_loss: 1.7806 - val_acc: 0.3705\n",
      "Epoch 15/30\n",
      "31933/31933 [==============================] - 58s - loss: 1.8119 - acc: 0.3659 - val_loss: 1.8121 - val_acc: 0.3602\n",
      "Epoch 16/30\n",
      "31933/31933 [==============================] - 59s - loss: 1.7843 - acc: 0.3735 - val_loss: 1.7351 - val_acc: 0.3848\n",
      "Epoch 17/30\n",
      "31933/31933 [==============================] - 57s - loss: 1.7509 - acc: 0.3826 - val_loss: 1.6719 - val_acc: 0.4115\n",
      "Epoch 18/30\n",
      "31933/31933 [==============================] - 57s - loss: 1.7109 - acc: 0.3982 - val_loss: 1.6679 - val_acc: 0.4231\n",
      "Epoch 19/30\n",
      "31933/31933 [==============================] - 57s - loss: 1.6636 - acc: 0.4133 - val_loss: 1.5308 - val_acc: 0.4630\n",
      "Epoch 20/30\n",
      "31933/31933 [==============================] - 58s - loss: 1.6052 - acc: 0.4344 - val_loss: 1.5096 - val_acc: 0.4737\n",
      "Epoch 21/30\n",
      "31933/31933 [==============================] - 58s - loss: 1.5399 - acc: 0.4550 - val_loss: 1.4337 - val_acc: 0.4780\n",
      "Epoch 22/30\n",
      "31933/31933 [==============================] - 57s - loss: 1.4630 - acc: 0.4825 - val_loss: 1.3231 - val_acc: 0.5464\n",
      "Epoch 23/30\n",
      "31933/31933 [==============================] - 57s - loss: 1.3716 - acc: 0.5126 - val_loss: 1.3524 - val_acc: 0.4989\n",
      "Epoch 24/30\n",
      "31933/31933 [==============================] - 57s - loss: 1.2786 - acc: 0.5443 - val_loss: 1.3990 - val_acc: 0.4550\n",
      "Epoch 25/30\n",
      "31933/31933 [==============================] - 57s - loss: 1.1752 - acc: 0.5805 - val_loss: 1.0073 - val_acc: 0.6371\n",
      "Epoch 26/30\n",
      "31933/31933 [==============================] - 58s - loss: 1.0776 - acc: 0.6140 - val_loss: 0.9122 - val_acc: 0.6823\n",
      "Epoch 27/30\n",
      "31933/31933 [==============================] - 58s - loss: 0.9838 - acc: 0.6419 - val_loss: 0.8808 - val_acc: 0.6828\n",
      "Epoch 28/30\n",
      "31933/31933 [==============================] - 57s - loss: 0.8950 - acc: 0.6737 - val_loss: 0.7607 - val_acc: 0.7242\n",
      "Epoch 29/30\n",
      "31933/31933 [==============================] - 57s - loss: 0.7930 - acc: 0.7111 - val_loss: 0.6382 - val_acc: 0.7732\n",
      "Epoch 30/30\n",
      "31933/31933 [==============================] - 56s - loss: 0.7287 - acc: 0.7351 - val_loss: 0.7513 - val_acc: 0.7111\n",
      "31776/31933 [============================>.] - ETA: 0s\n",
      "acc: 71.11%\n"
     ]
    }
   ],
   "source": [
    "# Fit the model 1\n",
    "history = model.fit(X, Y, epochs=100, batch_size=10,\n",
    "          validation_data=(X_test, Y_test))\n",
    "# evaluate the model\n",
    "scores = model.evaluate(X, Y)\n",
    "print(\"\\n%s: %.2f%%\" % (model.metrics_names[1], scores[1]*100))"
   ]
  },
  {
   "cell_type": "code",
   "execution_count": 15,
   "metadata": {},
   "outputs": [
    {
     "name": "stdout",
     "output_type": "stream",
     "text": [
      "dict_keys(['loss', 'val_loss', 'val_acc', 'acc'])\n"
     ]
    },
    {
     "data": {
      "image/png": "[encoded data removed]",
      "text/plain": [
       "<matplotlib.figure.Figure at 0x7fe9e06e1e80>"
      ]
     },
     "metadata": {},
     "output_type": "display_data"
    },
    {
     "data": {
      "image/png": "[encoded data removed]",
      "text/plain": [
       "<matplotlib.figure.Figure at 0x7fe9d37e53c8>"
      ]
     },
     "metadata": {},
     "output_type": "display_data"
    }
   ],
   "source": [
    "print(history.history.keys())\n",
    "#  \"Accuracy\"\n",
    "plt.plot(history.history['acc'])\n",
    "plt.plot(history.history['val_acc'])\n",
    "plt.title('model accuracy')\n",
    "plt.ylabel('accuracy')\n",
    "plt.xlabel('epoch')\n",
    "plt.legend(['train', 'validation'], loc='upper left')\n",
    "plt.show()\n",
    "\n",
    "# \"Loss\"\n",
    "plt.plot(history.history['loss'])\n",
    "plt.plot(history.history['val_loss'])\n",
    "plt.title('model loss')\n",
    "plt.ylabel('loss')\n",
    "plt.xlabel('epoch')\n",
    "plt.legend(['train', 'validation'], loc='upper left')\n",
    "plt.show()"
   ]
  },
  {
   "cell_type": "code",
   "execution_count": null,
   "metadata": {},
   "outputs": [],
   "source": []
  }
 ],
 "metadata": {
  "kernelspec": {
   "display_name": "Python 3",
   "language": "python",
   "name": "python3"
  },
  "language_info": {
   "codemirror_mode": {
    "name": "ipython",
    "version": 3
   },
   "file_extension": ".py",
   "mimetype": "text/x-python",
   "name": "python",
   "nbconvert_exporter": "python",
   "pygments_lexer": "ipython3",
   "version": "3.5.2"
  }
 },
 "nbformat": 4,
 "nbformat_minor": 2
}
