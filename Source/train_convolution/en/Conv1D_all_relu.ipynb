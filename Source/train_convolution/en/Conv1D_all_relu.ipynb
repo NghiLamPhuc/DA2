{
 "cells": [
  {
   "cell_type": "code",
   "execution_count": 1,
   "metadata": {},
   "outputs": [
    {
     "name": "stderr",
     "output_type": "stream",
     "text": [
      "Using TensorFlow backend.\n"
     ]
    }
   ],
   "source": [
    "# Create your first MLP in Keras\n",
    "import keras\n",
    "from keras.models import Sequential\n",
    "from keras.layers import Dense, Dropout, Flatten, Activation\n",
    "from keras.layers import Embedding\n",
    "from keras.layers import Conv1D, GlobalAveragePooling1D, MaxPooling1D\n",
    "\n",
    "import os\n",
    "import numpy as np\n",
    "import matplotlib.pyplot as plt"
   ]
  },
  {
   "cell_type": "code",
   "execution_count": 2,
   "metadata": {},
   "outputs": [],
   "source": [
    "# fix random seed for reproducibility\n",
    "np.random.seed(1)"
   ]
  },
  {
   "cell_type": "code",
   "execution_count": 3,
   "metadata": {},
   "outputs": [],
   "source": [
    "dataset = np.loadtxt(\"train_en.txt\")\n",
    "# split into input (X) and output (Y) variables\n",
    "X = dataset[:,0:300]\n",
    "Y = dataset[:,300]\n",
    "Y = keras.utils.to_categorical(Y, num_classes=13)\n",
    "\n",
    "test_data = np.loadtxt(\"test_en.txt\")\n",
    "X_test = test_data[:,0:300]\n",
    "Y_test = test_data[:,300]\n",
    "Y_test = keras.utils.to_categorical(Y_test, num_classes=13)"
   ]
  },
  {
   "cell_type": "code",
   "execution_count": 4,
   "metadata": {},
   "outputs": [],
   "source": [
    "X = np.expand_dims(X, axis=2) # reshape (569, 30) to (569, 30, 1) \n",
    "X_test = np.expand_dims(X_test, axis=2) "
   ]
  },
  {
   "cell_type": "code",
   "execution_count": 5,
   "metadata": {},
   "outputs": [],
   "source": [
    "# # create model\n",
    "model = Sequential()\n",
    "model.add(Conv1D(32, 11, activation='relu', input_shape=(300, 1)))\n",
    "model.add(Conv1D(32, 3, activation='relu')\n",
    "model.add(MaxPooling1D())\n",
    "\n",
    "model.add(Conv1D(64, 3, activation='relu') )\n",
    "model.add(Conv1D(64, 3, activation='relu') )\n",
    "model.add(MaxPooling1D())\n",
    "\n",
    "\n",
    "model.add(Flatten())\n",
    "model.add(Dense(200, activation='relu'))\n",
    "model.add(Dropout(0.5))\n",
    "model.add(Dense(13, activation='relu'))\n",
    "\n",
    "model.compile(loss='categorical_crossentropy',\n",
    "              optimizer='sgd',\n",
    "              metrics=['accuracy'])"
   ]
  },
  {
   "cell_type": "code",
   "execution_count": 6,
   "metadata": {},
   "outputs": [
    {
     "name": "stdout",
     "output_type": "stream",
     "text": [
      "_________________________________________________________________\n",
      "Layer (type)                 Output Shape              Param #   \n",
      "=================================================================\n",
      "conv1d_1 (Conv1D)            (None, 290, 32)           384       \n",
      "_________________________________________________________________\n",
      "conv1d_2 (Conv1D)            (None, 288, 32)           3104      \n",
      "_________________________________________________________________\n",
      "max_pooling1d_1 (MaxPooling1 (None, 144, 32)           0         \n",
      "_________________________________________________________________\n",
      "conv1d_3 (Conv1D)            (None, 142, 64)           6208      \n",
      "_________________________________________________________________\n",
      "conv1d_4 (Conv1D)            (None, 140, 64)           12352     \n",
      "_________________________________________________________________\n",
      "max_pooling1d_2 (MaxPooling1 (None, 70, 64)            0         \n",
      "_________________________________________________________________\n",
      "flatten_1 (Flatten)          (None, 4480)              0         \n",
      "_________________________________________________________________\n",
      "dense_1 (Dense)              (None, 256)               1147136   \n",
      "_________________________________________________________________\n",
      "dropout_1 (Dropout)          (None, 256)               0         \n",
      "_________________________________________________________________\n",
      "dense_2 (Dense)              (None, 13)                3341      \n",
      "=================================================================\n",
      "Total params: 1,172,525\n",
      "Trainable params: 1,172,525\n",
      "Non-trainable params: 0\n",
      "_________________________________________________________________\n"
     ]
    }
   ],
   "source": [
    "model.summary()"
   ]
  },
  {
   "cell_type": "code",
   "execution_count": 8,
   "metadata": {},
   "outputs": [
    {
     "name": "stdout",
     "output_type": "stream",
     "text": [
      "Train on 31933 samples, validate on 7773 samples\n",
      "Epoch 1/40\n",
      "31933/31933 [==============================] - 43s - loss: 2.2329 - acc: 0.2136 - val_loss: 2.1956 - val_acc: 0.2187\n",
      "Epoch 2/40\n",
      "31933/31933 [==============================] - 39s - loss: 2.2212 - acc: 0.2118 - val_loss: 2.1962 - val_acc: 0.2187\n",
      "Epoch 3/40\n",
      "31933/31933 [==============================] - 39s - loss: 2.2200 - acc: 0.2112 - val_loss: 2.1955 - val_acc: 0.2187\n",
      "Epoch 4/40\n",
      "31933/31933 [==============================] - 39s - loss: 2.2206 - acc: 0.2114 - val_loss: 2.1956 - val_acc: 0.2187\n",
      "Epoch 5/40\n",
      "31933/31933 [==============================] - 39s - loss: 2.2212 - acc: 0.2091 - val_loss: 2.1954 - val_acc: 0.2187\n",
      "Epoch 6/40\n",
      "31933/31933 [==============================] - 39s - loss: 2.2205 - acc: 0.2122 - val_loss: 2.1958 - val_acc: 0.2187\n",
      "Epoch 7/40\n",
      "31933/31933 [==============================] - 39s - loss: 2.2206 - acc: 0.2100 - val_loss: 2.1970 - val_acc: 0.2187\n",
      "Epoch 8/40\n",
      "31933/31933 [==============================] - 39s - loss: 2.2212 - acc: 0.2129 - val_loss: 2.1965 - val_acc: 0.2187\n",
      "Epoch 9/40\n",
      "31933/31933 [==============================] - 39s - loss: 2.2204 - acc: 0.2117 - val_loss: 2.1956 - val_acc: 0.2187\n",
      "Epoch 10/40\n",
      "31933/31933 [==============================] - 42s - loss: 2.2207 - acc: 0.2113 - val_loss: 2.1948 - val_acc: 0.2187\n",
      "Epoch 11/40\n",
      "31933/31933 [==============================] - 43s - loss: 2.2204 - acc: 0.2102 - val_loss: 2.1963 - val_acc: 0.2187\n",
      "Epoch 12/40\n",
      "31933/31933 [==============================] - 42s - loss: 2.2205 - acc: 0.2110 - val_loss: 2.1960 - val_acc: 0.2187\n",
      "Epoch 13/40\n",
      "31933/31933 [==============================] - 43s - loss: 2.2202 - acc: 0.2114 - val_loss: 2.1955 - val_acc: 0.2187\n",
      "Epoch 14/40\n",
      "31933/31933 [==============================] - 43s - loss: 2.2205 - acc: 0.2144 - val_loss: 2.1957 - val_acc: 0.2187\n",
      "Epoch 15/40\n",
      "31933/31933 [==============================] - 42s - loss: 2.2205 - acc: 0.2131 - val_loss: 2.1946 - val_acc: 0.2187\n",
      "Epoch 16/40\n",
      "31933/31933 [==============================] - 42s - loss: 2.2207 - acc: 0.2109 - val_loss: 2.1969 - val_acc: 0.2187\n",
      "Epoch 17/40\n",
      "31933/31933 [==============================] - 42s - loss: 2.2205 - acc: 0.2123 - val_loss: 2.1979 - val_acc: 0.2187\n",
      "Epoch 18/40\n",
      "31933/31933 [==============================] - 43s - loss: 2.2204 - acc: 0.2144 - val_loss: 2.1954 - val_acc: 0.2187\n",
      "Epoch 19/40\n",
      "31933/31933 [==============================] - 43s - loss: 2.2204 - acc: 0.2141 - val_loss: 2.1969 - val_acc: 0.2187\n",
      "Epoch 20/40\n",
      "31933/31933 [==============================] - 42s - loss: 2.2204 - acc: 0.2126 - val_loss: 2.1965 - val_acc: 0.2187\n",
      "Epoch 21/40\n",
      "31933/31933 [==============================] - 43s - loss: 2.2202 - acc: 0.2139 - val_loss: 2.1971 - val_acc: 0.2187\n",
      "Epoch 22/40\n",
      "31933/31933 [==============================] - 42s - loss: 2.2205 - acc: 0.2116 - val_loss: 2.1943 - val_acc: 0.2187\n",
      "Epoch 23/40\n",
      "31933/31933 [==============================] - 43s - loss: 2.2203 - acc: 0.2118 - val_loss: 2.1952 - val_acc: 0.2187\n",
      "Epoch 24/40\n",
      "31933/31933 [==============================] - 43s - loss: 2.2202 - acc: 0.2085 - val_loss: 2.1956 - val_acc: 0.2187\n",
      "Epoch 25/40\n",
      "31933/31933 [==============================] - 43s - loss: 2.2206 - acc: 0.2120 - val_loss: 2.1952 - val_acc: 0.2187\n",
      "Epoch 26/40\n",
      "31933/31933 [==============================] - 44s - loss: 2.2196 - acc: 0.2120 - val_loss: 2.1946 - val_acc: 0.2187\n",
      "Epoch 27/40\n",
      "31933/31933 [==============================] - 43s - loss: 2.2201 - acc: 0.2128 - val_loss: 2.1948 - val_acc: 0.2187\n",
      "Epoch 28/40\n",
      "31933/31933 [==============================] - 43s - loss: 2.2203 - acc: 0.2102 - val_loss: 2.1962 - val_acc: 0.2187\n",
      "Epoch 29/40\n",
      "31933/31933 [==============================] - 43s - loss: 2.2203 - acc: 0.2119 - val_loss: 2.1962 - val_acc: 0.2187\n",
      "Epoch 30/40\n",
      "31933/31933 [==============================] - 43s - loss: 2.2201 - acc: 0.2098 - val_loss: 2.1967 - val_acc: 0.2187\n",
      "Epoch 31/40\n",
      "31933/31933 [==============================] - 43s - loss: 2.2197 - acc: 0.2142 - val_loss: 2.1973 - val_acc: 0.2187\n",
      "Epoch 32/40\n",
      "31933/31933 [==============================] - 43s - loss: 2.2199 - acc: 0.2096 - val_loss: 2.1954 - val_acc: 0.2187\n",
      "Epoch 33/40\n",
      "31933/31933 [==============================] - 43s - loss: 2.2203 - acc: 0.2105 - val_loss: 2.1957 - val_acc: 0.2187\n",
      "Epoch 34/40\n",
      "31933/31933 [==============================] - 43s - loss: 2.2204 - acc: 0.2094 - val_loss: 2.1967 - val_acc: 0.2187\n",
      "Epoch 35/40\n",
      "31933/31933 [==============================] - 43s - loss: 2.2202 - acc: 0.2122 - val_loss: 2.1960 - val_acc: 0.2187\n",
      "Epoch 36/40\n",
      "31933/31933 [==============================] - 43s - loss: 2.2203 - acc: 0.2122 - val_loss: 2.1951 - val_acc: 0.2187\n",
      "Epoch 37/40\n",
      "31933/31933 [==============================] - 43s - loss: 2.2202 - acc: 0.2134 - val_loss: 2.1951 - val_acc: 0.2187\n",
      "Epoch 38/40\n",
      "31933/31933 [==============================] - 43s - loss: 2.2199 - acc: 0.2114 - val_loss: 2.1947 - val_acc: 0.2187\n",
      "Epoch 39/40\n",
      "31933/31933 [==============================] - 43s - loss: 2.2203 - acc: 0.2129 - val_loss: 2.1977 - val_acc: 0.2187\n",
      "Epoch 40/40\n",
      "31933/31933 [==============================] - 43s - loss: 2.2202 - acc: 0.2113 - val_loss: 2.1955 - val_acc: 0.2187\n",
      "31808/31933 [============================>.] - ETA: 0s\n",
      "acc: 21.25%\n"
     ]
    }
   ],
   "source": [
    "# Fit the model 1\n",
    "history = model.fit(X, Y, epochs=40, batch_size=10,\n",
    "          validation_data=(X_test, Y_test))\n",
    "# evaluate the model\n",
    "scores = model.evaluate(X, Y)\n",
    "print(\"\\n%s: %.2f%%\" % (model.metrics_names[1], scores[1]*100))"
   ]
  },
  {
   "cell_type": "code",
   "execution_count": 9,
   "metadata": {},
   "outputs": [
    {
     "name": "stdout",
     "output_type": "stream",
     "text": [
      "dict_keys(['val_loss', 'loss', 'acc', 'val_acc'])\n"
     ]
    },
    {
     "data": {
      "image/png": "[encoded data removed]",
      "text/plain": [
       "<matplotlib.figure.Figure at 0x7fc612a54320>"
      ]
     },
     "metadata": {},
     "output_type": "display_data"
    },
    {
     "data": {
      "image/png": "[encoded data removed]",
      "text/plain": [
       "<matplotlib.figure.Figure at 0x7fc61181a1d0>"
      ]
     },
     "metadata": {},
     "output_type": "display_data"
    }
   ],
   "source": [
    "print(history.history.keys())\n",
    "#  \"Accuracy\"\n",
    "plt.plot(history.history['acc'])\n",
    "plt.plot(history.history['val_acc'])\n",
    "plt.title('model accuracy')\n",
    "plt.ylabel('accuracy')\n",
    "plt.xlabel('epoch')\n",
    "plt.legend(['train', 'validation'], loc='upper left')\n",
    "plt.show()\n",
    "\n",
    "# \"Loss\"\n",
    "plt.plot(history.history['loss'])\n",
    "plt.plot(history.history['val_loss'])\n",
    "plt.title('model loss')\n",
    "plt.ylabel('loss')\n",
    "plt.xlabel('epoch')\n",
    "plt.legend(['train', 'validation'], loc='upper left')\n",
    "plt.show()"
   ]
  },
  {
   "cell_type": "code",
   "execution_count": null,
   "metadata": {},
   "outputs": [],
   "source": []
  },
  {
   "cell_type": "code",
   "execution_count": null,
   "metadata": {},
   "outputs": [],
   "source": []
  },
  {
   "cell_type": "code",
   "execution_count": null,
   "metadata": {},
   "outputs": [],
   "source": []
  }
 ],
 "metadata": {
  "kernelspec": {
   "display_name": "Python 3",
   "language": "python",
   "name": "python3"
  },
  "language_info": {
   "codemirror_mode": {
    "name": "ipython",
    "version": 3
   },
   "file_extension": ".py",
   "mimetype": "text/x-python",
   "name": "python",
   "nbconvert_exporter": "python",
   "pygments_lexer": "ipython3",
   "version": "3.5.2"
  }
 },
 "nbformat": 4,
 "nbformat_minor": 2
}
