{
 "cells": [
  {
   "cell_type": "code",
   "execution_count": 7,
   "metadata": {},
   "outputs": [],
   "source": [
    "# Create your first MLP in Keras\n",
    "import keras\n",
    "from keras.models import Sequential\n",
    "from keras.layers import Dense, Dropout, Flatten, Activation\n",
    "import os\n",
    "import numpy as np\n",
    "from scipy import sparse\n",
    "import matplotlib.pyplot as plt"
   ]
  },
  {
   "cell_type": "code",
   "execution_count": 8,
   "metadata": {},
   "outputs": [],
   "source": [
    "# fix random seed for reproducibility\n",
    "np.random.seed(1)"
   ]
  },
  {
   "cell_type": "code",
   "execution_count": 9,
   "metadata": {},
   "outputs": [],
   "source": [
    "dataset = np.loadtxt(\"train_en.txt\")\n",
    "# split into input (X) and output (Y) variables\n",
    "X = dataset[:,0:300]\n",
    "Y = dataset[:,300]\n",
    "Y = keras.utils.to_categorical(Y, num_classes=13)\n",
    "\n",
    "test_data = np.loadtxt(\"test_en.txt\")\n",
    "# split into input (X) and output (Y) variables\n",
    "X_test = dataset[:,0:300]\n",
    "Y_test = dataset[:,300]\n",
    "Y_test = keras.utils.to_categorical(Y_test, num_classes=13)"
   ]
  },
  {
   "cell_type": "code",
   "execution_count": 10,
   "metadata": {},
   "outputs": [],
   "source": [
    "# create model\n",
    "model = Sequential()\n",
    "model.add(Dense(100, input_dim=300, activation='relu'))\n",
    "model.add(Dropout(0.5))\n",
    "model.add(Dense(13, activation='softmax'))\n",
    "# Compile model\n",
    "model.compile(optimizer='sgd',loss='categorical_crossentropy',metrics=['accuracy'])"
   ]
  },
  {
   "cell_type": "code",
   "execution_count": 11,
   "metadata": {
    "scrolled": true
   },
   "outputs": [
    {
     "name": "stdout",
     "output_type": "stream",
     "text": [
      "_________________________________________________________________\n",
      "Layer (type)                 Output Shape              Param #   \n",
      "=================================================================\n",
      "dense_3 (Dense)              (None, 100)               30100     \n",
      "_________________________________________________________________\n",
      "dropout_2 (Dropout)          (None, 100)               0         \n",
      "_________________________________________________________________\n",
      "dense_4 (Dense)              (None, 13)                1313      \n",
      "=================================================================\n",
      "Total params: 31,413\n",
      "Trainable params: 31,413\n",
      "Non-trainable params: 0\n",
      "_________________________________________________________________\n"
     ]
    }
   ],
   "source": [
    "model.summary()"
   ]
  },
  {
   "cell_type": "code",
   "execution_count": 12,
   "metadata": {
    "scrolled": false
   },
   "outputs": [
    {
     "name": "stdout",
     "output_type": "stream",
     "text": [
      "Train on 31933 samples, validate on 31933 samples\n",
      "Epoch 1/50\n",
      "31933/31933 [==============================] - 10s - loss: 2.1768 - acc: 0.2315 - val_loss: 2.0950 - val_acc: 0.2640\n",
      "Epoch 2/50\n",
      "31933/31933 [==============================] - 9s - loss: 2.1006 - acc: 0.2601 - val_loss: 2.0550 - val_acc: 0.2800\n",
      "Epoch 3/50\n",
      "31933/31933 [==============================] - 10s - loss: 2.0705 - acc: 0.2760 - val_loss: 2.0294 - val_acc: 0.2997\n",
      "Epoch 4/50\n",
      "31933/31933 [==============================] - 10s - loss: 2.0496 - acc: 0.2861 - val_loss: 2.0110 - val_acc: 0.3038\n",
      "Epoch 5/50\n",
      "31933/31933 [==============================] - 10s - loss: 2.0353 - acc: 0.2932 - val_loss: 1.9992 - val_acc: 0.3094\n",
      "Epoch 6/50\n",
      "31933/31933 [==============================] - 9s - loss: 2.0251 - acc: 0.2977 - val_loss: 2.0025 - val_acc: 0.3118\n",
      "Epoch 7/50\n",
      "31933/31933 [==============================] - 10s - loss: 2.0166 - acc: 0.2995 - val_loss: 1.9787 - val_acc: 0.3153\n",
      "Epoch 8/50\n",
      "31933/31933 [==============================] - 10s - loss: 2.0107 - acc: 0.3011 - val_loss: 1.9726 - val_acc: 0.3218\n",
      "Epoch 9/50\n",
      "31933/31933 [==============================] - 11s - loss: 2.0030 - acc: 0.3081 - val_loss: 1.9673 - val_acc: 0.3224\n",
      "Epoch 10/50\n",
      "31933/31933 [==============================] - 10s - loss: 1.9955 - acc: 0.3069 - val_loss: 1.9564 - val_acc: 0.3267\n",
      "Epoch 11/50\n",
      "31933/31933 [==============================] - 10s - loss: 1.9913 - acc: 0.3111 - val_loss: 1.9588 - val_acc: 0.3277\n",
      "Epoch 12/50\n",
      "31933/31933 [==============================] - 10s - loss: 1.9883 - acc: 0.3107 - val_loss: 1.9498 - val_acc: 0.3292\n",
      "Epoch 13/50\n",
      "31933/31933 [==============================] - 10s - loss: 1.9827 - acc: 0.3132 - val_loss: 1.9427 - val_acc: 0.3322\n",
      "Epoch 14/50\n",
      "31933/31933 [==============================] - 11s - loss: 1.9768 - acc: 0.3135 - val_loss: 1.9394 - val_acc: 0.3339\n",
      "Epoch 15/50\n",
      "31933/31933 [==============================] - 10s - loss: 1.9755 - acc: 0.3178 - val_loss: 1.9398 - val_acc: 0.3310\n",
      "Epoch 16/50\n",
      "31933/31933 [==============================] - 10s - loss: 1.9700 - acc: 0.3176 - val_loss: 1.9332 - val_acc: 0.3338\n",
      "Epoch 17/50\n",
      "31933/31933 [==============================] - 10s - loss: 1.9661 - acc: 0.3200 - val_loss: 1.9316 - val_acc: 0.3309\n",
      "Epoch 18/50\n",
      "31933/31933 [==============================] - 11s - loss: 1.9644 - acc: 0.3213 - val_loss: 1.9364 - val_acc: 0.3394\n",
      "Epoch 19/50\n",
      "31933/31933 [==============================] - 12s - loss: 1.9639 - acc: 0.3203 - val_loss: 1.9207 - val_acc: 0.3401\n",
      "Epoch 20/50\n",
      "31933/31933 [==============================] - 10s - loss: 1.9586 - acc: 0.3227 - val_loss: 1.9240 - val_acc: 0.3349\n",
      "Epoch 21/50\n",
      "31933/31933 [==============================] - 10s - loss: 1.9582 - acc: 0.3221 - val_loss: 1.9180 - val_acc: 0.3406\n",
      "Epoch 22/50\n",
      "31933/31933 [==============================] - 10s - loss: 1.9531 - acc: 0.3235 - val_loss: 1.9160 - val_acc: 0.3386\n",
      "Epoch 23/50\n",
      "31933/31933 [==============================] - 11s - loss: 1.9511 - acc: 0.3246 - val_loss: 1.9237 - val_acc: 0.3431\n",
      "Epoch 24/50\n",
      "31933/31933 [==============================] - 10s - loss: 1.9503 - acc: 0.3249 - val_loss: 1.9151 - val_acc: 0.3417\n",
      "Epoch 25/50\n",
      "31933/31933 [==============================] - 10s - loss: 1.9486 - acc: 0.3243 - val_loss: 1.9081 - val_acc: 0.3417\n",
      "Epoch 26/50\n",
      "31933/31933 [==============================] - 10s - loss: 1.9465 - acc: 0.3303 - val_loss: 1.9093 - val_acc: 0.3429\n",
      "Epoch 27/50\n",
      "31933/31933 [==============================] - 10s - loss: 1.9435 - acc: 0.3286 - val_loss: 1.9042 - val_acc: 0.3453\n",
      "Epoch 28/50\n",
      "31933/31933 [==============================] - 10s - loss: 1.9391 - acc: 0.3292 - val_loss: 1.8996 - val_acc: 0.3462\n",
      "Epoch 29/50\n",
      "31933/31933 [==============================] - 10s - loss: 1.9398 - acc: 0.3287 - val_loss: 1.9032 - val_acc: 0.3401\n",
      "Epoch 30/50\n",
      "31933/31933 [==============================] - 10s - loss: 1.9385 - acc: 0.3314 - val_loss: 1.9010 - val_acc: 0.3497\n",
      "Epoch 31/50\n",
      "31933/31933 [==============================] - 10s - loss: 1.9361 - acc: 0.3297 - val_loss: 1.8942 - val_acc: 0.3439\n",
      "Epoch 32/50\n",
      "31933/31933 [==============================] - 11s - loss: 1.9326 - acc: 0.3311 - val_loss: 1.8921 - val_acc: 0.3491\n",
      "Epoch 33/50\n",
      "31933/31933 [==============================] - 10s - loss: 1.9344 - acc: 0.3329 - val_loss: 1.8915 - val_acc: 0.3489\n",
      "Epoch 34/50\n",
      "31933/31933 [==============================] - 10s - loss: 1.9310 - acc: 0.3319 - val_loss: 1.8883 - val_acc: 0.3507\n",
      "Epoch 35/50\n",
      "31933/31933 [==============================] - 10s - loss: 1.9297 - acc: 0.3351 - val_loss: 1.8855 - val_acc: 0.3522\n",
      "Epoch 36/50\n",
      "31933/31933 [==============================] - 10s - loss: 1.9291 - acc: 0.3336 - val_loss: 1.8920 - val_acc: 0.3481\n",
      "Epoch 37/50\n",
      "31933/31933 [==============================] - 9s - loss: 1.9268 - acc: 0.3324 - val_loss: 1.8820 - val_acc: 0.3515\n",
      "Epoch 38/50\n",
      "31933/31933 [==============================] - 10s - loss: 1.9257 - acc: 0.3327 - val_loss: 1.8784 - val_acc: 0.3536\n",
      "Epoch 39/50\n",
      "31933/31933 [==============================] - 10s - loss: 1.9214 - acc: 0.3359 - val_loss: 1.8800 - val_acc: 0.3525\n",
      "Epoch 40/50\n",
      "31933/31933 [==============================] - 10s - loss: 1.9205 - acc: 0.3375 - val_loss: 1.8822 - val_acc: 0.3489\n",
      "Epoch 41/50\n",
      "31933/31933 [==============================] - 9s - loss: 1.9219 - acc: 0.3373 - val_loss: 1.8783 - val_acc: 0.3520\n",
      "Epoch 42/50\n",
      "31933/31933 [==============================] - 9s - loss: 1.9204 - acc: 0.3338 - val_loss: 1.8805 - val_acc: 0.3542\n",
      "Epoch 43/50\n",
      "31933/31933 [==============================] - 9s - loss: 1.9177 - acc: 0.3363 - val_loss: 1.8748 - val_acc: 0.3577\n",
      "Epoch 44/50\n",
      "31933/31933 [==============================] - 10s - loss: 1.9162 - acc: 0.3376 - val_loss: 1.8716 - val_acc: 0.3536\n",
      "Epoch 45/50\n",
      "31933/31933 [==============================] - 9s - loss: 1.9135 - acc: 0.3388 - val_loss: 1.8753 - val_acc: 0.3517\n",
      "Epoch 46/50\n",
      "31933/31933 [==============================] - 10s - loss: 1.9157 - acc: 0.3369 - val_loss: 1.8682 - val_acc: 0.3564\n",
      "Epoch 47/50\n",
      "31933/31933 [==============================] - 10s - loss: 1.9129 - acc: 0.3396 - val_loss: 1.8775 - val_acc: 0.3539\n",
      "Epoch 48/50\n",
      "31933/31933 [==============================] - 9s - loss: 1.9126 - acc: 0.3388 - val_loss: 1.8684 - val_acc: 0.3614\n",
      "Epoch 49/50\n",
      "31933/31933 [==============================] - 10s - loss: 1.9092 - acc: 0.3393 - val_loss: 1.8635 - val_acc: 0.3594\n",
      "Epoch 50/50\n",
      "31933/31933 [==============================] - 10s - loss: 1.9100 - acc: 0.3422 - val_loss: 1.8675 - val_acc: 0.3541\n",
      "31904/31933 [============================>.] - ETA: 0s\n",
      "acc: 35.41%\n"
     ]
    }
   ],
   "source": [
    "# Fit the model 1\n",
    "history = model.fit(X, Y, epochs=50, batch_size=10,\n",
    "          validation_data=(X_test, Y_test))\n",
    "# evaluate the model\n",
    "scores = model.evaluate(X, Y)\n",
    "print(\"\\n%s: %.2f%%\" % (model.metrics_names[1], scores[1]*100))"
   ]
  },
  {
   "cell_type": "code",
   "execution_count": 14,
   "metadata": {
    "scrolled": true
   },
   "outputs": [
    {
     "name": "stdout",
     "output_type": "stream",
     "text": [
      "dict_keys(['val_loss', 'loss', 'val_acc', 'acc'])\n"
     ]
    },
    {
     "data": {
      "image/png": "[encoded data removed]",
      "text/plain": [
       "<matplotlib.figure.Figure at 0x7f3a822c1eb8>"
      ]
     },
     "metadata": {},
     "output_type": "display_data"
    },
    {
     "data": {
      "image/png": "[encoded data removed]",
      "text/plain": [
       "<matplotlib.figure.Figure at 0x7f3a8228bc88>"
      ]
     },
     "metadata": {},
     "output_type": "display_data"
    }
   ],
   "source": [
    "print(history.history.keys())\n",
    "#  \"Accuracy\"\n",
    "plt.plot(history.history['acc'])\n",
    "plt.plot(history.history['val_acc'])\n",
    "plt.title('model accuracy')\n",
    "plt.ylabel('accuracy')\n",
    "plt.xlabel('epoch')\n",
    "plt.legend(['train', 'validation'], loc='upper left')\n",
    "plt.show()\n",
    "\n",
    "# \"Loss\"\n",
    "plt.plot(history.history['loss'])\n",
    "plt.plot(history.history['val_loss'])\n",
    "plt.title('model loss')\n",
    "plt.ylabel('loss')\n",
    "plt.xlabel('epoch')\n",
    "plt.legend(['train', 'validation'], loc='upper left')\n",
    "plt.show()"
   ]
  },
  {
   "cell_type": "code",
   "execution_count": null,
   "metadata": {},
   "outputs": [],
   "source": []
  }
 ],
 "metadata": {
  "kernelspec": {
   "display_name": "Python 3",
   "language": "python",
   "name": "python3"
  },
  "language_info": {
   "codemirror_mode": {
    "name": "ipython",
    "version": 3
   },
   "file_extension": ".py",
   "mimetype": "text/x-python",
   "name": "python",
   "nbconvert_exporter": "python",
   "pygments_lexer": "ipython3",
   "version": "3.5.2"
  }
 },
 "nbformat": 4,
 "nbformat_minor": 2
}
