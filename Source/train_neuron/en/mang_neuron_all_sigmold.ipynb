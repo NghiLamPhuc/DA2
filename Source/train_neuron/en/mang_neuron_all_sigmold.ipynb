{
 "cells": [
  {
   "cell_type": "code",
   "execution_count": 9,
   "metadata": {},
   "outputs": [],
   "source": [
    "# Create your first MLP in Keras\n",
    "import keras\n",
    "from keras.models import Sequential\n",
    "from keras.layers import Dense, Dropout, Flatten, Activation\n",
    "import os\n",
    "import numpy as np\n",
    "from scipy import sparse\n",
    "import matplotlib.pyplot as plt"
   ]
  },
  {
   "cell_type": "code",
   "execution_count": 10,
   "metadata": {},
   "outputs": [],
   "source": [
    "# fix random seed for reproducibility\n",
    "np.random.seed(1)"
   ]
  },
  {
   "cell_type": "code",
   "execution_count": 11,
   "metadata": {},
   "outputs": [],
   "source": [
    "dataset = np.loadtxt(\"train_en.txt\")\n",
    "# split into input (X) and output (Y) variables\n",
    "X = dataset[:,0:300]\n",
    "Y = dataset[:,300]\n",
    "Y = keras.utils.to_categorical(Y, num_classes=13)\n",
    "\n",
    "test_data = np.loadtxt(\"test_en.txt\")\n",
    "# split into input (X) and output (Y) variables\n",
    "X_test = dataset[:,0:300]\n",
    "Y_test = dataset[:,300]\n",
    "Y_test = keras.utils.to_categorical(Y_test, num_classes=13)"
   ]
  },
  {
   "cell_type": "code",
   "execution_count": 12,
   "metadata": {},
   "outputs": [],
   "source": [
    "# create model\n",
    "model = Sequential()\n",
    "model.add(Dense(100, input_dim=300, activation='sigmoid'))\n",
    "model.add(Dropout(0.5))\n",
    "model.add(Dense(13, activation='sigmoid'))\n",
    "# Compile model\n",
    "model.compile(optimizer='sgd',loss='categorical_crossentropy',metrics=['accuracy'])"
   ]
  },
  {
   "cell_type": "code",
   "execution_count": 13,
   "metadata": {},
   "outputs": [
    {
     "name": "stdout",
     "output_type": "stream",
     "text": [
      "_________________________________________________________________\n",
      "Layer (type)                 Output Shape              Param #   \n",
      "=================================================================\n",
      "dense_3 (Dense)              (None, 100)               30100     \n",
      "_________________________________________________________________\n",
      "dropout_2 (Dropout)          (None, 100)               0         \n",
      "_________________________________________________________________\n",
      "dense_4 (Dense)              (None, 13)                1313      \n",
      "=================================================================\n",
      "Total params: 31,413\n",
      "Trainable params: 31,413\n",
      "Non-trainable params: 0\n",
      "_________________________________________________________________\n"
     ]
    }
   ],
   "source": [
    "model.summary()"
   ]
  },
  {
   "cell_type": "code",
   "execution_count": 14,
   "metadata": {
    "scrolled": true
   },
   "outputs": [
    {
     "name": "stdout",
     "output_type": "stream",
     "text": [
      "Train on 31933 samples, validate on 31933 samples\n",
      "Epoch 1/50\n",
      "31933/31933 [==============================] - 10s - loss: 2.2121 - acc: 0.2079 - val_loss: 2.1541 - val_acc: 0.2110\n",
      "Epoch 2/50\n",
      "31933/31933 [==============================] - 12s - loss: 2.1761 - acc: 0.2137 - val_loss: 2.1517 - val_acc: 0.2117\n",
      "Epoch 3/50\n",
      "31933/31933 [==============================] - 11s - loss: 2.1723 - acc: 0.2125 - val_loss: 2.1498 - val_acc: 0.2123\n",
      "Epoch 4/50\n",
      "31933/31933 [==============================] - 13s - loss: 2.1655 - acc: 0.2148 - val_loss: 2.1488 - val_acc: 0.2119\n",
      "Epoch 5/50\n",
      "31933/31933 [==============================] - 13s - loss: 2.1612 - acc: 0.2135 - val_loss: 2.1468 - val_acc: 0.2186\n",
      "Epoch 6/50\n",
      "31933/31933 [==============================] - 9s - loss: 2.1600 - acc: 0.2158 - val_loss: 2.1461 - val_acc: 0.2177\n",
      "Epoch 7/50\n",
      "31933/31933 [==============================] - 9s - loss: 2.1562 - acc: 0.2136 - val_loss: 2.1443 - val_acc: 0.2317\n",
      "Epoch 8/50\n",
      "31933/31933 [==============================] - 9s - loss: 2.1551 - acc: 0.2129 - val_loss: 2.1433 - val_acc: 0.2371\n",
      "Epoch 9/50\n",
      "31933/31933 [==============================] - 9s - loss: 2.1537 - acc: 0.2170 - val_loss: 2.1422 - val_acc: 0.2349\n",
      "Epoch 10/50\n",
      "31933/31933 [==============================] - 9s - loss: 2.1503 - acc: 0.2145 - val_loss: 2.1413 - val_acc: 0.2394\n",
      "Epoch 11/50\n",
      "31933/31933 [==============================] - 9s - loss: 2.1500 - acc: 0.2145 - val_loss: 2.1389 - val_acc: 0.2387\n",
      "Epoch 12/50\n",
      "31933/31933 [==============================] - 9s - loss: 2.1488 - acc: 0.2167 - val_loss: 2.1372 - val_acc: 0.2412\n",
      "Epoch 13/50\n",
      "31933/31933 [==============================] - 9s - loss: 2.1464 - acc: 0.2154 - val_loss: 2.1354 - val_acc: 0.2365\n",
      "Epoch 14/50\n",
      "31933/31933 [==============================] - 9s - loss: 2.1432 - acc: 0.2150 - val_loss: 2.1340 - val_acc: 0.2375\n",
      "Epoch 15/50\n",
      "31933/31933 [==============================] - 9s - loss: 2.1421 - acc: 0.2175 - val_loss: 2.1314 - val_acc: 0.2332\n",
      "Epoch 16/50\n",
      "31933/31933 [==============================] - 9s - loss: 2.1413 - acc: 0.2173 - val_loss: 2.1289 - val_acc: 0.2231\n",
      "Epoch 17/50\n",
      "31933/31933 [==============================] - 10s - loss: 2.1390 - acc: 0.2164 - val_loss: 2.1272 - val_acc: 0.2151\n",
      "Epoch 18/50\n",
      "31933/31933 [==============================] - 10s - loss: 2.1375 - acc: 0.2143 - val_loss: 2.1252 - val_acc: 0.2129\n",
      "Epoch 19/50\n",
      "31933/31933 [==============================] - 10s - loss: 2.1358 - acc: 0.2183 - val_loss: 2.1231 - val_acc: 0.2125\n",
      "Epoch 20/50\n",
      "31933/31933 [==============================] - 9s - loss: 2.1326 - acc: 0.2205 - val_loss: 2.1197 - val_acc: 0.2124\n",
      "Epoch 21/50\n",
      "31933/31933 [==============================] - 9s - loss: 2.1316 - acc: 0.2166 - val_loss: 2.1180 - val_acc: 0.2123\n",
      "Epoch 22/50\n",
      "31933/31933 [==============================] - 10s - loss: 2.1306 - acc: 0.2170 - val_loss: 2.1164 - val_acc: 0.2124\n",
      "Epoch 23/50\n",
      "31933/31933 [==============================] - 10s - loss: 2.1277 - acc: 0.2190 - val_loss: 2.1140 - val_acc: 0.2124\n",
      "Epoch 24/50\n",
      "31933/31933 [==============================] - 10s - loss: 2.1264 - acc: 0.2208 - val_loss: 2.1115 - val_acc: 0.2124\n",
      "Epoch 25/50\n",
      "31933/31933 [==============================] - 10s - loss: 2.1238 - acc: 0.2183 - val_loss: 2.1089 - val_acc: 0.2123\n",
      "Epoch 26/50\n",
      "31933/31933 [==============================] - 10s - loss: 2.1226 - acc: 0.2193 - val_loss: 2.1046 - val_acc: 0.2129\n",
      "Epoch 27/50\n",
      "31933/31933 [==============================] - 10s - loss: 2.1191 - acc: 0.2213 - val_loss: 2.1026 - val_acc: 0.2205\n",
      "Epoch 28/50\n",
      "31933/31933 [==============================] - 10s - loss: 2.1156 - acc: 0.2253 - val_loss: 2.0971 - val_acc: 0.2317\n",
      "Epoch 29/50\n",
      "31933/31933 [==============================] - 11s - loss: 2.1130 - acc: 0.2331 - val_loss: 2.0921 - val_acc: 0.2367\n",
      "Epoch 30/50\n",
      "31933/31933 [==============================] - 10s - loss: 2.1107 - acc: 0.2373 - val_loss: 2.0883 - val_acc: 0.2496\n",
      "Epoch 31/50\n",
      "31933/31933 [==============================] - 10s - loss: 2.1091 - acc: 0.2389 - val_loss: 2.0843 - val_acc: 0.2568\n",
      "Epoch 32/50\n",
      "31933/31933 [==============================] - 10s - loss: 2.1064 - acc: 0.2411 - val_loss: 2.0807 - val_acc: 0.2576\n",
      "Epoch 33/50\n",
      "31933/31933 [==============================] - 10s - loss: 2.1043 - acc: 0.2430 - val_loss: 2.0782 - val_acc: 0.2556\n",
      "Epoch 34/50\n",
      "31933/31933 [==============================] - 10s - loss: 2.1015 - acc: 0.2447 - val_loss: 2.0756 - val_acc: 0.2601\n",
      "Epoch 35/50\n",
      "31933/31933 [==============================] - 10s - loss: 2.0998 - acc: 0.2464 - val_loss: 2.0737 - val_acc: 0.2578\n",
      "Epoch 36/50\n",
      "31933/31933 [==============================] - 10s - loss: 2.0978 - acc: 0.2477 - val_loss: 2.0707 - val_acc: 0.2620\n",
      "Epoch 37/50\n",
      "31933/31933 [==============================] - 10s - loss: 2.0959 - acc: 0.2487 - val_loss: 2.0690 - val_acc: 0.2647\n",
      "Epoch 38/50\n",
      "31933/31933 [==============================] - 11s - loss: 2.0932 - acc: 0.2486 - val_loss: 2.0667 - val_acc: 0.2646\n",
      "Epoch 39/50\n",
      "31933/31933 [==============================] - 10s - loss: 2.0896 - acc: 0.2529 - val_loss: 2.0645 - val_acc: 0.2673\n",
      "Epoch 40/50\n",
      "31933/31933 [==============================] - 10s - loss: 2.0894 - acc: 0.2532 - val_loss: 2.0630 - val_acc: 0.2691\n",
      "Epoch 41/50\n",
      "31933/31933 [==============================] - 10s - loss: 2.0885 - acc: 0.2554 - val_loss: 2.0604 - val_acc: 0.2681\n",
      "Epoch 42/50\n",
      "31933/31933 [==============================] - 10s - loss: 2.0866 - acc: 0.2542 - val_loss: 2.0597 - val_acc: 0.2691\n",
      "Epoch 43/50\n",
      "31933/31933 [==============================] - 10s - loss: 2.0837 - acc: 0.2579 - val_loss: 2.0575 - val_acc: 0.2687\n",
      "Epoch 44/50\n",
      "31933/31933 [==============================] - 10s - loss: 2.0835 - acc: 0.2559 - val_loss: 2.0560 - val_acc: 0.2710\n",
      "Epoch 45/50\n",
      "31933/31933 [==============================] - 10s - loss: 2.0833 - acc: 0.2552 - val_loss: 2.0547 - val_acc: 0.2725\n",
      "Epoch 46/50\n",
      "31933/31933 [==============================] - 10s - loss: 2.0824 - acc: 0.2598 - val_loss: 2.0535 - val_acc: 0.2751\n",
      "Epoch 47/50\n",
      "31933/31933 [==============================] - 10s - loss: 2.0791 - acc: 0.2602 - val_loss: 2.0521 - val_acc: 0.2747\n",
      "Epoch 48/50\n",
      "31933/31933 [==============================] - 10s - loss: 2.0794 - acc: 0.2582 - val_loss: 2.0510 - val_acc: 0.2746\n",
      "Epoch 49/50\n",
      "31933/31933 [==============================] - 10s - loss: 2.0763 - acc: 0.2602 - val_loss: 2.0492 - val_acc: 0.2750\n",
      "Epoch 50/50\n",
      "31933/31933 [==============================] - 10s - loss: 2.0757 - acc: 0.2631 - val_loss: 2.0475 - val_acc: 0.2743\n",
      "31008/31933 [============================>.] - ETA: 0s\n",
      "acc: 27.43%\n"
     ]
    }
   ],
   "source": [
    "# Fit the model 1\n",
    "history = model.fit(X, Y, epochs=50, batch_size=10,\n",
    "          validation_data=(X_test, Y_test))\n",
    "# evaluate the model\n",
    "scores = model.evaluate(X, Y)\n",
    "print(\"\\n%s: %.2f%%\" % (model.metrics_names[1], scores[1]*100))"
   ]
  },
  {
   "cell_type": "code",
   "execution_count": 16,
   "metadata": {
    "scrolled": true
   },
   "outputs": [
    {
     "name": "stdout",
     "output_type": "stream",
     "text": [
      "dict_keys(['val_loss', 'loss', 'val_acc', 'acc'])\n"
     ]
    },
    {
     "data": {
      "image/png": "[encoded data removed]",
      "text/plain": [
       "<matplotlib.figure.Figure at 0x7f47c6c4f278>"
      ]
     },
     "metadata": {},
     "output_type": "display_data"
    },
    {
     "data": {
      "image/png": "[encoded data removed]",
      "text/plain": [
       "<matplotlib.figure.Figure at 0x7f47ba1e5240>"
      ]
     },
     "metadata": {},
     "output_type": "display_data"
    }
   ],
   "source": [
    "print(history.history.keys())\n",
    "#  \"Accuracy\"\n",
    "plt.plot(history.history['acc'])\n",
    "plt.plot(history.history['val_acc'])\n",
    "plt.title('model accuracy')\n",
    "plt.ylabel('accuracy')\n",
    "plt.xlabel('epoch')\n",
    "plt.legend(['train', 'validation'], loc='upper left')\n",
    "plt.show()\n",
    "\n",
    "# \"Loss\"\n",
    "plt.plot(history.history['loss'])\n",
    "plt.plot(history.history['val_loss'])\n",
    "plt.title('model loss')\n",
    "plt.ylabel('loss')\n",
    "plt.xlabel('epoch')\n",
    "plt.legend(['train', 'validation'], loc='upper left')\n",
    "plt.show()"
   ]
  },
  {
   "cell_type": "code",
   "execution_count": null,
   "metadata": {},
   "outputs": [],
   "source": []
  }
 ],
 "metadata": {
  "kernelspec": {
   "display_name": "Python 3",
   "language": "python",
   "name": "python3"
  },
  "language_info": {
   "codemirror_mode": {
    "name": "ipython",
    "version": 3
   },
   "file_extension": ".py",
   "mimetype": "text/x-python",
   "name": "python",
   "nbconvert_exporter": "python",
   "pygments_lexer": "ipython3",
   "version": "3.5.2"
  }
 },
 "nbformat": 4,
 "nbformat_minor": 2
}
