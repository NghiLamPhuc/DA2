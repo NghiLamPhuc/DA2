{
 "cells": [
  {
   "cell_type": "code",
   "execution_count": 1,
   "metadata": {},
   "outputs": [
    {
     "name": "stderr",
     "output_type": "stream",
     "text": [
      "Using TensorFlow backend.\n"
     ]
    }
   ],
   "source": [
    "# Create your first MLP in Keras\n",
    "import keras\n",
    "from keras.models import Sequential\n",
    "from keras.layers import Dense, Dropout, Flatten, Activation\n",
    "\n",
    "import os\n",
    "import numpy as np\n",
    "from scipy import sparse\n",
    "import matplotlib.pyplot as plt"
   ]
  },
  {
   "cell_type": "code",
   "execution_count": 2,
   "metadata": {},
   "outputs": [],
   "source": [
    "# fix random seed for reproducibility\n",
    "np.random.seed(1)"
   ]
  },
  {
   "cell_type": "code",
   "execution_count": 23,
   "metadata": {},
   "outputs": [],
   "source": [
    "dataset = np.loadtxt(\"train_en.txt\")\n",
    "# split into input (X) and output (Y) variables\n",
    "X = dataset[:,0:300]\n",
    "Y = dataset[:,300]\n",
    "Y = keras.utils.to_categorical(Y, num_classes=13)\n",
    "\n",
    "test_data = np.loadtxt(\"test_en.txt\")\n",
    "# split into input (X) and output (Y) variables\n",
    "X_test = dataset[:,0:300]\n",
    "Y_test = dataset[:,300]\n",
    "Y_test = keras.utils.to_categorical(Y_test, num_classes=13)"
   ]
  },
  {
   "cell_type": "code",
   "execution_count": 3,
   "metadata": {},
   "outputs": [],
   "source": [
    "# create model\n",
    "model = Sequential()\n",
    "model.add(Dense(100, input_dim=300, activation='relu'))\n",
    "model.add(Dropout(0.5))\n",
    "model.add(Dense(13, activation='sigmoid'))\n",
    "\n",
    "# Compile model\n",
    "model.compile(optimizer='sgd',loss='categorical_crossentropy',metrics=['accuracy'])"
   ]
  },
  {
   "cell_type": "code",
   "execution_count": 4,
   "metadata": {
    "scrolled": true
   },
   "outputs": [
    {
     "name": "stdout",
     "output_type": "stream",
     "text": [
      "_________________________________________________________________\n",
      "Layer (type)                 Output Shape              Param #   \n",
      "=================================================================\n",
      "dense_1 (Dense)              (None, 100)               30100     \n",
      "_________________________________________________________________\n",
      "dropout_1 (Dropout)          (None, 100)               0         \n",
      "_________________________________________________________________\n",
      "dense_2 (Dense)              (None, 13)                1313      \n",
      "=================================================================\n",
      "Total params: 31,413\n",
      "Trainable params: 31,413\n",
      "Non-trainable params: 0\n",
      "_________________________________________________________________\n"
     ]
    }
   ],
   "source": [
    "model.summary()"
   ]
  },
  {
   "cell_type": "code",
   "execution_count": 6,
   "metadata": {
    "scrolled": false
   },
   "outputs": [
    {
     "name": "stdout",
     "output_type": "stream",
     "text": [
      "Train on 31933 samples, validate on 31933 samples\n",
      "Epoch 1/50\n",
      "31933/31933 [==============================] - 10s - loss: 2.2135 - acc: 0.2129 - val_loss: 2.1455 - val_acc: 0.2172\n",
      "Epoch 2/50\n",
      "31933/31933 [==============================] - 10s - loss: 2.1561 - acc: 0.2216 - val_loss: 2.1258 - val_acc: 0.2270\n",
      "Epoch 3/50\n",
      "31933/31933 [==============================] - 10s - loss: 2.1367 - acc: 0.2198 - val_loss: 2.1071 - val_acc: 0.2124\n",
      "Epoch 4/50\n",
      "31933/31933 [==============================] - 10s - loss: 2.1155 - acc: 0.2210 - val_loss: 2.0887 - val_acc: 0.2132\n",
      "Epoch 5/50\n",
      "31933/31933 [==============================] - 10s - loss: 2.1011 - acc: 0.2233 - val_loss: 2.0711 - val_acc: 0.2227\n",
      "Epoch 6/50\n",
      "31933/31933 [==============================] - 10s - loss: 2.0861 - acc: 0.2336 - val_loss: 2.0582 - val_acc: 0.2512\n",
      "Epoch 7/50\n",
      "31933/31933 [==============================] - 11s - loss: 2.0717 - acc: 0.2549 - val_loss: 2.0384 - val_acc: 0.2788\n",
      "Epoch 8/50\n",
      "31933/31933 [==============================] - 10s - loss: 2.0624 - acc: 0.2667 - val_loss: 2.0252 - val_acc: 0.2894\n",
      "Epoch 9/50\n",
      "31933/31933 [==============================] - 10s - loss: 2.0491 - acc: 0.2758 - val_loss: 2.0138 - val_acc: 0.2941\n",
      "Epoch 10/50\n",
      "31933/31933 [==============================] - 10s - loss: 2.0368 - acc: 0.2807 - val_loss: 2.0010 - val_acc: 0.3007\n",
      "Epoch 11/50\n",
      "31933/31933 [==============================] - 11s - loss: 2.0292 - acc: 0.2873 - val_loss: 1.9955 - val_acc: 0.3045\n",
      "Epoch 12/50\n",
      "31933/31933 [==============================] - 10s - loss: 2.0227 - acc: 0.2893 - val_loss: 1.9852 - val_acc: 0.3076\n",
      "Epoch 13/50\n",
      "31933/31933 [==============================] - 10s - loss: 2.0160 - acc: 0.2936 - val_loss: 1.9756 - val_acc: 0.3138\n",
      "Epoch 14/50\n",
      "31933/31933 [==============================] - 10s - loss: 2.0065 - acc: 0.2960 - val_loss: 1.9689 - val_acc: 0.3153\n",
      "Epoch 15/50\n",
      "31933/31933 [==============================] - 10s - loss: 2.0024 - acc: 0.2992 - val_loss: 1.9668 - val_acc: 0.3143\n",
      "Epoch 16/50\n",
      "31933/31933 [==============================] - 10s - loss: 1.9971 - acc: 0.3017 - val_loss: 1.9587 - val_acc: 0.3180\n",
      "Epoch 17/50\n",
      "31933/31933 [==============================] - 10s - loss: 1.9912 - acc: 0.3043 - val_loss: 1.9567 - val_acc: 0.3166\n",
      "Epoch 18/50\n",
      "31933/31933 [==============================] - 10s - loss: 1.9893 - acc: 0.3066 - val_loss: 1.9601 - val_acc: 0.3241\n",
      "Epoch 19/50\n",
      "31933/31933 [==============================] - 10s - loss: 1.9870 - acc: 0.3086 - val_loss: 1.9459 - val_acc: 0.3223\n",
      "Epoch 20/50\n",
      "31933/31933 [==============================] - 10s - loss: 1.9815 - acc: 0.3090 - val_loss: 1.9450 - val_acc: 0.3195\n",
      "Epoch 21/50\n",
      "31933/31933 [==============================] - 10s - loss: 1.9786 - acc: 0.3079 - val_loss: 1.9392 - val_acc: 0.3259\n",
      "Epoch 22/50\n",
      "31933/31933 [==============================] - 10s - loss: 1.9742 - acc: 0.3117 - val_loss: 1.9357 - val_acc: 0.3263\n",
      "Epoch 23/50\n",
      "31933/31933 [==============================] - 10s - loss: 1.9714 - acc: 0.3120 - val_loss: 1.9443 - val_acc: 0.3273\n",
      "Epoch 24/50\n",
      "31933/31933 [==============================] - 10s - loss: 1.9693 - acc: 0.3139 - val_loss: 1.9369 - val_acc: 0.3249\n",
      "Epoch 25/50\n",
      "31933/31933 [==============================] - 10s - loss: 1.9666 - acc: 0.3150 - val_loss: 1.9275 - val_acc: 0.3298\n",
      "Epoch 26/50\n",
      "31933/31933 [==============================] - 10s - loss: 1.9656 - acc: 0.3177 - val_loss: 1.9283 - val_acc: 0.3267\n",
      "Epoch 27/50\n",
      "31933/31933 [==============================] - 10s - loss: 1.9618 - acc: 0.3169 - val_loss: 1.9229 - val_acc: 0.3321\n",
      "Epoch 28/50\n",
      "31933/31933 [==============================] - 10s - loss: 1.9583 - acc: 0.3175 - val_loss: 1.9182 - val_acc: 0.3323\n",
      "Epoch 29/50\n",
      "31933/31933 [==============================] - 10s - loss: 1.9561 - acc: 0.3185 - val_loss: 1.9209 - val_acc: 0.3265\n",
      "Epoch 30/50\n",
      "31933/31933 [==============================] - 11s - loss: 1.9551 - acc: 0.3226 - val_loss: 1.9195 - val_acc: 0.3335\n",
      "Epoch 31/50\n",
      "31933/31933 [==============================] - 10s - loss: 1.9533 - acc: 0.3194 - val_loss: 1.9118 - val_acc: 0.3342\n",
      "Epoch 32/50\n",
      "31933/31933 [==============================] - 10s - loss: 1.9502 - acc: 0.3221 - val_loss: 1.9102 - val_acc: 0.3342\n",
      "Epoch 33/50\n",
      "31933/31933 [==============================] - 11s - loss: 1.9511 - acc: 0.3210 - val_loss: 1.9080 - val_acc: 0.3355\n",
      "Epoch 34/50\n",
      "31933/31933 [==============================] - 11s - loss: 1.9468 - acc: 0.3219 - val_loss: 1.9059 - val_acc: 0.3375\n",
      "Epoch 35/50\n",
      "31933/31933 [==============================] - 11s - loss: 1.9467 - acc: 0.3231 - val_loss: 1.9028 - val_acc: 0.3404\n",
      "Epoch 36/50\n",
      "31933/31933 [==============================] - 10s - loss: 1.9459 - acc: 0.3249 - val_loss: 1.9075 - val_acc: 0.3381\n",
      "Epoch 37/50\n",
      "31933/31933 [==============================] - 10s - loss: 1.9428 - acc: 0.3248 - val_loss: 1.8997 - val_acc: 0.3412\n",
      "Epoch 38/50\n",
      "31933/31933 [==============================] - 10s - loss: 1.9404 - acc: 0.3233 - val_loss: 1.8996 - val_acc: 0.3412\n",
      "Epoch 39/50\n",
      "31933/31933 [==============================] - 11s - loss: 1.9375 - acc: 0.3257 - val_loss: 1.9006 - val_acc: 0.3413\n",
      "Epoch 40/50\n",
      "31933/31933 [==============================] - 10s - loss: 1.9358 - acc: 0.3288 - val_loss: 1.8964 - val_acc: 0.3386\n",
      "Epoch 41/50\n",
      "31933/31933 [==============================] - 11s - loss: 1.9385 - acc: 0.3257 - val_loss: 1.9001 - val_acc: 0.3383\n",
      "Epoch 42/50\n",
      "31933/31933 [==============================] - 11s - loss: 1.9361 - acc: 0.3251 - val_loss: 1.8959 - val_acc: 0.3429\n",
      "Epoch 43/50\n",
      "31933/31933 [==============================] - 11s - loss: 1.9336 - acc: 0.3282 - val_loss: 1.8921 - val_acc: 0.3427\n",
      "Epoch 44/50\n",
      "31933/31933 [==============================] - 11s - loss: 1.9315 - acc: 0.3284 - val_loss: 1.8893 - val_acc: 0.3430\n",
      "Epoch 45/50\n",
      "31933/31933 [==============================] - 11s - loss: 1.9311 - acc: 0.3292 - val_loss: 1.8886 - val_acc: 0.3412\n",
      "Epoch 46/50\n",
      "31933/31933 [==============================] - 10s - loss: 1.9307 - acc: 0.3288 - val_loss: 1.8856 - val_acc: 0.3438\n",
      "Epoch 47/50\n",
      "31933/31933 [==============================] - 11s - loss: 1.9280 - acc: 0.3288 - val_loss: 1.8951 - val_acc: 0.3420\n",
      "Epoch 48/50\n",
      "31933/31933 [==============================] - 11s - loss: 1.9272 - acc: 0.3294 - val_loss: 1.8870 - val_acc: 0.3471\n",
      "Epoch 49/50\n",
      "31933/31933 [==============================] - 11s - loss: 1.9256 - acc: 0.3316 - val_loss: 1.8812 - val_acc: 0.3459\n",
      "Epoch 50/50\n",
      "31933/31933 [==============================] - 11s - loss: 1.9271 - acc: 0.3316 - val_loss: 1.8849 - val_acc: 0.3428\n",
      "31744/31933 [============================>.] - ETA: 0s\n",
      "acc: 34.28%\n"
     ]
    }
   ],
   "source": [
    "# Fit the model 1\n",
    "history = model.fit(X, Y, epochs=50, batch_size=10,\n",
    "          validation_data=(X_test, Y_test))\n",
    "# evaluate the model\n",
    "scores = model.evaluate(X, Y)\n",
    "print(\"\\n%s: %.2f%%\" % (model.metrics_names[1], scores[1]*100))"
   ]
  },
  {
   "cell_type": "code",
   "execution_count": 7,
   "metadata": {
    "scrolled": true
   },
   "outputs": [
    {
     "name": "stdout",
     "output_type": "stream",
     "text": [
      "dict_keys(['loss', 'val_acc', 'acc', 'val_loss'])\n"
     ]
    },
    {
     "data": {
      "image/png": "[encoded data removed]",
      "text/plain": [
       "<matplotlib.figure.Figure at 0x7f97aaef5fd0>"
      ]
     },
     "metadata": {},
     "output_type": "display_data"
    },
    {
     "data": {
      "image/png": "[encoded data removed]",
      "text/plain": [
       "<matplotlib.figure.Figure at 0x7f97a9e42518>"
      ]
     },
     "metadata": {},
     "output_type": "display_data"
    }
   ],
   "source": [
    "print(history.history.keys())\n",
    "#  \"Accuracy\"\n",
    "plt.plot(history.history['acc'])\n",
    "plt.plot(history.history['val_acc'])\n",
    "plt.title('model accuracy')\n",
    "plt.ylabel('accuracy')\n",
    "plt.xlabel('epoch')\n",
    "plt.legend(['train', 'validation'], loc='upper left')\n",
    "plt.show()\n",
    "\n",
    "# \"Loss\"\n",
    "plt.plot(history.history['loss'])\n",
    "plt.plot(history.history['val_loss'])\n",
    "plt.title('model loss')\n",
    "plt.ylabel('loss')\n",
    "plt.xlabel('epoch')\n",
    "plt.legend(['train', 'validation'], loc='upper left')\n",
    "plt.show()"
   ]
  },
  {
   "cell_type": "code",
   "execution_count": null,
   "metadata": {},
   "outputs": [],
   "source": []
  }
 ],
 "metadata": {
  "kernelspec": {
   "display_name": "Python 3",
   "language": "python",
   "name": "python3"
  },
  "language_info": {
   "codemirror_mode": {
    "name": "ipython",
    "version": 3
   },
   "file_extension": ".py",
   "mimetype": "text/x-python",
   "name": "python",
   "nbconvert_exporter": "python",
   "pygments_lexer": "ipython3",
   "version": "3.5.2"
  }
 },
 "nbformat": 4,
 "nbformat_minor": 2
}
