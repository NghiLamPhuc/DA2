{
 "cells": [
  {
   "cell_type": "code",
   "execution_count": 1,
   "metadata": {},
   "outputs": [
    {
     "name": "stderr",
     "output_type": "stream",
     "text": [
      "Using TensorFlow backend.\n"
     ]
    }
   ],
   "source": [
    "# Create your first MLP in Keras\n",
    "import keras\n",
    "from keras.models import Sequential\n",
    "from keras.layers import Dense, Dropout, Flatten, Activation\n",
    "import os\n",
    "import numpy as np\n",
    "from scipy import sparse\n",
    "import matplotlib.pyplot as plt"
   ]
  },
  {
   "cell_type": "code",
   "execution_count": 2,
   "metadata": {},
   "outputs": [],
   "source": [
    "# fix random seed for reproducibility\n",
    "np.random.seed(1)"
   ]
  },
  {
   "cell_type": "code",
   "execution_count": 3,
   "metadata": {},
   "outputs": [],
   "source": [
    "dataset = np.loadtxt(\"train_en.txt\")\n",
    "# split into input (X) and output (Y) variables\n",
    "X = dataset[:,0:300]\n",
    "Y = dataset[:,300]\n",
    "Y = keras.utils.to_categorical(Y, num_classes=13)\n",
    "\n",
    "test_data = np.loadtxt(\"test_en.txt\")\n",
    "# split into input (X) and output (Y) variables\n",
    "X_test = dataset[:,0:300]\n",
    "Y_test = dataset[:,300]\n",
    "Y_test = keras.utils.to_categorical(Y_test, num_classes=13)"
   ]
  },
  {
   "cell_type": "code",
   "execution_count": 4,
   "metadata": {},
   "outputs": [],
   "source": [
    "# create model\n",
    "model = Sequential()\n",
    "model.add(Dense(100, input_dim=300, activation='sigmoid'))\n",
    "model.add(Dropout(0.5))\n",
    "model.add(Dense(13, activation='softmax'))\n",
    "# Compile model\n",
    "model.compile(optimizer='sgd',loss='categorical_crossentropy',metrics=['accuracy'])"
   ]
  },
  {
   "cell_type": "code",
   "execution_count": 5,
   "metadata": {},
   "outputs": [
    {
     "name": "stdout",
     "output_type": "stream",
     "text": [
      "_________________________________________________________________\n",
      "Layer (type)                 Output Shape              Param #   \n",
      "=================================================================\n",
      "dense_1 (Dense)              (None, 100)               30100     \n",
      "_________________________________________________________________\n",
      "dropout_1 (Dropout)          (None, 100)               0         \n",
      "_________________________________________________________________\n",
      "dense_2 (Dense)              (None, 13)                1313      \n",
      "=================================================================\n",
      "Total params: 31,413\n",
      "Trainable params: 31,413\n",
      "Non-trainable params: 0\n",
      "_________________________________________________________________\n"
     ]
    }
   ],
   "source": [
    "model.summary()"
   ]
  },
  {
   "cell_type": "code",
   "execution_count": 6,
   "metadata": {
    "scrolled": true
   },
   "outputs": [
    {
     "name": "stdout",
     "output_type": "stream",
     "text": [
      "Train on 31933 samples, validate on 31933 samples\n",
      "Epoch 1/50\n",
      "31933/31933 [==============================] - 11s - loss: 2.2477 - acc: 0.1975 - val_loss: 2.1482 - val_acc: 0.2125\n",
      "Epoch 2/50\n",
      "31933/31933 [==============================] - 11s - loss: 2.1757 - acc: 0.2179 - val_loss: 2.1475 - val_acc: 0.2207\n",
      "Epoch 3/50\n",
      "31933/31933 [==============================] - 11s - loss: 2.1666 - acc: 0.2216 - val_loss: 2.1409 - val_acc: 0.2320\n",
      "Epoch 4/50\n",
      "31933/31933 [==============================] - 11s - loss: 2.1584 - acc: 0.2219 - val_loss: 2.1395 - val_acc: 0.2330\n",
      "Epoch 5/50\n",
      "31933/31933 [==============================] - 11s - loss: 2.1527 - acc: 0.2235 - val_loss: 2.1342 - val_acc: 0.2447\n",
      "Epoch 6/50\n",
      "31933/31933 [==============================] - 11s - loss: 2.1492 - acc: 0.2320 - val_loss: 2.1322 - val_acc: 0.2201\n",
      "Epoch 7/50\n",
      "31933/31933 [==============================] - 11s - loss: 2.1437 - acc: 0.2272 - val_loss: 2.1260 - val_acc: 0.2191\n",
      "Epoch 8/50\n",
      "31933/31933 [==============================] - 11s - loss: 2.1413 - acc: 0.2279 - val_loss: 2.1203 - val_acc: 0.2490\n",
      "Epoch 9/50\n",
      "31933/31933 [==============================] - 11s - loss: 2.1370 - acc: 0.2332 - val_loss: 2.1161 - val_acc: 0.2499\n",
      "Epoch 10/50\n",
      "31933/31933 [==============================] - 10s - loss: 2.1314 - acc: 0.2326 - val_loss: 2.1122 - val_acc: 0.2444\n",
      "Epoch 11/50\n",
      "31933/31933 [==============================] - 10s - loss: 2.1283 - acc: 0.2372 - val_loss: 2.1074 - val_acc: 0.2496\n",
      "Epoch 12/50\n",
      "31933/31933 [==============================] - 9s - loss: 2.1272 - acc: 0.2366 - val_loss: 2.1033 - val_acc: 0.2538\n",
      "Epoch 13/50\n",
      "31933/31933 [==============================] - 11s - loss: 2.1223 - acc: 0.2386 - val_loss: 2.0995 - val_acc: 0.2497\n",
      "Epoch 14/50\n",
      "31933/31933 [==============================] - 10s - loss: 2.1169 - acc: 0.2402 - val_loss: 2.0943 - val_acc: 0.2564\n",
      "Epoch 15/50\n",
      "31933/31933 [==============================] - 9s - loss: 2.1147 - acc: 0.2419 - val_loss: 2.0912 - val_acc: 0.2581\n",
      "Epoch 16/50\n",
      "31933/31933 [==============================] - 10s - loss: 2.1122 - acc: 0.2473 - val_loss: 2.0871 - val_acc: 0.2549\n",
      "Epoch 17/50\n",
      "31933/31933 [==============================] - 10s - loss: 2.1086 - acc: 0.2484 - val_loss: 2.0845 - val_acc: 0.2624\n",
      "Epoch 18/50\n",
      "31933/31933 [==============================] - 9s - loss: 2.1064 - acc: 0.2469 - val_loss: 2.0816 - val_acc: 0.2608\n",
      "Epoch 19/50\n",
      "31933/31933 [==============================] - 9s - loss: 2.1036 - acc: 0.2515 - val_loss: 2.0823 - val_acc: 0.2418\n",
      "Epoch 20/50\n",
      "31933/31933 [==============================] - 10s - loss: 2.0991 - acc: 0.2508 - val_loss: 2.0791 - val_acc: 0.2448\n",
      "Epoch 21/50\n",
      "31933/31933 [==============================] - 11s - loss: 2.0989 - acc: 0.2535 - val_loss: 2.0738 - val_acc: 0.2636\n",
      "Epoch 22/50\n",
      "31933/31933 [==============================] - 10s - loss: 2.0969 - acc: 0.2532 - val_loss: 2.0711 - val_acc: 0.2687\n",
      "Epoch 23/50\n",
      "31933/31933 [==============================] - 10s - loss: 2.0943 - acc: 0.2582 - val_loss: 2.0686 - val_acc: 0.2691\n",
      "Epoch 24/50\n",
      "31933/31933 [==============================] - 11s - loss: 2.0936 - acc: 0.2554 - val_loss: 2.0687 - val_acc: 0.2602\n",
      "Epoch 25/50\n",
      "31933/31933 [==============================] - 10s - loss: 2.0903 - acc: 0.2555 - val_loss: 2.0656 - val_acc: 0.2721\n",
      "Epoch 26/50\n",
      "31933/31933 [==============================] - 10s - loss: 2.0897 - acc: 0.2587 - val_loss: 2.0661 - val_acc: 0.2636\n",
      "Epoch 27/50\n",
      "31933/31933 [==============================] - 11s - loss: 2.0880 - acc: 0.2581 - val_loss: 2.0626 - val_acc: 0.2714\n",
      "Epoch 28/50\n",
      "31933/31933 [==============================] - 11s - loss: 2.0833 - acc: 0.2614 - val_loss: 2.0604 - val_acc: 0.2705\n",
      "Epoch 29/50\n",
      "31933/31933 [==============================] - 10s - loss: 2.0833 - acc: 0.2593 - val_loss: 2.0609 - val_acc: 0.2604\n",
      "Epoch 30/50\n",
      "31933/31933 [==============================] - 10s - loss: 2.0821 - acc: 0.2600 - val_loss: 2.0577 - val_acc: 0.2788\n",
      "Epoch 31/50\n",
      "31933/31933 [==============================] - 11s - loss: 2.0821 - acc: 0.2630 - val_loss: 2.0560 - val_acc: 0.2734\n",
      "Epoch 32/50\n",
      "31933/31933 [==============================] - 10s - loss: 2.0799 - acc: 0.2629 - val_loss: 2.0529 - val_acc: 0.2752\n",
      "Epoch 33/50\n",
      "31933/31933 [==============================] - 10s - loss: 2.0786 - acc: 0.2625 - val_loss: 2.0518 - val_acc: 0.2738\n",
      "Epoch 34/50\n",
      "31933/31933 [==============================] - 10s - loss: 2.0777 - acc: 0.2634 - val_loss: 2.0505 - val_acc: 0.2750\n",
      "Epoch 35/50\n",
      "31933/31933 [==============================] - 11s - loss: 2.0766 - acc: 0.2623 - val_loss: 2.0498 - val_acc: 0.2732\n",
      "Epoch 36/50\n",
      "31933/31933 [==============================] - 11s - loss: 2.0742 - acc: 0.2659 - val_loss: 2.0470 - val_acc: 0.2791\n",
      "Epoch 37/50\n",
      "31933/31933 [==============================] - 10s - loss: 2.0753 - acc: 0.2641 - val_loss: 2.0464 - val_acc: 0.2777\n",
      "Epoch 38/50\n",
      "31933/31933 [==============================] - 11s - loss: 2.0715 - acc: 0.2660 - val_loss: 2.0450 - val_acc: 0.2775\n",
      "Epoch 39/50\n",
      "31933/31933 [==============================] - 11s - loss: 2.0676 - acc: 0.2691 - val_loss: 2.0428 - val_acc: 0.2794\n",
      "Epoch 40/50\n",
      "31933/31933 [==============================] - 10s - loss: 2.0697 - acc: 0.2663 - val_loss: 2.0437 - val_acc: 0.2794\n",
      "Epoch 41/50\n",
      "31933/31933 [==============================] - 10s - loss: 2.0686 - acc: 0.2685 - val_loss: 2.0407 - val_acc: 0.2795\n",
      "Epoch 42/50\n",
      "31933/31933 [==============================] - 11s - loss: 2.0678 - acc: 0.2673 - val_loss: 2.0406 - val_acc: 0.2805\n",
      "Epoch 43/50\n",
      "31933/31933 [==============================] - 10s - loss: 2.0638 - acc: 0.2697 - val_loss: 2.0390 - val_acc: 0.2782\n",
      "Epoch 44/50\n",
      "31933/31933 [==============================] - 10s - loss: 2.0644 - acc: 0.2669 - val_loss: 2.0372 - val_acc: 0.2832\n",
      "Epoch 45/50\n",
      "31933/31933 [==============================] - 11s - loss: 2.0647 - acc: 0.2673 - val_loss: 2.0370 - val_acc: 0.2811\n",
      "Epoch 46/50\n",
      "31933/31933 [==============================] - 11s - loss: 2.0646 - acc: 0.2709 - val_loss: 2.0352 - val_acc: 0.2837\n",
      "Epoch 47/50\n",
      "31933/31933 [==============================] - 10s - loss: 2.0614 - acc: 0.2715 - val_loss: 2.0350 - val_acc: 0.2863\n",
      "Epoch 48/50\n",
      "31933/31933 [==============================] - 11s - loss: 2.0616 - acc: 0.2709 - val_loss: 2.0333 - val_acc: 0.2862\n",
      "Epoch 49/50\n",
      "31933/31933 [==============================] - 11s - loss: 2.0602 - acc: 0.2708 - val_loss: 2.0330 - val_acc: 0.2865\n",
      "Epoch 50/50\n",
      "31933/31933 [==============================] - 10s - loss: 2.0587 - acc: 0.2741 - val_loss: 2.0317 - val_acc: 0.2832\n",
      "31680/31933 [============================>.] - ETA: 0s\n",
      "acc: 28.32%\n"
     ]
    }
   ],
   "source": [
    "# Fit the model 1\n",
    "history = model.fit(X, Y, epochs=50, batch_size=10,\n",
    "          validation_data=(X_test, Y_test))\n",
    "# evaluate the model\n",
    "scores = model.evaluate(X, Y)\n",
    "print(\"\\n%s: %.2f%%\" % (model.metrics_names[1], scores[1]*100))"
   ]
  },
  {
   "cell_type": "code",
   "execution_count": 8,
   "metadata": {
    "scrolled": true
   },
   "outputs": [
    {
     "name": "stdout",
     "output_type": "stream",
     "text": [
      "dict_keys(['val_loss', 'val_acc', 'acc', 'loss'])\n"
     ]
    },
    {
     "data": {
      "image/png": "[encoded data removed]",
      "text/plain": [
       "<matplotlib.figure.Figure at 0x7fe6757c1cf8>"
      ]
     },
     "metadata": {},
     "output_type": "display_data"
    },
    {
     "data": {
      "image/png": "[encoded data removed]",
      "text/plain": [
       "<matplotlib.figure.Figure at 0x7fe675789588>"
      ]
     },
     "metadata": {},
     "output_type": "display_data"
    }
   ],
   "source": [
    "print(history.history.keys())\n",
    "#  \"Accuracy\"\n",
    "plt.plot(history.history['acc'])\n",
    "plt.plot(history.history['val_acc'])\n",
    "plt.title('model accuracy')\n",
    "plt.ylabel('accuracy')\n",
    "plt.xlabel('epoch')\n",
    "plt.legend(['train', 'validation'], loc='upper left')\n",
    "plt.show()\n",
    "\n",
    "# \"Loss\"\n",
    "plt.plot(history.history['loss'])\n",
    "plt.plot(history.history['val_loss'])\n",
    "plt.title('model loss')\n",
    "plt.ylabel('loss')\n",
    "plt.xlabel('epoch')\n",
    "plt.legend(['train', 'validation'], loc='upper left')\n",
    "plt.show()"
   ]
  },
  {
   "cell_type": "code",
   "execution_count": null,
   "metadata": {},
   "outputs": [],
   "source": []
  }
 ],
 "metadata": {
  "kernelspec": {
   "display_name": "Python 3",
   "language": "python",
   "name": "python3"
  },
  "language_info": {
   "codemirror_mode": {
    "name": "ipython",
    "version": 3
   },
   "file_extension": ".py",
   "mimetype": "text/x-python",
   "name": "python",
   "nbconvert_exporter": "python",
   "pygments_lexer": "ipython3",
   "version": "3.5.2"
  }
 },
 "nbformat": 4,
 "nbformat_minor": 2
}
