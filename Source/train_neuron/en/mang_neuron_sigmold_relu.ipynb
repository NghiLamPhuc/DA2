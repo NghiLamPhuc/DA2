{
 "cells": [
  {
   "cell_type": "code",
   "execution_count": 1,
   "metadata": {},
   "outputs": [
    {
     "name": "stderr",
     "output_type": "stream",
     "text": [
      "Using TensorFlow backend.\n"
     ]
    }
   ],
   "source": [
    "# Create your first MLP in Keras\n",
    "import keras\n",
    "from keras.models import Sequential\n",
    "from keras.layers import Dense, Dropout, Flatten, Activation\n",
    "import os\n",
    "import numpy as np\n",
    "from scipy import sparse\n",
    "import matplotlib.pyplot as plt"
   ]
  },
  {
   "cell_type": "code",
   "execution_count": 2,
   "metadata": {},
   "outputs": [],
   "source": [
    "# fix random seed for reproducibility\n",
    "np.random.seed(1)"
   ]
  },
  {
   "cell_type": "code",
   "execution_count": 3,
   "metadata": {},
   "outputs": [],
   "source": [
    "dataset = np.loadtxt(\"train_en.txt\")\n",
    "# split into input (X) and output (Y) variables\n",
    "X = dataset[:,0:300]\n",
    "Y = dataset[:,300]\n",
    "Y = keras.utils.to_categorical(Y, num_classes=13)\n",
    "\n",
    "test_data = np.loadtxt(\"test_en.txt\")\n",
    "# split into input (X) and output (Y) variables\n",
    "X_test = dataset[:,0:300]\n",
    "Y_test = dataset[:,300]\n",
    "Y_test = keras.utils.to_categorical(Y_test, num_classes=13)"
   ]
  },
  {
   "cell_type": "code",
   "execution_count": 4,
   "metadata": {},
   "outputs": [],
   "source": [
    "# create model\n",
    "model = Sequential()\n",
    "model.add(Dense(100, input_dim=300, activation='sigmoid'))\n",
    "model.add(Dropout(0.5))\n",
    "model.add(Dense(13, activation='relu'))\n",
    "# Compile model\n",
    "model.compile(optimizer='sgd',loss='categorical_crossentropy',metrics=['accuracy'])"
   ]
  },
  {
   "cell_type": "code",
   "execution_count": 5,
   "metadata": {},
   "outputs": [
    {
     "name": "stdout",
     "output_type": "stream",
     "text": [
      "_________________________________________________________________\n",
      "Layer (type)                 Output Shape              Param #   \n",
      "=================================================================\n",
      "dense_1 (Dense)              (None, 100)               30100     \n",
      "_________________________________________________________________\n",
      "dropout_1 (Dropout)          (None, 100)               0         \n",
      "_________________________________________________________________\n",
      "dense_2 (Dense)              (None, 13)                1313      \n",
      "=================================================================\n",
      "Total params: 31,413\n",
      "Trainable params: 31,413\n",
      "Non-trainable params: 0\n",
      "_________________________________________________________________\n"
     ]
    }
   ],
   "source": [
    "model.summary()"
   ]
  },
  {
   "cell_type": "code",
   "execution_count": 6,
   "metadata": {
    "scrolled": true
   },
   "outputs": [
    {
     "name": "stdout",
     "output_type": "stream",
     "text": [
      "Train on 31933 samples, validate on 31933 samples\n",
      "Epoch 1/50\n",
      "31933/31933 [==============================] - 10s - loss: 3.3692 - acc: 0.0449 - val_loss: 2.6701 - val_acc: 0.0444\n",
      "Epoch 2/50\n",
      "31933/31933 [==============================] - 10s - loss: 2.5444 - acc: 0.0444 - val_loss: 2.4532 - val_acc: 0.0444\n",
      "Epoch 3/50\n",
      "31933/31933 [==============================] - 9s - loss: 2.4097 - acc: 0.0489 - val_loss: 2.3583 - val_acc: 0.0444\n",
      "Epoch 4/50\n",
      "31933/31933 [==============================] - 10s - loss: 2.3263 - acc: 0.0785 - val_loss: 2.2837 - val_acc: 0.0452\n",
      "Epoch 5/50\n",
      "31933/31933 [==============================] - 10s - loss: 2.2704 - acc: 0.1382 - val_loss: 2.2323 - val_acc: 0.2093\n",
      "Epoch 6/50\n",
      "31933/31933 [==============================] - 11s - loss: 2.2441 - acc: 0.1841 - val_loss: 2.2143 - val_acc: 0.2167\n",
      "Epoch 7/50\n",
      "31933/31933 [==============================] - 10s - loss: 2.2341 - acc: 0.2000 - val_loss: 2.1903 - val_acc: 0.2206\n",
      "Epoch 8/50\n",
      "31933/31933 [==============================] - 11s - loss: 2.2522 - acc: 0.1672 - val_loss: 2.2562 - val_acc: 0.2243\n",
      "Epoch 9/50\n",
      "31933/31933 [==============================] - 10s - loss: 2.2602 - acc: 0.1914 - val_loss: 2.2205 - val_acc: 0.2293\n",
      "Epoch 10/50\n",
      "31933/31933 [==============================] - 10s - loss: 2.2336 - acc: 0.2044 - val_loss: 2.1917 - val_acc: 0.2314\n",
      "Epoch 11/50\n",
      "31933/31933 [==============================] - 10s - loss: 2.2174 - acc: 0.2057 - val_loss: 2.1816 - val_acc: 0.2314\n",
      "Epoch 12/50\n",
      "31933/31933 [==============================] - 10s - loss: 2.2258 - acc: 0.2051 - val_loss: 2.1955 - val_acc: 0.2294\n",
      "Epoch 13/50\n",
      "31933/31933 [==============================] - 10s - loss: 2.2244 - acc: 0.2067 - val_loss: 2.1847 - val_acc: 0.2297\n",
      "Epoch 14/50\n",
      "31933/31933 [==============================] - 10s - loss: 2.2160 - acc: 0.2086 - val_loss: 2.1749 - val_acc: 0.2268\n",
      "Epoch 15/50\n",
      "31933/31933 [==============================] - 11s - loss: 2.2146 - acc: 0.2109 - val_loss: 2.1783 - val_acc: 0.2193\n",
      "Epoch 16/50\n",
      "31933/31933 [==============================] - 11s - loss: 2.2093 - acc: 0.2122 - val_loss: 2.1786 - val_acc: 0.2168\n",
      "Epoch 17/50\n",
      "31933/31933 [==============================] - 11s - loss: 2.2159 - acc: 0.2102 - val_loss: 2.1979 - val_acc: 0.2129\n",
      "Epoch 18/50\n",
      "31933/31933 [==============================] - 10s - loss: 2.2112 - acc: 0.2110 - val_loss: 2.1784 - val_acc: 0.2126\n",
      "Epoch 19/50\n",
      "31933/31933 [==============================] - 10s - loss: 2.2048 - acc: 0.2126 - val_loss: 2.1700 - val_acc: 0.2114\n",
      "Epoch 20/50\n",
      "31933/31933 [==============================] - 11s - loss: 2.2082 - acc: 0.2123 - val_loss: 2.1671 - val_acc: 0.2111\n",
      "Epoch 21/50\n",
      "31933/31933 [==============================] - 10s - loss: 2.2008 - acc: 0.2118 - val_loss: 2.1905 - val_acc: 0.2090\n",
      "Epoch 22/50\n",
      "31933/31933 [==============================] - 10s - loss: 2.2002 - acc: 0.2110 - val_loss: 2.1733 - val_acc: 0.2088\n",
      "Epoch 23/50\n",
      "31933/31933 [==============================] - 10s - loss: 2.1945 - acc: 0.2125 - val_loss: 2.1719 - val_acc: 0.2091\n",
      "Epoch 24/50\n",
      "31933/31933 [==============================] - 10s - loss: 2.1985 - acc: 0.2153 - val_loss: 2.1879 - val_acc: 0.2093\n",
      "Epoch 25/50\n",
      "31933/31933 [==============================] - 10s - loss: 2.2724 - acc: 0.2108 - val_loss: 2.2812 - val_acc: 0.2093\n",
      "Epoch 26/50\n",
      "31933/31933 [==============================] - 10s - loss: 2.2837 - acc: 0.2143 - val_loss: 2.2637 - val_acc: 0.2093\n",
      "Epoch 27/50\n",
      "31933/31933 [==============================] - 10s - loss: 2.2649 - acc: 0.2126 - val_loss: 2.2439 - val_acc: 0.2096\n",
      "Epoch 28/50\n",
      "31933/31933 [==============================] - 10s - loss: 2.2504 - acc: 0.2124 - val_loss: 2.2258 - val_acc: 0.2097\n",
      "Epoch 29/50\n",
      "31933/31933 [==============================] - 11s - loss: 2.2324 - acc: 0.2128 - val_loss: 2.2147 - val_acc: 0.2097\n",
      "Epoch 30/50\n",
      "31933/31933 [==============================] - 11s - loss: 2.2187 - acc: 0.2167 - val_loss: 2.1981 - val_acc: 0.2097\n",
      "Epoch 31/50\n",
      "31933/31933 [==============================] - 11s - loss: 2.2016 - acc: 0.2128 - val_loss: 2.1844 - val_acc: 0.2097\n",
      "Epoch 32/50\n",
      "31933/31933 [==============================] - 11s - loss: 2.1952 - acc: 0.2155 - val_loss: 2.1729 - val_acc: 0.2098\n",
      "Epoch 33/50\n",
      "31933/31933 [==============================] - 11s - loss: 2.1916 - acc: 0.2164 - val_loss: 2.1670 - val_acc: 0.2098\n",
      "Epoch 34/50\n",
      "31933/31933 [==============================] - 10s - loss: 2.1901 - acc: 0.2143 - val_loss: 2.1625 - val_acc: 0.2098\n",
      "Epoch 35/50\n",
      "31933/31933 [==============================] - 10s - loss: 2.1904 - acc: 0.2160 - val_loss: 2.1859 - val_acc: 0.2098\n",
      "Epoch 36/50\n",
      "31933/31933 [==============================] - 11s - loss: 2.1907 - acc: 0.2112 - val_loss: 2.1842 - val_acc: 0.2098\n",
      "Epoch 37/50\n",
      "31933/31933 [==============================] - 11s - loss: 2.1899 - acc: 0.2158 - val_loss: 2.1714 - val_acc: 0.2097\n",
      "Epoch 38/50\n",
      "31933/31933 [==============================] - 11s - loss: 2.1882 - acc: 0.2153 - val_loss: 2.1862 - val_acc: 0.2098\n",
      "Epoch 39/50\n",
      "31933/31933 [==============================] - 10s - loss: 2.1932 - acc: 0.2162 - val_loss: 2.1851 - val_acc: 0.2098\n",
      "Epoch 40/50\n",
      "31933/31933 [==============================] - 10s - loss: 2.1879 - acc: 0.2147 - val_loss: 2.1825 - val_acc: 0.2098\n",
      "Epoch 41/50\n",
      "31933/31933 [==============================] - 11s - loss: 2.3320 - acc: 0.0810 - val_loss: 2.4007 - val_acc: 0.0027\n",
      "Epoch 42/50\n",
      "31933/31933 [==============================] - 11s - loss: 2.3971 - acc: 0.0106 - val_loss: 2.3834 - val_acc: 0.0027\n",
      "Epoch 43/50\n",
      "31933/31933 [==============================] - 11s - loss: 2.3797 - acc: 0.0199 - val_loss: 2.3678 - val_acc: 0.0027\n",
      "Epoch 44/50\n",
      "31933/31933 [==============================] - 11s - loss: 2.3655 - acc: 0.0379 - val_loss: 2.3531 - val_acc: 0.0027\n",
      "Epoch 45/50\n",
      "31933/31933 [==============================] - 11s - loss: 2.3504 - acc: 0.0597 - val_loss: 2.3393 - val_acc: 0.0027\n",
      "Epoch 46/50\n",
      "31933/31933 [==============================] - 10s - loss: 2.3367 - acc: 0.0935 - val_loss: 2.3258 - val_acc: 0.0330\n",
      "Epoch 47/50\n",
      "31933/31933 [==============================] - 10s - loss: 2.3257 - acc: 0.1242 - val_loss: 2.3128 - val_acc: 0.2102\n",
      "Epoch 48/50\n",
      "31933/31933 [==============================] - 11s - loss: 2.3113 - acc: 0.1543 - val_loss: 2.3003 - val_acc: 0.2104\n",
      "Epoch 49/50\n",
      "31933/31933 [==============================] - 11s - loss: 2.2988 - acc: 0.1744 - val_loss: 2.2887 - val_acc: 0.2104\n",
      "Epoch 50/50\n",
      "31933/31933 [==============================] - 11s - loss: 2.2865 - acc: 0.1939 - val_loss: 2.2761 - val_acc: 0.2104\n",
      "30880/31933 [============================>.] - ETA: 0s\n",
      "acc: 21.04%\n"
     ]
    }
   ],
   "source": [
    "# Fit the model 1\n",
    "history = model.fit(X, Y, epochs=50, batch_size=10,\n",
    "          validation_data=(X_test, Y_test))\n",
    "# evaluate the model\n",
    "scores = model.evaluate(X, Y)\n",
    "print(\"\\n%s: %.2f%%\" % (model.metrics_names[1], scores[1]*100))"
   ]
  },
  {
   "cell_type": "code",
   "execution_count": 7,
   "metadata": {
    "scrolled": true
   },
   "outputs": [
    {
     "name": "stdout",
     "output_type": "stream",
     "text": [
      "dict_keys(['loss', 'val_loss', 'acc', 'val_acc'])\n"
     ]
    },
    {
     "data": {
      "image/png": "[encoded data removed]",
      "text/plain": [
       "<matplotlib.figure.Figure at 0x7f92a6cc5fd0>"
      ]
     },
     "metadata": {},
     "output_type": "display_data"
    },
    {
     "data": {
      "image/png": "[encoded data removed]",
      "text/plain": [
       "<matplotlib.figure.Figure at 0x7f92a5be94e0>"
      ]
     },
     "metadata": {},
     "output_type": "display_data"
    }
   ],
   "source": [
    "print(history.history.keys())\n",
    "#  \"Accuracy\"\n",
    "plt.plot(history.history['acc'])\n",
    "plt.plot(history.history['val_acc'])\n",
    "plt.title('model accuracy')\n",
    "plt.ylabel('accuracy')\n",
    "plt.xlabel('epoch')\n",
    "plt.legend(['train', 'validation'], loc='upper left')\n",
    "plt.show()\n",
    "\n",
    "# \"Loss\"\n",
    "plt.plot(history.history['loss'])\n",
    "plt.plot(history.history['val_loss'])\n",
    "plt.title('model loss')\n",
    "plt.ylabel('loss')\n",
    "plt.xlabel('epoch')\n",
    "plt.legend(['train', 'validation'], loc='upper left')\n",
    "plt.show()"
   ]
  },
  {
   "cell_type": "code",
   "execution_count": null,
   "metadata": {},
   "outputs": [],
   "source": []
  },
  {
   "cell_type": "code",
   "execution_count": null,
   "metadata": {},
   "outputs": [],
   "source": []
  }
 ],
 "metadata": {
  "kernelspec": {
   "display_name": "Python 3",
   "language": "python",
   "name": "python3"
  },
  "language_info": {
   "codemirror_mode": {
    "name": "ipython",
    "version": 3
   },
   "file_extension": ".py",
   "mimetype": "text/x-python",
   "name": "python",
   "nbconvert_exporter": "python",
   "pygments_lexer": "ipython3",
   "version": "3.5.2"
  }
 },
 "nbformat": 4,
 "nbformat_minor": 2
}
