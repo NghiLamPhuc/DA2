{
 "cells": [
  {
   "cell_type": "code",
   "execution_count": 1,
   "metadata": {},
   "outputs": [
    {
     "name": "stderr",
     "output_type": "stream",
     "text": [
      "Using TensorFlow backend.\n"
     ]
    }
   ],
   "source": [
    "# Create your first MLP in Keras\n",
    "import keras\n",
    "from keras.models import Sequential\n",
    "from keras.layers import Dense, Dropout, Flatten, Activation\n",
    "import os\n",
    "import numpy as np\n",
    "from scipy import sparse\n",
    "import matplotlib.pyplot as plt"
   ]
  },
  {
   "cell_type": "code",
   "execution_count": 2,
   "metadata": {},
   "outputs": [],
   "source": [
    "# fix random seed for reproducibility\n",
    "np.random.seed(1)"
   ]
  },
  {
   "cell_type": "code",
   "execution_count": 3,
   "metadata": {},
   "outputs": [],
   "source": [
    "\n",
    "dataset = np.loadtxt(\"train_vn.txt\")\n",
    "# split into input (X) and output (Y) variables\n",
    "X = dataset[:,0:300]\n",
    "Y = dataset[:,300]\n",
    "Y = keras.utils.to_categorical(Y, num_classes=2)\n",
    "\n",
    "test_data = np.loadtxt(\"test_vn.txt\")\n",
    "# split into input (X) and output (Y) variables\n",
    "X_test = dataset[:,0:300]\n",
    "Y_test = dataset[:,300]\n",
    "Y_test = keras.utils.to_categorical(Y_test, num_classes=2)\n",
    "\n"
   ]
  },
  {
   "cell_type": "code",
   "execution_count": 4,
   "metadata": {},
   "outputs": [],
   "source": [
    "# create model\n",
    "model = Sequential()\n",
    "model.add(Dense(100, input_dim=300))\n",
    "model.add(Dropout(0.5))\n",
    "model.add(Dense(2))\n",
    "# Compile model\n",
    "model.compile(optimizer='sgd',loss='binary_crossentropy',metrics=['accuracy'])"
   ]
  },
  {
   "cell_type": "code",
   "execution_count": 5,
   "metadata": {},
   "outputs": [
    {
     "name": "stdout",
     "output_type": "stream",
     "text": [
      "_________________________________________________________________\n",
      "Layer (type)                 Output Shape              Param #   \n",
      "=================================================================\n",
      "dense_1 (Dense)              (None, 100)               30100     \n",
      "_________________________________________________________________\n",
      "dropout_1 (Dropout)          (None, 100)               0         \n",
      "_________________________________________________________________\n",
      "dense_2 (Dense)              (None, 2)                 202       \n",
      "=================================================================\n",
      "Total params: 30,302\n",
      "Trainable params: 30,302\n",
      "Non-trainable params: 0\n",
      "_________________________________________________________________\n"
     ]
    }
   ],
   "source": [
    "model.summary()"
   ]
  },
  {
   "cell_type": "code",
   "execution_count": 6,
   "metadata": {
    "scrolled": true
   },
   "outputs": [
    {
     "name": "stdout",
     "output_type": "stream",
     "text": [
      "Train on 1459 samples, validate on 1459 samples\n",
      "Epoch 1/50\n",
      "1459/1459 [==============================] - 0s - loss: 5.0983 - acc: 0.1100 - val_loss: 5.7573 - val_acc: 3.4270e-04\n",
      "Epoch 2/50\n",
      "1459/1459 [==============================] - 0s - loss: 5.7522 - acc: 6.8540e-04 - val_loss: 5.7573 - val_acc: 0.0000e+00\n",
      "Epoch 3/50\n",
      "1459/1459 [==============================] - 0s - loss: 5.7582 - acc: 0.0010 - val_loss: 5.7573 - val_acc: 3.4270e-04\n",
      "Epoch 4/50\n",
      "1459/1459 [==============================] - 0s - loss: 5.7523 - acc: 0.0024 - val_loss: 5.7573 - val_acc: 0.0000e+00\n",
      "Epoch 5/50\n",
      "1459/1459 [==============================] - 0s - loss: 5.7577 - acc: 0.0024 - val_loss: 5.7573 - val_acc: 0.0000e+00\n",
      "Epoch 6/50\n",
      "1459/1459 [==============================] - 0s - loss: 5.7521 - acc: 0.0024 - val_loss: 5.7573 - val_acc: 0.0000e+00\n",
      "Epoch 7/50\n",
      "1459/1459 [==============================] - 0s - loss: 6.0646 - acc: 0.0219 - val_loss: 5.7525 - val_acc: 3.4270e-04\n",
      "Epoch 8/50\n",
      "1459/1459 [==============================] - 0s - loss: 5.7736 - acc: 0.0278 - val_loss: 5.7529 - val_acc: 0.0000e+00\n",
      "Epoch 9/50\n",
      "1459/1459 [==============================] - 0s - loss: 5.7415 - acc: 0.0130 - val_loss: 5.7573 - val_acc: 0.0000e+00\n",
      "Epoch 10/50\n",
      "1459/1459 [==============================] - 0s - loss: 5.7174 - acc: 0.0147 - val_loss: 5.7573 - val_acc: 0.0000e+00\n",
      "Epoch 11/50\n",
      "1459/1459 [==============================] - 0s - loss: 5.6894 - acc: 0.0141 - val_loss: 5.7573 - val_acc: 0.0000e+00\n",
      "Epoch 12/50\n",
      "1459/1459 [==============================] - 0s - loss: 5.7566 - acc: 0.0096 - val_loss: 3.8592 - val_acc: 0.1504\n",
      "Epoch 13/50\n",
      "1459/1459 [==============================] - 0s - loss: 5.7101 - acc: 0.0113 - val_loss: 5.7573 - val_acc: 0.0000e+00\n",
      "Epoch 14/50\n",
      "1459/1459 [==============================] - 0s - loss: 5.7573 - acc: 0.0000e+00 - val_loss: 5.7573 - val_acc: 0.0000e+00\n",
      "Epoch 15/50\n",
      "1459/1459 [==============================] - 0s - loss: 5.7573 - acc: 0.0000e+00 - val_loss: 5.7573 - val_acc: 0.0000e+00\n",
      "Epoch 16/50\n",
      "1459/1459 [==============================] - 0s - loss: 5.7573 - acc: 0.0000e+00 - val_loss: 5.7573 - val_acc: 0.0000e+00\n",
      "Epoch 17/50\n",
      "1459/1459 [==============================] - 0s - loss: 5.7573 - acc: 0.0000e+00 - val_loss: 5.7573 - val_acc: 0.0000e+00\n",
      "Epoch 18/50\n",
      "1459/1459 [==============================] - 0s - loss: 5.7573 - acc: 0.0000e+00 - val_loss: 5.7573 - val_acc: 0.0000e+00\n",
      "Epoch 19/50\n",
      "1459/1459 [==============================] - 0s - loss: 5.7573 - acc: 0.0000e+00 - val_loss: 5.7573 - val_acc: 0.0000e+00\n",
      "Epoch 20/50\n",
      "1459/1459 [==============================] - 0s - loss: 5.7573 - acc: 0.0000e+00 - val_loss: 5.7573 - val_acc: 0.0000e+00\n",
      "Epoch 21/50\n",
      "1459/1459 [==============================] - 0s - loss: 5.7573 - acc: 0.0000e+00 - val_loss: 5.7573 - val_acc: 0.0000e+00\n",
      "Epoch 22/50\n",
      "1459/1459 [==============================] - 0s - loss: 5.7573 - acc: 0.0000e+00 - val_loss: 5.7573 - val_acc: 0.0000e+00\n",
      "Epoch 23/50\n",
      "1459/1459 [==============================] - 0s - loss: 5.7573 - acc: 0.0000e+00 - val_loss: 5.7573 - val_acc: 0.0000e+00\n",
      "Epoch 24/50\n",
      "1459/1459 [==============================] - 0s - loss: 5.7573 - acc: 0.0000e+00 - val_loss: 5.7573 - val_acc: 0.0000e+00\n",
      "Epoch 25/50\n",
      "1459/1459 [==============================] - 0s - loss: 5.7573 - acc: 0.0000e+00 - val_loss: 5.7573 - val_acc: 0.0000e+00\n",
      "Epoch 26/50\n",
      "1459/1459 [==============================] - 0s - loss: 5.7573 - acc: 0.0000e+00 - val_loss: 5.7573 - val_acc: 0.0000e+00\n",
      "Epoch 27/50\n",
      "1459/1459 [==============================] - 0s - loss: 5.7573 - acc: 0.0000e+00 - val_loss: 5.7573 - val_acc: 0.0000e+00\n",
      "Epoch 28/50\n",
      "1459/1459 [==============================] - 0s - loss: 5.7573 - acc: 3.4270e-04 - val_loss: 5.7573 - val_acc: 0.0000e+00\n",
      "Epoch 29/50\n",
      "1459/1459 [==============================] - 0s - loss: 5.7573 - acc: 0.0000e+00 - val_loss: 5.7573 - val_acc: 0.0000e+00\n",
      "Epoch 30/50\n",
      "1459/1459 [==============================] - 0s - loss: 5.7573 - acc: 0.0000e+00 - val_loss: 5.7573 - val_acc: 0.0000e+00\n",
      "Epoch 31/50\n",
      "1459/1459 [==============================] - 0s - loss: 5.7573 - acc: 0.0000e+00 - val_loss: 5.7573 - val_acc: 0.0000e+00\n",
      "Epoch 32/50\n",
      "1459/1459 [==============================] - 0s - loss: 5.7573 - acc: 0.0000e+00 - val_loss: 5.7573 - val_acc: 0.0000e+00\n",
      "Epoch 33/50\n",
      "1459/1459 [==============================] - 0s - loss: 5.7573 - acc: 3.4270e-04 - val_loss: 5.7573 - val_acc: 0.0000e+00\n",
      "Epoch 34/50\n",
      "1459/1459 [==============================] - 0s - loss: 5.7573 - acc: 0.0000e+00 - val_loss: 5.7573 - val_acc: 0.0000e+00\n",
      "Epoch 35/50\n",
      "1459/1459 [==============================] - 0s - loss: 5.7573 - acc: 0.0000e+00 - val_loss: 5.7573 - val_acc: 0.0000e+00\n",
      "Epoch 36/50\n",
      "1459/1459 [==============================] - 0s - loss: 5.7573 - acc: 0.0000e+00 - val_loss: 5.7573 - val_acc: 0.0000e+00\n",
      "Epoch 37/50\n",
      "1459/1459 [==============================] - 0s - loss: 5.7525 - acc: 0.0000e+00 - val_loss: 5.7573 - val_acc: 0.0000e+00\n",
      "Epoch 38/50\n",
      "1459/1459 [==============================] - 0s - loss: 5.7574 - acc: 3.4270e-04 - val_loss: 5.7573 - val_acc: 0.0000e+00\n",
      "Epoch 39/50\n",
      "1459/1459 [==============================] - 0s - loss: 5.7573 - acc: 3.4270e-04 - val_loss: 5.7573 - val_acc: 0.0000e+00\n",
      "Epoch 40/50\n",
      "1459/1459 [==============================] - 0s - loss: 5.7573 - acc: 3.4270e-04 - val_loss: 5.7573 - val_acc: 0.0000e+00\n",
      "Epoch 41/50\n",
      "1459/1459 [==============================] - 0s - loss: 5.7573 - acc: 0.0000e+00 - val_loss: 5.7573 - val_acc: 0.0000e+00\n",
      "Epoch 42/50\n",
      "1459/1459 [==============================] - 0s - loss: 5.7517 - acc: 0.0000e+00 - val_loss: 5.7573 - val_acc: 0.0000e+00\n",
      "Epoch 43/50\n",
      "1459/1459 [==============================] - 0s - loss: 5.7573 - acc: 0.0000e+00 - val_loss: 5.7573 - val_acc: 0.0000e+00\n",
      "Epoch 44/50\n",
      "1459/1459 [==============================] - 0s - loss: 5.7573 - acc: 0.0000e+00 - val_loss: 5.7573 - val_acc: 0.0000e+00\n",
      "Epoch 45/50\n",
      "1459/1459 [==============================] - 0s - loss: 5.7573 - acc: 0.0000e+00 - val_loss: 5.7573 - val_acc: 0.0000e+00\n",
      "Epoch 46/50\n",
      "1459/1459 [==============================] - 0s - loss: 5.7517 - acc: 3.4270e-04 - val_loss: 5.7573 - val_acc: 0.0000e+00\n",
      "Epoch 47/50\n",
      "1459/1459 [==============================] - 0s - loss: 5.7573 - acc: 0.0000e+00 - val_loss: 5.7573 - val_acc: 0.0000e+00\n",
      "Epoch 48/50\n",
      "1459/1459 [==============================] - 0s - loss: 5.7517 - acc: 3.4270e-04 - val_loss: 5.7573 - val_acc: 0.0000e+00\n",
      "Epoch 49/50\n",
      "1459/1459 [==============================] - 0s - loss: 5.7573 - acc: 0.0000e+00 - val_loss: 5.7573 - val_acc: 0.0000e+00\n",
      "Epoch 50/50\n",
      "1459/1459 [==============================] - 0s - loss: 5.7573 - acc: 0.0000e+00 - val_loss: 5.7573 - val_acc: 0.0000e+00\n",
      "1312/1459 [=========================>....] - ETA: 0s\n",
      "acc: 0.00%\n"
     ]
    }
   ],
   "source": [
    "# Fit the model 1\n",
    "history = model.fit(X, Y, epochs=50, batch_size=10,\n",
    "          validation_data=(X_test, Y_test))\n",
    "# evaluate the model\n",
    "scores = model.evaluate(X, Y)\n",
    "print(\"\\n%s: %.2f%%\" % (model.metrics_names[1], scores[1]*100))"
   ]
  },
  {
   "cell_type": "code",
   "execution_count": 7,
   "metadata": {
    "scrolled": true
   },
   "outputs": [
    {
     "name": "stdout",
     "output_type": "stream",
     "text": [
      "dict_keys(['val_loss', 'acc', 'val_acc', 'loss'])\n"
     ]
    },
    {
     "data": {
      "image/png": "[encoded data removed]",
      "text/plain": [
       "<matplotlib.figure.Figure at 0x7fa76803c9e8>"
      ]
     },
     "metadata": {},
     "output_type": "display_data"
    },
    {
     "data": {
      "image/png": "[encoded data removed]",
      "text/plain": [
       "<matplotlib.figure.Figure at 0x7fa72ec63cf8>"
      ]
     },
     "metadata": {},
     "output_type": "display_data"
    }
   ],
   "source": [
    "print(history.history.keys())\n",
    "#  \"Accuracy\"\n",
    "plt.plot(history.history['acc'])\n",
    "plt.plot(history.history['val_acc'])\n",
    "plt.title('model accuracy')\n",
    "plt.ylabel('accuracy')\n",
    "plt.xlabel('epoch')\n",
    "plt.legend(['train', 'validation'], loc='upper left')\n",
    "plt.show()\n",
    "\n",
    "# \"Loss\"\n",
    "plt.plot(history.history['loss'])\n",
    "plt.plot(history.history['val_loss'])\n",
    "plt.title('model loss')\n",
    "plt.ylabel('loss')\n",
    "plt.xlabel('epoch')\n",
    "plt.legend(['train', 'validation'], loc='upper left')\n",
    "plt.show()"
   ]
  },
  {
   "cell_type": "code",
   "execution_count": null,
   "metadata": {},
   "outputs": [],
   "source": []
  }
 ],
 "metadata": {
  "kernelspec": {
   "display_name": "Python 3",
   "language": "python",
   "name": "python3"
  },
  "language_info": {
   "codemirror_mode": {
    "name": "ipython",
    "version": 3
   },
   "file_extension": ".py",
   "mimetype": "text/x-python",
   "name": "python",
   "nbconvert_exporter": "python",
   "pygments_lexer": "ipython3",
   "version": "3.5.2"
  }
 },
 "nbformat": 4,
 "nbformat_minor": 2
}
