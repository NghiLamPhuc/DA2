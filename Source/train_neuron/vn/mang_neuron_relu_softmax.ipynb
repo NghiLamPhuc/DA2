{
 "cells": [
  {
   "cell_type": "code",
   "execution_count": 1,
   "metadata": {},
   "outputs": [
    {
     "name": "stderr",
     "output_type": "stream",
     "text": [
      "Using TensorFlow backend.\n"
     ]
    }
   ],
   "source": [
    "# Create your first MLP in Keras\n",
    "import keras\n",
    "from keras.models import Sequential\n",
    "from keras.layers import Dense, Dropout, Flatten, Activation\n",
    "import os\n",
    "import numpy as np\n",
    "from scipy import sparse\n",
    "import matplotlib.pyplot as plt"
   ]
  },
  {
   "cell_type": "code",
   "execution_count": 2,
   "metadata": {},
   "outputs": [],
   "source": [
    "# fix random seed for reproducibility\n",
    "np.random.seed(1)"
   ]
  },
  {
   "cell_type": "code",
   "execution_count": 3,
   "metadata": {},
   "outputs": [],
   "source": [
    "\n",
    "dataset = np.loadtxt(\"train_vn.txt\")\n",
    "# split into input (X) and output (Y) variables\n",
    "X = dataset[:,0:300]\n",
    "Y = dataset[:,300]\n",
    "Y = keras.utils.to_categorical(Y, num_classes=2)\n",
    "\n",
    "test_data = np.loadtxt(\"test_vn.txt\")\n",
    "# split into input (X) and output (Y) variables\n",
    "X_test = dataset[:,0:300]\n",
    "Y_test = dataset[:,300]\n",
    "Y_test = keras.utils.to_categorical(Y_test, num_classes=2)\n",
    "\n"
   ]
  },
  {
   "cell_type": "code",
   "execution_count": 4,
   "metadata": {},
   "outputs": [],
   "source": [
    "# create model\n",
    "model = Sequential()\n",
    "model.add(Dense(100, input_dim=300, activation='relu'))\n",
    "model.add(Dropout(0.5))\n",
    "# model.add(Dense(150, activation='relu'))\n",
    "# model.add(Dropout(0.5))\n",
    "model.add(Dense(2, activation='softmax'))\n",
    "# Compile model\n",
    "model.compile(optimizer='sgd',loss='binary_crossentropy',metrics=['accuracy'])"
   ]
  },
  {
   "cell_type": "code",
   "execution_count": 5,
   "metadata": {},
   "outputs": [
    {
     "name": "stdout",
     "output_type": "stream",
     "text": [
      "_________________________________________________________________\n",
      "Layer (type)                 Output Shape              Param #   \n",
      "=================================================================\n",
      "dense_1 (Dense)              (None, 100)               30100     \n",
      "_________________________________________________________________\n",
      "dropout_1 (Dropout)          (None, 100)               0         \n",
      "_________________________________________________________________\n",
      "dense_2 (Dense)              (None, 2)                 202       \n",
      "=================================================================\n",
      "Total params: 30,302\n",
      "Trainable params: 30,302\n",
      "Non-trainable params: 0\n",
      "_________________________________________________________________\n"
     ]
    }
   ],
   "source": [
    "model.summary()"
   ]
  },
  {
   "cell_type": "code",
   "execution_count": 6,
   "metadata": {
    "scrolled": true
   },
   "outputs": [
    {
     "name": "stdout",
     "output_type": "stream",
     "text": [
      "Train on 1459 samples, validate on 1459 samples\n",
      "Epoch 1/50\n",
      "1459/1459 [==============================] - 0s - loss: 0.6381 - acc: 0.6306 - val_loss: 0.5884 - val_acc: 0.6450\n",
      "Epoch 2/50\n",
      "1459/1459 [==============================] - 0s - loss: 0.5765 - acc: 0.6868 - val_loss: 0.5355 - val_acc: 0.7772\n",
      "Epoch 3/50\n",
      "1459/1459 [==============================] - 0s - loss: 0.5241 - acc: 0.7553 - val_loss: 0.4884 - val_acc: 0.8170\n",
      "Epoch 4/50\n",
      "1459/1459 [==============================] - 0s - loss: 0.4937 - acc: 0.7862 - val_loss: 0.4532 - val_acc: 0.8382\n",
      "Epoch 5/50\n",
      "1459/1459 [==============================] - 0s - loss: 0.4632 - acc: 0.8129 - val_loss: 0.4285 - val_acc: 0.8410\n",
      "Epoch 6/50\n",
      "1459/1459 [==============================] - 0s - loss: 0.4426 - acc: 0.8293 - val_loss: 0.4056 - val_acc: 0.8526\n",
      "Epoch 7/50\n",
      "1459/1459 [==============================] - 0s - loss: 0.4311 - acc: 0.8280 - val_loss: 0.3884 - val_acc: 0.8574\n",
      "Epoch 8/50\n",
      "1459/1459 [==============================] - 0s - loss: 0.4023 - acc: 0.8348 - val_loss: 0.3730 - val_acc: 0.8615\n",
      "Epoch 9/50\n",
      "1459/1459 [==============================] - 0s - loss: 0.4005 - acc: 0.8382 - val_loss: 0.3631 - val_acc: 0.8705\n",
      "Epoch 10/50\n",
      "1459/1459 [==============================] - 0s - loss: 0.3804 - acc: 0.8478 - val_loss: 0.3524 - val_acc: 0.8739\n",
      "Epoch 11/50\n",
      "1459/1459 [==============================] - 0s - loss: 0.3660 - acc: 0.8622 - val_loss: 0.3495 - val_acc: 0.8663\n",
      "Epoch 12/50\n",
      "1459/1459 [==============================] - 0s - loss: 0.3696 - acc: 0.8595 - val_loss: 0.3367 - val_acc: 0.8725\n",
      "Epoch 13/50\n",
      "1459/1459 [==============================] - 0s - loss: 0.3688 - acc: 0.8615 - val_loss: 0.3294 - val_acc: 0.8780\n",
      "Epoch 14/50\n",
      "1459/1459 [==============================] - 0s - loss: 0.3454 - acc: 0.8711 - val_loss: 0.3215 - val_acc: 0.8794\n",
      "Epoch 15/50\n",
      "1459/1459 [==============================] - 0s - loss: 0.3410 - acc: 0.8739 - val_loss: 0.3163 - val_acc: 0.8780\n",
      "Epoch 16/50\n",
      "1459/1459 [==============================] - 0s - loss: 0.3496 - acc: 0.8629 - val_loss: 0.3124 - val_acc: 0.8807\n",
      "Epoch 17/50\n",
      "1459/1459 [==============================] - 0s - loss: 0.3427 - acc: 0.8718 - val_loss: 0.3078 - val_acc: 0.8814\n",
      "Epoch 18/50\n",
      "1459/1459 [==============================] - 0s - loss: 0.3351 - acc: 0.8766 - val_loss: 0.3054 - val_acc: 0.8835\n",
      "Epoch 19/50\n",
      "1459/1459 [==============================] - 0s - loss: 0.3236 - acc: 0.8732 - val_loss: 0.3005 - val_acc: 0.8890\n",
      "Epoch 20/50\n",
      "1459/1459 [==============================] - 0s - loss: 0.3311 - acc: 0.8718 - val_loss: 0.2969 - val_acc: 0.8903\n",
      "Epoch 21/50\n",
      "1459/1459 [==============================] - 0s - loss: 0.3162 - acc: 0.8718 - val_loss: 0.2898 - val_acc: 0.8883\n",
      "Epoch 22/50\n",
      "1459/1459 [==============================] - 0s - loss: 0.3231 - acc: 0.8766 - val_loss: 0.2879 - val_acc: 0.8903\n",
      "Epoch 23/50\n",
      "1459/1459 [==============================] - 0s - loss: 0.3167 - acc: 0.8698 - val_loss: 0.2849 - val_acc: 0.8931\n",
      "Epoch 24/50\n",
      "1459/1459 [==============================] - 0s - loss: 0.3117 - acc: 0.8787 - val_loss: 0.2808 - val_acc: 0.8938\n",
      "Epoch 25/50\n",
      "1459/1459 [==============================] - 0s - loss: 0.3103 - acc: 0.8773 - val_loss: 0.2776 - val_acc: 0.8972\n",
      "Epoch 26/50\n",
      "1459/1459 [==============================] - 0s - loss: 0.2987 - acc: 0.8903 - val_loss: 0.2747 - val_acc: 0.8931\n",
      "Epoch 27/50\n",
      "1459/1459 [==============================] - 0s - loss: 0.3100 - acc: 0.8807 - val_loss: 0.2731 - val_acc: 0.8992\n",
      "Epoch 28/50\n",
      "1459/1459 [==============================] - 0s - loss: 0.3029 - acc: 0.8794 - val_loss: 0.2699 - val_acc: 0.8965\n",
      "Epoch 29/50\n",
      "1459/1459 [==============================] - 0s - loss: 0.2925 - acc: 0.8876 - val_loss: 0.2656 - val_acc: 0.8979\n",
      "Epoch 30/50\n",
      "1459/1459 [==============================] - 0s - loss: 0.2992 - acc: 0.8876 - val_loss: 0.2680 - val_acc: 0.8979\n",
      "Epoch 31/50\n",
      "1459/1459 [==============================] - 0s - loss: 0.2883 - acc: 0.8931 - val_loss: 0.2621 - val_acc: 0.8999\n",
      "Epoch 32/50\n",
      "1459/1459 [==============================] - 0s - loss: 0.2981 - acc: 0.8787 - val_loss: 0.2586 - val_acc: 0.9006\n",
      "Epoch 33/50\n",
      "1459/1459 [==============================] - 0s - loss: 0.2787 - acc: 0.8883 - val_loss: 0.2561 - val_acc: 0.8992\n",
      "Epoch 34/50\n",
      "1459/1459 [==============================] - 0s - loss: 0.2817 - acc: 0.8951 - val_loss: 0.2536 - val_acc: 0.9027\n",
      "Epoch 35/50\n",
      "1459/1459 [==============================] - 0s - loss: 0.2852 - acc: 0.8876 - val_loss: 0.2516 - val_acc: 0.9068\n",
      "Epoch 36/50\n",
      "1459/1459 [==============================] - 0s - loss: 0.2815 - acc: 0.8931 - val_loss: 0.2503 - val_acc: 0.9020\n",
      "Epoch 37/50\n",
      "1459/1459 [==============================] - 0s - loss: 0.2826 - acc: 0.8951 - val_loss: 0.2459 - val_acc: 0.9088\n",
      "Epoch 38/50\n",
      "1459/1459 [==============================] - 0s - loss: 0.2743 - acc: 0.8938 - val_loss: 0.2444 - val_acc: 0.9054\n",
      "Epoch 39/50\n",
      "1459/1459 [==============================] - 0s - loss: 0.2692 - acc: 0.8958 - val_loss: 0.2432 - val_acc: 0.9034\n",
      "Epoch 40/50\n",
      "1459/1459 [==============================] - 0s - loss: 0.2784 - acc: 0.8890 - val_loss: 0.2394 - val_acc: 0.9095\n",
      "Epoch 41/50\n",
      "1459/1459 [==============================] - 0s - loss: 0.2733 - acc: 0.8951 - val_loss: 0.2381 - val_acc: 0.9123\n",
      "Epoch 42/50\n",
      "1459/1459 [==============================] - 0s - loss: 0.2594 - acc: 0.8958 - val_loss: 0.2349 - val_acc: 0.9130\n",
      "Epoch 43/50\n",
      "1459/1459 [==============================] - 0s - loss: 0.2594 - acc: 0.8992 - val_loss: 0.2336 - val_acc: 0.9123\n",
      "Epoch 44/50\n",
      "1459/1459 [==============================] - 0s - loss: 0.2569 - acc: 0.8972 - val_loss: 0.2314 - val_acc: 0.9116\n",
      "Epoch 45/50\n",
      "1459/1459 [==============================] - 0s - loss: 0.2599 - acc: 0.9054 - val_loss: 0.2302 - val_acc: 0.9136\n",
      "Epoch 46/50\n",
      "1459/1459 [==============================] - 0s - loss: 0.2592 - acc: 0.8992 - val_loss: 0.2280 - val_acc: 0.9136\n",
      "Epoch 47/50\n",
      "1459/1459 [==============================] - 0s - loss: 0.2593 - acc: 0.8979 - val_loss: 0.2260 - val_acc: 0.9164\n",
      "Epoch 48/50\n",
      "1459/1459 [==============================] - 0s - loss: 0.2543 - acc: 0.9136 - val_loss: 0.2246 - val_acc: 0.9164\n",
      "Epoch 49/50\n",
      "1459/1459 [==============================] - 0s - loss: 0.2455 - acc: 0.9047 - val_loss: 0.2206 - val_acc: 0.9150\n",
      "Epoch 50/50\n",
      "1459/1459 [==============================] - 0s - loss: 0.2520 - acc: 0.9047 - val_loss: 0.2205 - val_acc: 0.9171\n",
      "1280/1459 [=========================>....] - ETA: 0s\n",
      "acc: 91.71%\n"
     ]
    }
   ],
   "source": [
    "# Fit the model 1\n",
    "history = model.fit(X, Y, epochs=50, batch_size=10,\n",
    "          validation_data=(X_test, Y_test))\n",
    "# evaluate the model\n",
    "scores = model.evaluate(X, Y)\n",
    "print(\"\\n%s: %.2f%%\" % (model.metrics_names[1], scores[1]*100))"
   ]
  },
  {
   "cell_type": "code",
   "execution_count": 7,
   "metadata": {
    "scrolled": true
   },
   "outputs": [
    {
     "name": "stdout",
     "output_type": "stream",
     "text": [
      "dict_keys(['val_loss', 'val_acc', 'loss', 'acc'])\n"
     ]
    },
    {
     "data": {
      "image/png": "[encoded data removed]",
      "text/plain": [
       "<matplotlib.figure.Figure at 0x7fbf9f8c1e48>"
      ]
     },
     "metadata": {},
     "output_type": "display_data"
    },
    {
     "data": {
      "image/png": "[encoded data removed]",
      "text/plain": [
       "<matplotlib.figure.Figure at 0x7fbf9f8310f0>"
      ]
     },
     "metadata": {},
     "output_type": "display_data"
    }
   ],
   "source": [
    "print(history.history.keys())\n",
    "#  \"Accuracy\"\n",
    "plt.plot(history.history['acc'])\n",
    "plt.plot(history.history['val_acc'])\n",
    "plt.title('model accuracy')\n",
    "plt.ylabel('accuracy')\n",
    "plt.xlabel('epoch')\n",
    "plt.legend(['train', 'validation'], loc='upper left')\n",
    "plt.show()\n",
    "\n",
    "# \"Loss\"\n",
    "plt.plot(history.history['loss'])\n",
    "plt.plot(history.history['val_loss'])\n",
    "plt.title('model loss')\n",
    "plt.ylabel('loss')\n",
    "plt.xlabel('epoch')\n",
    "plt.legend(['train', 'validation'], loc='upper left')\n",
    "plt.show()"
   ]
  },
  {
   "cell_type": "code",
   "execution_count": 22,
   "metadata": {},
   "outputs": [
    {
     "name": "stdout",
     "output_type": "stream",
     "text": [
      "<class 'numpy.ndarray'>\n",
      "(550, 301)\n",
      "<class 'numpy.ndarray'>\n",
      "(550, 300)\n"
     ]
    }
   ],
   "source": [
    "c = np.loadtxt(\"/home/shiki/Desktop/doan2/train_neuron/vn/test_vn.txt\")\n",
    "print(type(c))\n",
    "print(c.shape)\n",
    "# print(c.shape)\n",
    "# split into input (X) and output (Y) variables\n",
    "x = c[:,0:300]\n",
    "print(type(x))\n",
    "print(x.shape)"
   ]
  },
  {
   "cell_type": "code",
   "execution_count": 23,
   "metadata": {},
   "outputs": [
    {
     "name": "stdout",
     "output_type": "stream",
     "text": [
      "[[ 0.47293511  0.52706486]\n",
      " [ 0.50404859  0.49595141]\n",
      " [ 0.47524425  0.52475578]\n",
      " ..., \n",
      " [ 0.36545616  0.6345439 ]\n",
      " [ 0.43103635  0.56896365]\n",
      " [ 0.42711759  0.57288241]]\n",
      "[[ 1.]\n",
      " [ 1.]\n",
      " [ 1.]\n",
      " ..., \n",
      " [ 1.]\n",
      " [ 1.]\n",
      " [ 1.]]\n",
      "1100\n"
     ]
    }
   ],
   "source": [
    "prediction = model.predict(x)\n",
    "print(prediction)\n",
    "\n",
    "o = keras.utils.to_categorical(prediction)\n",
    "print(o)\n",
    "print(o.size)"
   ]
  },
  {
   "cell_type": "code",
   "execution_count": null,
   "metadata": {},
   "outputs": [],
   "source": []
  }
 ],
 "metadata": {
  "kernelspec": {
   "display_name": "Python 3",
   "language": "python",
   "name": "python3"
  },
  "language_info": {
   "codemirror_mode": {
    "name": "ipython",
    "version": 3
   },
   "file_extension": ".py",
   "mimetype": "text/x-python",
   "name": "python",
   "nbconvert_exporter": "python",
   "pygments_lexer": "ipython3",
   "version": "3.5.2"
  }
 },
 "nbformat": 4,
 "nbformat_minor": 2
}
