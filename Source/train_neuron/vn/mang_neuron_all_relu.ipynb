{
 "cells": [
  {
   "cell_type": "code",
   "execution_count": 1,
   "metadata": {},
   "outputs": [
    {
     "name": "stderr",
     "output_type": "stream",
     "text": [
      "Using TensorFlow backend.\n"
     ]
    }
   ],
   "source": [
    "# Create your first MLP in Keras\n",
    "import keras\n",
    "from keras.models import Sequential\n",
    "from keras.layers import Dense, Dropout, Flatten, Activation\n",
    "import os\n",
    "import numpy as np\n",
    "from scipy import sparse\n",
    "import matplotlib.pyplot as plt"
   ]
  },
  {
   "cell_type": "code",
   "execution_count": 2,
   "metadata": {},
   "outputs": [],
   "source": [
    "# fix random seed for reproducibility\n",
    "np.random.seed(1)"
   ]
  },
  {
   "cell_type": "code",
   "execution_count": 3,
   "metadata": {},
   "outputs": [],
   "source": [
    "\n",
    "dataset = np.loadtxt(\"train_vn.txt\")\n",
    "# split into input (X) and output (Y) variables\n",
    "X = dataset[:,0:300]\n",
    "Y = dataset[:,300]\n",
    "Y = keras.utils.to_categorical(Y, num_classes=2)\n",
    "\n",
    "test_data = np.loadtxt(\"test_vn.txt\")\n",
    "# split into input (X) and output (Y) variables\n",
    "X_test = dataset[:,0:300]\n",
    "Y_test = dataset[:,300]\n",
    "Y_test = keras.utils.to_categorical(Y_test, num_classes=2)\n",
    "\n"
   ]
  },
  {
   "cell_type": "code",
   "execution_count": 4,
   "metadata": {},
   "outputs": [],
   "source": [
    "# create model\n",
    "model = Sequential()\n",
    "# model.add(Dense(100, input_dim=300, activation='relu'))\n",
    "model.add(Dense(100, input_dim=300))\n",
    "model.add(Dropout(0.5))\n",
    "# model.add(Dense(150, activation='relu'))\n",
    "# model.add(Dropout(0.5))\n",
    "model.add(Dense(2, activation='relu'))\n",
    "# Compile model\n",
    "model.compile(optimizer='sgd',loss='binary_crossentropy',metrics=['accuracy'])"
   ]
  },
  {
   "cell_type": "code",
   "execution_count": 5,
   "metadata": {},
   "outputs": [
    {
     "name": "stdout",
     "output_type": "stream",
     "text": [
      "_________________________________________________________________\n",
      "Layer (type)                 Output Shape              Param #   \n",
      "=================================================================\n",
      "dense_1 (Dense)              (None, 100)               30100     \n",
      "_________________________________________________________________\n",
      "dropout_1 (Dropout)          (None, 100)               0         \n",
      "_________________________________________________________________\n",
      "dense_2 (Dense)              (None, 2)                 202       \n",
      "=================================================================\n",
      "Total params: 30,302\n",
      "Trainable params: 30,302\n",
      "Non-trainable params: 0\n",
      "_________________________________________________________________\n"
     ]
    }
   ],
   "source": [
    "model.summary()"
   ]
  },
  {
   "cell_type": "code",
   "execution_count": 6,
   "metadata": {
    "scrolled": true
   },
   "outputs": [
    {
     "name": "stdout",
     "output_type": "stream",
     "text": [
      "Train on 1459 samples, validate on 1459 samples\n",
      "Epoch 1/50\n",
      "1459/1459 [==============================] - 0s - loss: 5.7789 - acc: 0.4397 - val_loss: 10.2421 - val_acc: 0.1806\n",
      "Epoch 2/50\n",
      "1459/1459 [==============================] - 0s - loss: 10.2440 - acc: 0.1813 - val_loss: 10.2372 - val_acc: 0.1806\n",
      "Epoch 3/50\n",
      "1459/1459 [==============================] - 0s - loss: 10.2020 - acc: 0.1820 - val_loss: 10.2326 - val_acc: 0.1806\n",
      "Epoch 4/50\n",
      "1459/1459 [==============================] - 0s - loss: 9.3355 - acc: 0.2940 - val_loss: 7.9701 - val_acc: 0.5034\n",
      "Epoch 5/50\n",
      "1459/1459 [==============================] - 0s - loss: 6.1913 - acc: 0.4548 - val_loss: 5.7274 - val_acc: 0.3221\n",
      "Epoch 6/50\n",
      "1459/1459 [==============================] - 0s - loss: 5.5758 - acc: 0.3321 - val_loss: 5.7059 - val_acc: 0.3232\n",
      "Epoch 7/50\n",
      "1459/1459 [==============================] - 0s - loss: 5.3081 - acc: 0.3715 - val_loss: 5.7573 - val_acc: 0.3204\n",
      "Epoch 8/50\n",
      "1459/1459 [==============================] - 0s - loss: 5.8126 - acc: 0.3160 - val_loss: 5.7573 - val_acc: 0.3204\n",
      "Epoch 9/50\n",
      "1459/1459 [==============================] - 0s - loss: 5.7874 - acc: 0.2978 - val_loss: 5.2346 - val_acc: 0.3286\n",
      "Epoch 10/50\n",
      "1459/1459 [==============================] - 0s - loss: 5.7602 - acc: 0.2886 - val_loss: 5.7573 - val_acc: 0.3204\n",
      "Epoch 11/50\n",
      "1459/1459 [==============================] - 0s - loss: 5.6702 - acc: 0.3136 - val_loss: 5.7573 - val_acc: 0.3204\n",
      "Epoch 12/50\n",
      "1459/1459 [==============================] - 0s - loss: 5.7389 - acc: 0.3180 - val_loss: 5.7573 - val_acc: 0.3204\n",
      "Epoch 13/50\n",
      "1459/1459 [==============================] - 0s - loss: 5.7558 - acc: 0.3194 - val_loss: 5.7573 - val_acc: 0.3204\n",
      "Epoch 14/50\n",
      "1459/1459 [==============================] - 0s - loss: 5.7628 - acc: 0.3208 - val_loss: 5.7573 - val_acc: 0.3204\n",
      "Epoch 15/50\n",
      "1459/1459 [==============================] - 0s - loss: 5.7635 - acc: 0.3215 - val_loss: 5.7573 - val_acc: 0.3204\n",
      "Epoch 16/50\n",
      "1459/1459 [==============================] - 0s - loss: 5.7373 - acc: 0.3215 - val_loss: 5.7573 - val_acc: 0.3204\n",
      "Epoch 17/50\n",
      "1459/1459 [==============================] - 0s - loss: 5.7520 - acc: 0.3215 - val_loss: 5.7573 - val_acc: 0.3204\n",
      "Epoch 18/50\n",
      "1459/1459 [==============================] - 0s - loss: 5.7684 - acc: 0.3211 - val_loss: 5.7573 - val_acc: 0.3204\n",
      "Epoch 19/50\n",
      "1459/1459 [==============================] - 0s - loss: 5.7416 - acc: 0.3211 - val_loss: 5.7573 - val_acc: 0.3204\n",
      "Epoch 20/50\n",
      "1459/1459 [==============================] - 0s - loss: 5.7738 - acc: 0.3204 - val_loss: 5.7573 - val_acc: 0.3204\n",
      "Epoch 21/50\n",
      "1459/1459 [==============================] - 0s - loss: 5.7848 - acc: 0.3204 - val_loss: 5.7573 - val_acc: 0.3204\n",
      "Epoch 22/50\n",
      "1459/1459 [==============================] - 0s - loss: 5.7575 - acc: 0.3218 - val_loss: 5.7573 - val_acc: 0.3204\n",
      "Epoch 23/50\n",
      "1459/1459 [==============================] - 0s - loss: 5.7469 - acc: 0.3221 - val_loss: 5.7573 - val_acc: 0.3204\n",
      "Epoch 24/50\n",
      "1459/1459 [==============================] - 0s - loss: 5.7574 - acc: 0.3215 - val_loss: 5.7573 - val_acc: 0.3204\n",
      "Epoch 25/50\n",
      "1459/1459 [==============================] - 0s - loss: 5.7574 - acc: 0.3211 - val_loss: 5.7573 - val_acc: 0.3204\n",
      "Epoch 26/50\n",
      "1459/1459 [==============================] - 0s - loss: 5.7578 - acc: 0.3208 - val_loss: 5.7573 - val_acc: 0.3204\n",
      "Epoch 27/50\n",
      "1459/1459 [==============================] - 0s - loss: 5.7317 - acc: 0.3239 - val_loss: 5.7573 - val_acc: 0.3204\n",
      "Epoch 28/50\n",
      "1459/1459 [==============================] - 0s - loss: 5.7360 - acc: 0.3228 - val_loss: 5.7573 - val_acc: 0.3204\n",
      "Epoch 29/50\n",
      "1459/1459 [==============================] - 0s - loss: 5.7697 - acc: 0.3218 - val_loss: 5.7573 - val_acc: 0.3204\n",
      "Epoch 30/50\n",
      "1459/1459 [==============================] - 0s - loss: 5.7643 - acc: 0.3218 - val_loss: 5.7573 - val_acc: 0.3204\n",
      "Epoch 31/50\n",
      "1459/1459 [==============================] - 0s - loss: 5.7522 - acc: 0.3225 - val_loss: 5.7573 - val_acc: 0.3204\n",
      "Epoch 32/50\n",
      "1459/1459 [==============================] - 0s - loss: 5.7585 - acc: 0.3215 - val_loss: 5.7573 - val_acc: 0.3204\n",
      "Epoch 33/50\n",
      "1459/1459 [==============================] - 0s - loss: 5.7415 - acc: 0.3215 - val_loss: 5.7573 - val_acc: 0.3204\n",
      "Epoch 34/50\n",
      "1459/1459 [==============================] - 0s - loss: 5.7637 - acc: 0.3215 - val_loss: 5.7573 - val_acc: 0.3204\n",
      "Epoch 35/50\n",
      "1459/1459 [==============================] - 0s - loss: 5.7473 - acc: 0.3211 - val_loss: 5.7573 - val_acc: 0.3204\n",
      "Epoch 36/50\n",
      "1459/1459 [==============================] - 0s - loss: 5.7631 - acc: 0.3218 - val_loss: 5.7573 - val_acc: 0.3204\n",
      "Epoch 37/50\n",
      "1459/1459 [==============================] - 0s - loss: 5.7260 - acc: 0.3225 - val_loss: 5.7573 - val_acc: 0.3204\n",
      "Epoch 38/50\n",
      "1459/1459 [==============================] - 0s - loss: 5.7468 - acc: 0.3221 - val_loss: 5.7573 - val_acc: 0.3204\n",
      "Epoch 39/50\n",
      "1459/1459 [==============================] - 0s - loss: 5.7910 - acc: 0.3215 - val_loss: 5.7573 - val_acc: 0.3204\n",
      "Epoch 40/50\n",
      "1459/1459 [==============================] - 0s - loss: 5.7576 - acc: 0.3228 - val_loss: 5.7573 - val_acc: 0.3204\n",
      "Epoch 41/50\n",
      "1459/1459 [==============================] - 0s - loss: 5.7524 - acc: 0.3235 - val_loss: 5.7573 - val_acc: 0.3204\n",
      "Epoch 42/50\n",
      "1459/1459 [==============================] - 0s - loss: 5.7476 - acc: 0.3235 - val_loss: 5.7573 - val_acc: 0.3204\n",
      "Epoch 43/50\n",
      "1459/1459 [==============================] - 0s - loss: 5.7580 - acc: 0.3228 - val_loss: 5.7573 - val_acc: 0.3204\n",
      "Epoch 44/50\n",
      "1459/1459 [==============================] - 0s - loss: 5.7527 - acc: 0.3239 - val_loss: 5.7573 - val_acc: 0.3204\n",
      "Epoch 45/50\n",
      "1459/1459 [==============================] - 0s - loss: 5.7311 - acc: 0.3228 - val_loss: 5.7573 - val_acc: 0.3204\n",
      "Epoch 46/50\n",
      "1459/1459 [==============================] - 0s - loss: 5.7796 - acc: 0.3379 - val_loss: 5.7573 - val_acc: 0.3204\n",
      "Epoch 47/50\n",
      "1459/1459 [==============================] - 0s - loss: 5.7450 - acc: 0.3568 - val_loss: 5.7573 - val_acc: 0.3204\n",
      "Epoch 48/50\n",
      "1459/1459 [==============================] - 0s - loss: 5.8540 - acc: 0.3718 - val_loss: 5.3298 - val_acc: 0.3472\n",
      "Epoch 49/50\n",
      "1459/1459 [==============================] - 0s - loss: 6.0074 - acc: 0.3965 - val_loss: 5.7361 - val_acc: 0.3215\n",
      "Epoch 50/50\n",
      "1459/1459 [==============================] - 0s - loss: 6.0504 - acc: 0.3855 - val_loss: 5.7412 - val_acc: 0.3211\n",
      "1216/1459 [========================>.....] - ETA: 0s\n",
      "acc: 32.11%\n"
     ]
    }
   ],
   "source": [
    "# Fit the model 1\n",
    "history = model.fit(X, Y, epochs=50, batch_size=10,\n",
    "          validation_data=(X_test, Y_test))\n",
    "# evaluate the model\n",
    "scores = model.evaluate(X, Y)\n",
    "print(\"\\n%s: %.2f%%\" % (model.metrics_names[1], scores[1]*100))"
   ]
  },
  {
   "cell_type": "code",
   "execution_count": 7,
   "metadata": {
    "scrolled": true
   },
   "outputs": [
    {
     "name": "stdout",
     "output_type": "stream",
     "text": [
      "dict_keys(['loss', 'acc', 'val_acc', 'val_loss'])\n"
     ]
    },
    {
     "data": {
      "image/png": "[encoded data removed]",
      "text/plain": [
       "<matplotlib.figure.Figure at 0x7f9df4543d68>"
      ]
     },
     "metadata": {},
     "output_type": "display_data"
    },
    {
     "data": {
      "image/png": "[encoded data removed]",
      "text/plain": [
       "<matplotlib.figure.Figure at 0x7f9df44d4e48>"
      ]
     },
     "metadata": {},
     "output_type": "display_data"
    }
   ],
   "source": [
    "print(history.history.keys())\n",
    "#  \"Accuracy\"\n",
    "plt.plot(history.history['acc'])\n",
    "plt.plot(history.history['val_acc'])\n",
    "plt.title('model accuracy')\n",
    "plt.ylabel('accuracy')\n",
    "plt.xlabel('epoch')\n",
    "plt.legend(['train', 'validation'], loc='upper left')\n",
    "plt.show()\n",
    "\n",
    "# \"Loss\"\n",
    "plt.plot(history.history['loss'])\n",
    "plt.plot(history.history['val_loss'])\n",
    "plt.title('model loss')\n",
    "plt.ylabel('loss')\n",
    "plt.xlabel('epoch')\n",
    "plt.legend(['train', 'validation'], loc='upper left')\n",
    "plt.show()"
   ]
  },
  {
   "cell_type": "code",
   "execution_count": null,
   "metadata": {},
   "outputs": [],
   "source": []
  }
 ],
 "metadata": {
  "kernelspec": {
   "display_name": "Python 3",
   "language": "python",
   "name": "python3"
  },
  "language_info": {
   "codemirror_mode": {
    "name": "ipython",
    "version": 3
   },
   "file_extension": ".py",
   "mimetype": "text/x-python",
   "name": "python",
   "nbconvert_exporter": "python",
   "pygments_lexer": "ipython3",
   "version": "3.5.2"
  }
 },
 "nbformat": 4,
 "nbformat_minor": 2
}
