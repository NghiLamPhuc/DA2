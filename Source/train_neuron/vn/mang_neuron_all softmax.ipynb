{
 "cells": [
  {
   "cell_type": "code",
   "execution_count": 1,
   "metadata": {},
   "outputs": [
    {
     "name": "stderr",
     "output_type": "stream",
     "text": [
      "Using TensorFlow backend.\n"
     ]
    }
   ],
   "source": [
    "# Create your first MLP in Keras\n",
    "import keras\n",
    "from keras.models import Sequential\n",
    "from keras.layers import Dense, Dropout, Flatten, Activation\n",
    "import os\n",
    "import numpy as np\n",
    "from scipy import sparse\n",
    "import matplotlib.pyplot as plt"
   ]
  },
  {
   "cell_type": "code",
   "execution_count": 2,
   "metadata": {},
   "outputs": [],
   "source": [
    "# fix random seed for reproducibility\n",
    "np.random.seed(1)"
   ]
  },
  {
   "cell_type": "code",
   "execution_count": 3,
   "metadata": {},
   "outputs": [],
   "source": [
    "\n",
    "dataset = np.loadtxt(\"train_vn.txt\")\n",
    "# split into input (X) and output (Y) variables\n",
    "X = dataset[:,0:300]\n",
    "Y = dataset[:,300]\n",
    "Y = keras.utils.to_categorical(Y, num_classes=2)\n",
    "\n",
    "test_data = np.loadtxt(\"test_vn.txt\")\n",
    "# split into input (X) and output (Y) variables\n",
    "X_test = dataset[:,0:300]\n",
    "Y_test = dataset[:,300]\n",
    "Y_test = keras.utils.to_categorical(Y_test, num_classes=2)\n",
    "\n"
   ]
  },
  {
   "cell_type": "code",
   "execution_count": 8,
   "metadata": {},
   "outputs": [],
   "source": [
    "# create model\n",
    "model = Sequential()\n",
    "model.add(Dense(100, input_dim=300, activation='softmax'))\n",
    "model.add(Dropout(0.5))\n",
    "model.add(Dense(2, activation='softmax'))\n",
    "# Compile model\n",
    "model.compile(optimizer='sgd',loss='binary_crossentropy',metrics=['accuracy'])"
   ]
  },
  {
   "cell_type": "code",
   "execution_count": 9,
   "metadata": {},
   "outputs": [
    {
     "name": "stdout",
     "output_type": "stream",
     "text": [
      "_________________________________________________________________\n",
      "Layer (type)                 Output Shape              Param #   \n",
      "=================================================================\n",
      "dense_3 (Dense)              (None, 100)               30100     \n",
      "_________________________________________________________________\n",
      "dropout_2 (Dropout)          (None, 100)               0         \n",
      "_________________________________________________________________\n",
      "dense_4 (Dense)              (None, 2)                 202       \n",
      "=================================================================\n",
      "Total params: 30,302\n",
      "Trainable params: 30,302\n",
      "Non-trainable params: 0\n",
      "_________________________________________________________________\n"
     ]
    }
   ],
   "source": [
    "model.summary()"
   ]
  },
  {
   "cell_type": "code",
   "execution_count": 10,
   "metadata": {
    "scrolled": true
   },
   "outputs": [
    {
     "name": "stdout",
     "output_type": "stream",
     "text": [
      "Train on 1459 samples, validate on 1459 samples\n",
      "Epoch 1/50\n",
      "1459/1459 [==============================] - 0s - loss: 0.6171 - acc: 0.6477 - val_loss: 0.5410 - val_acc: 0.7656\n",
      "Epoch 2/50\n",
      "1459/1459 [==============================] - 0s - loss: 0.5225 - acc: 0.7478 - val_loss: 0.4769 - val_acc: 0.8259\n",
      "Epoch 3/50\n",
      "1459/1459 [==============================] - 0s - loss: 0.4720 - acc: 0.8005 - val_loss: 0.4366 - val_acc: 0.8321\n",
      "Epoch 4/50\n",
      "1459/1459 [==============================] - 0s - loss: 0.4454 - acc: 0.8239 - val_loss: 0.4067 - val_acc: 0.8595\n",
      "Epoch 5/50\n",
      "1459/1459 [==============================] - 0s - loss: 0.4218 - acc: 0.8396 - val_loss: 0.3970 - val_acc: 0.8588\n",
      "Epoch 6/50\n",
      "1459/1459 [==============================] - 0s - loss: 0.4044 - acc: 0.8430 - val_loss: 0.3693 - val_acc: 0.8705\n",
      "Epoch 7/50\n",
      "1459/1459 [==============================] - 0s - loss: 0.3781 - acc: 0.8588 - val_loss: 0.3558 - val_acc: 0.8732\n",
      "Epoch 8/50\n",
      "1459/1459 [==============================] - 0s - loss: 0.3696 - acc: 0.8540 - val_loss: 0.3457 - val_acc: 0.8766\n",
      "Epoch 9/50\n",
      "1459/1459 [==============================] - 0s - loss: 0.3621 - acc: 0.8588 - val_loss: 0.3368 - val_acc: 0.8753\n",
      "Epoch 10/50\n",
      "1459/1459 [==============================] - 0s - loss: 0.3520 - acc: 0.8711 - val_loss: 0.3290 - val_acc: 0.8780\n",
      "Epoch 11/50\n",
      "1459/1459 [==============================] - 0s - loss: 0.3424 - acc: 0.8657 - val_loss: 0.3230 - val_acc: 0.8780\n",
      "Epoch 12/50\n",
      "1459/1459 [==============================] - 0s - loss: 0.3364 - acc: 0.8691 - val_loss: 0.3188 - val_acc: 0.8787\n",
      "Epoch 13/50\n",
      "1459/1459 [==============================] - 0s - loss: 0.3399 - acc: 0.8718 - val_loss: 0.3109 - val_acc: 0.8814\n",
      "Epoch 14/50\n",
      "1459/1459 [==============================] - 0s - loss: 0.3332 - acc: 0.8766 - val_loss: 0.3065 - val_acc: 0.8814\n",
      "Epoch 15/50\n",
      "1459/1459 [==============================] - 0s - loss: 0.3266 - acc: 0.8746 - val_loss: 0.3108 - val_acc: 0.8807\n",
      "Epoch 16/50\n",
      "1459/1459 [==============================] - 0s - loss: 0.3201 - acc: 0.8821 - val_loss: 0.3006 - val_acc: 0.8842\n",
      "Epoch 17/50\n",
      "1459/1459 [==============================] - 0s - loss: 0.3199 - acc: 0.8732 - val_loss: 0.2943 - val_acc: 0.8855\n",
      "Epoch 18/50\n",
      "1459/1459 [==============================] - 0s - loss: 0.3154 - acc: 0.8766 - val_loss: 0.2931 - val_acc: 0.8903\n",
      "Epoch 19/50\n",
      "1459/1459 [==============================] - 0s - loss: 0.3081 - acc: 0.8807 - val_loss: 0.2900 - val_acc: 0.8869\n",
      "Epoch 20/50\n",
      "1459/1459 [==============================] - 0s - loss: 0.3090 - acc: 0.8787 - val_loss: 0.2851 - val_acc: 0.8876\n",
      "Epoch 21/50\n",
      "1459/1459 [==============================] - 0s - loss: 0.3052 - acc: 0.8780 - val_loss: 0.2816 - val_acc: 0.8897\n",
      "Epoch 22/50\n",
      "1459/1459 [==============================] - 0s - loss: 0.3039 - acc: 0.8828 - val_loss: 0.2797 - val_acc: 0.8958\n",
      "Epoch 23/50\n",
      "1459/1459 [==============================] - 0s - loss: 0.2880 - acc: 0.8876 - val_loss: 0.2765 - val_acc: 0.8903\n",
      "Epoch 24/50\n",
      "1459/1459 [==============================] - 0s - loss: 0.2903 - acc: 0.8869 - val_loss: 0.2736 - val_acc: 0.8972\n",
      "Epoch 25/50\n",
      "1459/1459 [==============================] - 0s - loss: 0.2974 - acc: 0.8814 - val_loss: 0.2727 - val_acc: 0.8972\n",
      "Epoch 26/50\n",
      "1459/1459 [==============================] - 0s - loss: 0.2891 - acc: 0.8897 - val_loss: 0.2691 - val_acc: 0.8972\n",
      "Epoch 27/50\n",
      "1459/1459 [==============================] - 0s - loss: 0.2853 - acc: 0.8931 - val_loss: 0.2680 - val_acc: 0.8999\n",
      "Epoch 28/50\n",
      "1459/1459 [==============================] - 0s - loss: 0.2893 - acc: 0.8903 - val_loss: 0.2648 - val_acc: 0.8999\n",
      "Epoch 29/50\n",
      "1459/1459 [==============================] - 0s - loss: 0.2854 - acc: 0.8869 - val_loss: 0.2637 - val_acc: 0.8986\n",
      "Epoch 30/50\n",
      "1459/1459 [==============================] - 0s - loss: 0.2754 - acc: 0.8910 - val_loss: 0.2612 - val_acc: 0.9006\n",
      "Epoch 31/50\n",
      "1459/1459 [==============================] - 0s - loss: 0.2860 - acc: 0.8869 - val_loss: 0.2647 - val_acc: 0.9006\n",
      "Epoch 32/50\n",
      "1459/1459 [==============================] - 0s - loss: 0.2758 - acc: 0.8917 - val_loss: 0.2595 - val_acc: 0.8972\n",
      "Epoch 33/50\n",
      "1459/1459 [==============================] - 0s - loss: 0.2804 - acc: 0.8890 - val_loss: 0.2579 - val_acc: 0.8972\n",
      "Epoch 34/50\n",
      "1459/1459 [==============================] - 0s - loss: 0.2813 - acc: 0.8897 - val_loss: 0.2604 - val_acc: 0.8951\n",
      "Epoch 35/50\n",
      "1459/1459 [==============================] - 0s - loss: 0.2775 - acc: 0.8876 - val_loss: 0.2536 - val_acc: 0.8999\n",
      "Epoch 36/50\n",
      "1459/1459 [==============================] - 0s - loss: 0.2672 - acc: 0.8869 - val_loss: 0.2575 - val_acc: 0.9047\n",
      "Epoch 37/50\n",
      "1459/1459 [==============================] - 0s - loss: 0.2689 - acc: 0.8951 - val_loss: 0.2526 - val_acc: 0.9034\n",
      "Epoch 38/50\n",
      "1459/1459 [==============================] - 0s - loss: 0.2758 - acc: 0.8972 - val_loss: 0.2481 - val_acc: 0.9013\n",
      "Epoch 39/50\n",
      "1459/1459 [==============================] - 0s - loss: 0.2670 - acc: 0.8972 - val_loss: 0.2476 - val_acc: 0.9020\n",
      "Epoch 40/50\n",
      "1459/1459 [==============================] - 0s - loss: 0.2689 - acc: 0.8992 - val_loss: 0.2452 - val_acc: 0.9006\n",
      "Epoch 41/50\n",
      "1459/1459 [==============================] - 0s - loss: 0.2620 - acc: 0.8958 - val_loss: 0.2449 - val_acc: 0.9047\n",
      "Epoch 42/50\n",
      "1459/1459 [==============================] - 0s - loss: 0.2709 - acc: 0.8910 - val_loss: 0.2431 - val_acc: 0.9047\n",
      "Epoch 43/50\n",
      "1459/1459 [==============================] - 0s - loss: 0.2738 - acc: 0.8862 - val_loss: 0.2430 - val_acc: 0.9047\n",
      "Epoch 44/50\n",
      "1459/1459 [==============================] - 0s - loss: 0.2615 - acc: 0.9013 - val_loss: 0.2403 - val_acc: 0.9034\n",
      "Epoch 45/50\n",
      "1459/1459 [==============================] - 0s - loss: 0.2584 - acc: 0.8965 - val_loss: 0.2393 - val_acc: 0.9054\n",
      "Epoch 46/50\n",
      "1459/1459 [==============================] - 0s - loss: 0.2572 - acc: 0.9047 - val_loss: 0.2421 - val_acc: 0.9047\n",
      "Epoch 47/50\n",
      "1459/1459 [==============================] - 0s - loss: 0.2599 - acc: 0.9075 - val_loss: 0.2417 - val_acc: 0.9034\n",
      "Epoch 48/50\n",
      "1459/1459 [==============================] - 0s - loss: 0.2621 - acc: 0.8972 - val_loss: 0.2355 - val_acc: 0.9040\n",
      "Epoch 49/50\n",
      "1459/1459 [==============================] - 0s - loss: 0.2581 - acc: 0.8986 - val_loss: 0.2409 - val_acc: 0.9027\n",
      "Epoch 50/50\n",
      "1459/1459 [==============================] - 0s - loss: 0.2499 - acc: 0.9095 - val_loss: 0.2335 - val_acc: 0.9088\n",
      "1184/1459 [=======================>......] - ETA: 0s\n",
      "acc: 90.88%\n"
     ]
    }
   ],
   "source": [
    "# Fit the model 1\n",
    "history = model.fit(X, Y, epochs=50, batch_size=10,\n",
    "          validation_data=(X_test, Y_test))\n",
    "# evaluate the model\n",
    "scores = model.evaluate(X, Y)\n",
    "print(\"\\n%s: %.2f%%\" % (model.metrics_names[1], scores[1]*100))"
   ]
  },
  {
   "cell_type": "code",
   "execution_count": 11,
   "metadata": {
    "scrolled": true
   },
   "outputs": [
    {
     "name": "stdout",
     "output_type": "stream",
     "text": [
      "dict_keys(['val_acc', 'loss', 'val_loss', 'acc'])\n"
     ]
    },
    {
     "data": {
      "image/png": "[encoded data removed]",
      "text/plain": [
       "<matplotlib.figure.Figure at 0x7fe7296b6438>"
      ]
     },
     "metadata": {},
     "output_type": "display_data"
    },
    {
     "data": {
      "image/png": "[encoded data removed]",
      "text/plain": [
       "<matplotlib.figure.Figure at 0x7fe728e6d438>"
      ]
     },
     "metadata": {},
     "output_type": "display_data"
    }
   ],
   "source": [
    "print(history.history.keys())\n",
    "#  \"Accuracy\"\n",
    "plt.plot(history.history['acc'])\n",
    "plt.plot(history.history['val_acc'])\n",
    "plt.title('model accuracy')\n",
    "plt.ylabel('accuracy')\n",
    "plt.xlabel('epoch')\n",
    "plt.legend(['train', 'validation'], loc='upper left')\n",
    "plt.show()\n",
    "\n",
    "# \"Loss\"\n",
    "plt.plot(history.history['loss'])\n",
    "plt.plot(history.history['val_loss'])\n",
    "plt.title('model loss')\n",
    "plt.ylabel('loss')\n",
    "plt.xlabel('epoch')\n",
    "plt.legend(['train', 'validation'], loc='upper left')\n",
    "plt.show()"
   ]
  },
  {
   "cell_type": "code",
   "execution_count": null,
   "metadata": {},
   "outputs": [],
   "source": []
  }
 ],
 "metadata": {
  "kernelspec": {
   "display_name": "Python 3",
   "language": "python",
   "name": "python3"
  },
  "language_info": {
   "codemirror_mode": {
    "name": "ipython",
    "version": 3
   },
   "file_extension": ".py",
   "mimetype": "text/x-python",
   "name": "python",
   "nbconvert_exporter": "python",
   "pygments_lexer": "ipython3",
   "version": "3.5.2"
  }
 },
 "nbformat": 4,
 "nbformat_minor": 2
}
