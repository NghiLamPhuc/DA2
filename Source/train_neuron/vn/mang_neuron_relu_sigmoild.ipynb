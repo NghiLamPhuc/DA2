{
 "cells": [
  {
   "cell_type": "code",
   "execution_count": 1,
   "metadata": {},
   "outputs": [
    {
     "name": "stderr",
     "output_type": "stream",
     "text": [
      "Using TensorFlow backend.\n"
     ]
    }
   ],
   "source": [
    "# Create your first MLP in Keras\n",
    "import keras\n",
    "from keras.models import Sequential\n",
    "from keras.layers import Dense, Dropout, Flatten, Activation\n",
    "import os\n",
    "import numpy as np\n",
    "from scipy import sparse\n",
    "import matplotlib.pyplot as plt"
   ]
  },
  {
   "cell_type": "code",
   "execution_count": 2,
   "metadata": {},
   "outputs": [],
   "source": [
    "# fix random seed for reproducibility\n",
    "np.random.seed(1)"
   ]
  },
  {
   "cell_type": "code",
   "execution_count": 3,
   "metadata": {},
   "outputs": [],
   "source": [
    "\n",
    "dataset = np.loadtxt(\"train_vn.txt\")\n",
    "# split into input (X) and output (Y) variables\n",
    "X = dataset[:,0:300]\n",
    "Y = dataset[:,300]\n",
    "Y = keras.utils.to_categorical(Y, num_classes=2)\n",
    "\n",
    "test_data = np.loadtxt(\"test_vn.txt\")\n",
    "# split into input (X) and output (Y) variables\n",
    "X_test = dataset[:,0:300]\n",
    "Y_test = dataset[:,300]\n",
    "Y_test = keras.utils.to_categorical(Y_test, num_classes=2)\n",
    "\n"
   ]
  },
  {
   "cell_type": "code",
   "execution_count": 4,
   "metadata": {},
   "outputs": [],
   "source": [
    "# create model\n",
    "model = Sequential()\n",
    "model.add(Dense(100, input_dim=300, activation='relu'))\n",
    "model.add(Dropout(0.5))\n",
    "# model.add(Dense(150, activation='relu'))\n",
    "# model.add(Dropout(0.5))\n",
    "model.add(Dense(2, activation='sigmoid'))\n",
    "# Compile model\n",
    "model.compile(optimizer='sgd',loss='binary_crossentropy',metrics=['accuracy'])"
   ]
  },
  {
   "cell_type": "code",
   "execution_count": 5,
   "metadata": {},
   "outputs": [
    {
     "name": "stdout",
     "output_type": "stream",
     "text": [
      "_________________________________________________________________\n",
      "Layer (type)                 Output Shape              Param #   \n",
      "=================================================================\n",
      "dense_1 (Dense)              (None, 100)               30100     \n",
      "_________________________________________________________________\n",
      "dropout_1 (Dropout)          (None, 100)               0         \n",
      "_________________________________________________________________\n",
      "dense_2 (Dense)              (None, 2)                 202       \n",
      "=================================================================\n",
      "Total params: 30,302\n",
      "Trainable params: 30,302\n",
      "Non-trainable params: 0\n",
      "_________________________________________________________________\n"
     ]
    }
   ],
   "source": [
    "model.summary()"
   ]
  },
  {
   "cell_type": "code",
   "execution_count": 6,
   "metadata": {
    "scrolled": true
   },
   "outputs": [
    {
     "name": "stdout",
     "output_type": "stream",
     "text": [
      "Train on 1459 samples, validate on 1459 samples\n",
      "Epoch 1/50\n",
      "1459/1459 [==============================] - 0s - loss: 0.6621 - acc: 0.6086 - val_loss: 0.6351 - val_acc: 0.6412\n",
      "Epoch 2/50\n",
      "1459/1459 [==============================] - 0s - loss: 0.6317 - acc: 0.6378 - val_loss: 0.6118 - val_acc: 0.6408\n",
      "Epoch 3/50\n",
      "1459/1459 [==============================] - 0s - loss: 0.6076 - acc: 0.6480 - val_loss: 0.5893 - val_acc: 0.6453\n",
      "Epoch 4/50\n",
      "1459/1459 [==============================] - 0s - loss: 0.5893 - acc: 0.6638 - val_loss: 0.5680 - val_acc: 0.6580\n",
      "Epoch 5/50\n",
      "1459/1459 [==============================] - 0s - loss: 0.5672 - acc: 0.6902 - val_loss: 0.5472 - val_acc: 0.6761\n",
      "Epoch 6/50\n",
      "1459/1459 [==============================] - 0s - loss: 0.5466 - acc: 0.7183 - val_loss: 0.5270 - val_acc: 0.7132\n",
      "Epoch 7/50\n",
      "1459/1459 [==============================] - 0s - loss: 0.5320 - acc: 0.7402 - val_loss: 0.5076 - val_acc: 0.7553\n",
      "Epoch 8/50\n",
      "1459/1459 [==============================] - 0s - loss: 0.5073 - acc: 0.7649 - val_loss: 0.4892 - val_acc: 0.7838\n",
      "Epoch 9/50\n",
      "1459/1459 [==============================] - 0s - loss: 0.4965 - acc: 0.7790 - val_loss: 0.4725 - val_acc: 0.8259\n",
      "Epoch 10/50\n",
      "1459/1459 [==============================] - 0s - loss: 0.4764 - acc: 0.7978 - val_loss: 0.4571 - val_acc: 0.8413\n",
      "Epoch 11/50\n",
      "1459/1459 [==============================] - 0s - loss: 0.4578 - acc: 0.8136 - val_loss: 0.4429 - val_acc: 0.8276\n",
      "Epoch 12/50\n",
      "1459/1459 [==============================] - 0s - loss: 0.4511 - acc: 0.8187 - val_loss: 0.4292 - val_acc: 0.8448\n",
      "Epoch 13/50\n",
      "1459/1459 [==============================] - 0s - loss: 0.4451 - acc: 0.8245 - val_loss: 0.4180 - val_acc: 0.8465\n",
      "Epoch 14/50\n",
      "1459/1459 [==============================] - 0s - loss: 0.4256 - acc: 0.8376 - val_loss: 0.4062 - val_acc: 0.8540\n",
      "Epoch 15/50\n",
      "1459/1459 [==============================] - 0s - loss: 0.4175 - acc: 0.8314 - val_loss: 0.3970 - val_acc: 0.8581\n",
      "Epoch 16/50\n",
      "1459/1459 [==============================] - 0s - loss: 0.4186 - acc: 0.8338 - val_loss: 0.3892 - val_acc: 0.8622\n",
      "Epoch 17/50\n",
      "1459/1459 [==============================] - 0s - loss: 0.4048 - acc: 0.8417 - val_loss: 0.3818 - val_acc: 0.8636\n",
      "Epoch 18/50\n",
      "1459/1459 [==============================] - 0s - loss: 0.4013 - acc: 0.8526 - val_loss: 0.3753 - val_acc: 0.8643\n",
      "Epoch 19/50\n",
      "1459/1459 [==============================] - 0s - loss: 0.3857 - acc: 0.8502 - val_loss: 0.3678 - val_acc: 0.8691\n",
      "Epoch 20/50\n",
      "1459/1459 [==============================] - 0s - loss: 0.3926 - acc: 0.8475 - val_loss: 0.3633 - val_acc: 0.8708\n",
      "Epoch 21/50\n",
      "1459/1459 [==============================] - 0s - loss: 0.3778 - acc: 0.8516 - val_loss: 0.3563 - val_acc: 0.8725\n",
      "Epoch 22/50\n",
      "1459/1459 [==============================] - 0s - loss: 0.3823 - acc: 0.8639 - val_loss: 0.3520 - val_acc: 0.8718\n",
      "Epoch 23/50\n",
      "1459/1459 [==============================] - 0s - loss: 0.3740 - acc: 0.8482 - val_loss: 0.3479 - val_acc: 0.8729\n",
      "Epoch 24/50\n",
      "1459/1459 [==============================] - 0s - loss: 0.3700 - acc: 0.8557 - val_loss: 0.3432 - val_acc: 0.8753\n",
      "Epoch 25/50\n",
      "1459/1459 [==============================] - 0s - loss: 0.3644 - acc: 0.8646 - val_loss: 0.3390 - val_acc: 0.8759\n",
      "Epoch 26/50\n",
      "1459/1459 [==============================] - 0s - loss: 0.3591 - acc: 0.8646 - val_loss: 0.3355 - val_acc: 0.8759\n",
      "Epoch 27/50\n",
      "1459/1459 [==============================] - 0s - loss: 0.3607 - acc: 0.8639 - val_loss: 0.3312 - val_acc: 0.8770\n",
      "Epoch 28/50\n",
      "1459/1459 [==============================] - 0s - loss: 0.3556 - acc: 0.8557 - val_loss: 0.3288 - val_acc: 0.8780\n",
      "Epoch 29/50\n",
      "1459/1459 [==============================] - 0s - loss: 0.3476 - acc: 0.8681 - val_loss: 0.3248 - val_acc: 0.8787\n",
      "Epoch 30/50\n",
      "1459/1459 [==============================] - 0s - loss: 0.3495 - acc: 0.8759 - val_loss: 0.3238 - val_acc: 0.8801\n",
      "Epoch 31/50\n",
      "1459/1459 [==============================] - 0s - loss: 0.3430 - acc: 0.8643 - val_loss: 0.3191 - val_acc: 0.8797\n",
      "Epoch 32/50\n",
      "1459/1459 [==============================] - 0s - loss: 0.3483 - acc: 0.8646 - val_loss: 0.3162 - val_acc: 0.8831\n",
      "Epoch 33/50\n",
      "1459/1459 [==============================] - 0s - loss: 0.3305 - acc: 0.8677 - val_loss: 0.3142 - val_acc: 0.8821\n",
      "Epoch 34/50\n",
      "1459/1459 [==============================] - 0s - loss: 0.3317 - acc: 0.8739 - val_loss: 0.3109 - val_acc: 0.8831\n",
      "Epoch 35/50\n",
      "1459/1459 [==============================] - 0s - loss: 0.3371 - acc: 0.8759 - val_loss: 0.3085 - val_acc: 0.8825\n",
      "Epoch 36/50\n",
      "1459/1459 [==============================] - 0s - loss: 0.3330 - acc: 0.8711 - val_loss: 0.3072 - val_acc: 0.8842\n",
      "Epoch 37/50\n",
      "1459/1459 [==============================] - 0s - loss: 0.3290 - acc: 0.8766 - val_loss: 0.3037 - val_acc: 0.8845\n",
      "Epoch 38/50\n",
      "1459/1459 [==============================] - 0s - loss: 0.3269 - acc: 0.8739 - val_loss: 0.3015 - val_acc: 0.8852\n",
      "Epoch 39/50\n",
      "1459/1459 [==============================] - 0s - loss: 0.3234 - acc: 0.8742 - val_loss: 0.3003 - val_acc: 0.8845\n",
      "Epoch 40/50\n",
      "1459/1459 [==============================] - 0s - loss: 0.3274 - acc: 0.8718 - val_loss: 0.2978 - val_acc: 0.8855\n",
      "Epoch 41/50\n",
      "1459/1459 [==============================] - 0s - loss: 0.3229 - acc: 0.8763 - val_loss: 0.2957 - val_acc: 0.8866\n",
      "Epoch 42/50\n",
      "1459/1459 [==============================] - 0s - loss: 0.3154 - acc: 0.8777 - val_loss: 0.2934 - val_acc: 0.8873\n",
      "Epoch 43/50\n",
      "1459/1459 [==============================] - 0s - loss: 0.3104 - acc: 0.8859 - val_loss: 0.2909 - val_acc: 0.8893\n",
      "Epoch 44/50\n",
      "1459/1459 [==============================] - 0s - loss: 0.3077 - acc: 0.8883 - val_loss: 0.2886 - val_acc: 0.8900\n",
      "Epoch 45/50\n",
      "1459/1459 [==============================] - 0s - loss: 0.3106 - acc: 0.8821 - val_loss: 0.2875 - val_acc: 0.8907\n",
      "Epoch 46/50\n",
      "1459/1459 [==============================] - 0s - loss: 0.3108 - acc: 0.8777 - val_loss: 0.2855 - val_acc: 0.8910\n",
      "Epoch 47/50\n",
      "1459/1459 [==============================] - 0s - loss: 0.3122 - acc: 0.8842 - val_loss: 0.2838 - val_acc: 0.8907\n",
      "Epoch 48/50\n",
      "1459/1459 [==============================] - 0s - loss: 0.3090 - acc: 0.8807 - val_loss: 0.2830 - val_acc: 0.8934\n",
      "Epoch 49/50\n",
      "1459/1459 [==============================] - 0s - loss: 0.2982 - acc: 0.8797 - val_loss: 0.2800 - val_acc: 0.8917\n",
      "Epoch 50/50\n",
      "1459/1459 [==============================] - 0s - loss: 0.3039 - acc: 0.8869 - val_loss: 0.2785 - val_acc: 0.8924\n",
      "1024/1459 [====================>.........] - ETA: 0s\n",
      "acc: 89.24%\n"
     ]
    }
   ],
   "source": [
    "# Fit the model 1\n",
    "history = model.fit(X, Y, epochs=50, batch_size=10,\n",
    "          validation_data=(X_test, Y_test))\n",
    "# evaluate the model\n",
    "scores = model.evaluate(X, Y)\n",
    "print(\"\\n%s: %.2f%%\" % (model.metrics_names[1], scores[1]*100))"
   ]
  },
  {
   "cell_type": "code",
   "execution_count": 7,
   "metadata": {
    "scrolled": true
   },
   "outputs": [
    {
     "name": "stdout",
     "output_type": "stream",
     "text": [
      "dict_keys(['val_loss', 'val_acc', 'acc', 'loss'])\n"
     ]
    },
    {
     "data": {
      "image/png": "[encoded data removed]",
      "text/plain": [
       "<matplotlib.figure.Figure at 0x7f6c1c32b6a0>"
      ]
     },
     "metadata": {},
     "output_type": "display_data"
    },
    {
     "data": {
      "image/png": "[encoded data removed]",
      "text/plain": [
       "<matplotlib.figure.Figure at 0x7f6c1c1f04a8>"
      ]
     },
     "metadata": {},
     "output_type": "display_data"
    }
   ],
   "source": [
    "print(history.history.keys())\n",
    "#  \"Accuracy\"\n",
    "plt.plot(history.history['acc'])\n",
    "plt.plot(history.history['val_acc'])\n",
    "plt.title('model accuracy')\n",
    "plt.ylabel('accuracy')\n",
    "plt.xlabel('epoch')\n",
    "plt.legend(['train', 'validation'], loc='upper left')\n",
    "plt.show()\n",
    "\n",
    "# \"Loss\"\n",
    "plt.plot(history.history['loss'])\n",
    "plt.plot(history.history['val_loss'])\n",
    "plt.title('model loss')\n",
    "plt.ylabel('loss')\n",
    "plt.xlabel('epoch')\n",
    "plt.legend(['train', 'validation'], loc='upper left')\n",
    "plt.show()"
   ]
  },
  {
   "cell_type": "code",
   "execution_count": null,
   "metadata": {},
   "outputs": [],
   "source": []
  }
 ],
 "metadata": {
  "kernelspec": {
   "display_name": "Python 3",
   "language": "python",
   "name": "python3"
  },
  "language_info": {
   "codemirror_mode": {
    "name": "ipython",
    "version": 3
   },
   "file_extension": ".py",
   "mimetype": "text/x-python",
   "name": "python",
   "nbconvert_exporter": "python",
   "pygments_lexer": "ipython3",
   "version": "3.5.2"
  }
 },
 "nbformat": 4,
 "nbformat_minor": 2
}
